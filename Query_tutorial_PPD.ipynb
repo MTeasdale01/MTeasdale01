{
  "cells": [
    {
      "cell_type": "markdown",
      "metadata": {
        "editable": true,
        "tags": [
          "first"
        ],
        "id": "W1CULAmznqzE"
      },
      "source": [
        "# ALMA Science Archive Query Tools\n",
        "### **Martina Torsello**\n",
        "\n",
        "#### **The Birth of Solar Systems Summer School**\n",
        "#### **3 March 2025**"
      ]
    },
    {
      "cell_type": "markdown",
      "metadata": {
        "editable": true,
        "tags": [
          "bold"
        ],
        "id": "sXLiCxv2nqzH"
      },
      "source": [
        "## Query Tools Notebook\n",
        "\n",
        "This notebook is designed to help you learn how to utilize query tools within the [ALMA Science Archive (ASA)](https://almascience.eso.org/aq/).\n",
        "\n",
        "### How to Use\n",
        "Each cell can be executed by pressing <kbd>Shift</kbd>+<kbd>Enter</kbd>, you may enter your attempts in the empty cells and create new cells by clicking the <kbd>+Code</kbd> button.\n",
        "\n",
        "You can run it using Google Colab or Jupyter Notebook in your own python/conda environment.\n",
        "\n",
        "**To open the notebook in Colab:**  &emsp;&emsp;&emsp;&emsp;&emsp;&emsp;&emsp;&emsp;&emsp;&emsp;&emsp;&emsp;&emsp;&emsp;&emsp;&emsp;&emsp;&emsp;&emsp;&emsp;&emsp;&emsp;&emsp; https://colab.research.google.com/github/martitors/PPD_School_2025/blob/main/Query_tutorial_PPD.ipynb\n",
        "\n",
        "**To download the notebook and work with it in your local station:** &emsp;&emsp;&emsp;&emsp;&emsp;&emsp;&emsp;&emsp; https://github.com/martitors/PPD_School_2025/blob/main/Query_tutorial_PPD.ipynb"
      ]
    },
    {
      "cell_type": "markdown",
      "metadata": {
        "editable": true,
        "tags": [],
        "id": "VYg2q0pHnqzI"
      },
      "source": [
        "## Parts Overview\n",
        "\n",
        "In this notebook we will see three of the most popular query tools:\n",
        "\n",
        "### [Part 1. pyVO](#pyVO)\n",
        "### [Part 2. astroquery](#astroquery)\n",
        "### [Part 3. ALminer](#alminer)\n",
        "### [Part 4. Exercise](#workstation)"
      ]
    },
    {
      "cell_type": "markdown",
      "metadata": {
        "editable": true,
        "tags": [],
        "id": "SkqEKec0nqzJ"
      },
      "source": [
        "## Packages installation\n",
        "### **Google Colab**\n",
        "If you are using Colab, the installation of the different packages will be done through *pip*."
      ]
    },
    {
      "cell_type": "code",
      "execution_count": 23,
      "metadata": {
        "editable": true,
        "tags": [],
        "colab": {
          "base_uri": "https://localhost:8080/"
        },
        "id": "a5fOKuLOnqzK",
        "outputId": "8392a818-0af9-458a-e66d-940f266d954d"
      },
      "outputs": [
        {
          "output_type": "stream",
          "name": "stdout",
          "text": [
            "Collecting https://github.com/emerge-erc/ALminer/archive/refs/heads/main.zip\n",
            "  Using cached https://github.com/emerge-erc/ALminer/archive/refs/heads/main.zip\n",
            "  Installing build dependencies ... \u001b[?25l\u001b[?25hdone\n",
            "  Getting requirements to build wheel ... \u001b[?25l\u001b[?25hdone\n",
            "  Preparing metadata (pyproject.toml) ... \u001b[?25l\u001b[?25hdone\n",
            "Collecting astroquery@ git+https://****@github.com/astropy/astroquery (from alminer==0.1.3)\n",
            "  Cloning https://****@github.com/astropy/astroquery to /tmp/pip-install-yuwd79h0/astroquery_656114f373e84718b12a82f8711f3342\n",
            "  Running command git clone --filter=blob:none --quiet 'https://****@github.com/astropy/astroquery' /tmp/pip-install-yuwd79h0/astroquery_656114f373e84718b12a82f8711f3342\n",
            "  Resolved https://****@github.com/astropy/astroquery to commit 50eadddbebbb70890087f93891d62164dc690f86\n",
            "  Running command git submodule update --init --recursive -q\n",
            "  Installing build dependencies ... \u001b[?25l\u001b[?25hdone\n",
            "  Getting requirements to build wheel ... \u001b[?25l\u001b[?25hdone\n",
            "  Preparing metadata (pyproject.toml) ... \u001b[?25l\u001b[?25hdone\n",
            "Requirement already satisfied: numpy>=1.15 in /usr/local/lib/python3.11/dist-packages (from alminer==0.1.3) (1.26.4)\n",
            "Requirement already satisfied: pandas>1.0 in /usr/local/lib/python3.11/dist-packages (from alminer==0.1.3) (2.2.2)\n",
            "Requirement already satisfied: matplotlib>=3.3.0 in /usr/local/lib/python3.11/dist-packages (from alminer==0.1.3) (3.10.0)\n",
            "Requirement already satisfied: pyvo>=1.2.1 in /usr/local/lib/python3.11/dist-packages (from alminer==0.1.3) (1.6.1)\n",
            "Requirement already satisfied: astropy>=3.1.2 in /usr/local/lib/python3.11/dist-packages (from alminer==0.1.3) (7.0.1)\n",
            "Requirement already satisfied: pyerfa>=2.0.1.1 in /usr/local/lib/python3.11/dist-packages (from astropy>=3.1.2->alminer==0.1.3) (2.0.1.5)\n",
            "Requirement already satisfied: astropy-iers-data>=0.2025.1.31.12.41.4 in /usr/local/lib/python3.11/dist-packages (from astropy>=3.1.2->alminer==0.1.3) (0.2025.2.24.0.34.4)\n",
            "Requirement already satisfied: PyYAML>=6.0.0 in /usr/local/lib/python3.11/dist-packages (from astropy>=3.1.2->alminer==0.1.3) (6.0.2)\n",
            "Requirement already satisfied: packaging>=22.0.0 in /usr/local/lib/python3.11/dist-packages (from astropy>=3.1.2->alminer==0.1.3) (24.2)\n",
            "Requirement already satisfied: contourpy>=1.0.1 in /usr/local/lib/python3.11/dist-packages (from matplotlib>=3.3.0->alminer==0.1.3) (1.3.1)\n",
            "Requirement already satisfied: cycler>=0.10 in /usr/local/lib/python3.11/dist-packages (from matplotlib>=3.3.0->alminer==0.1.3) (0.12.1)\n",
            "Requirement already satisfied: fonttools>=4.22.0 in /usr/local/lib/python3.11/dist-packages (from matplotlib>=3.3.0->alminer==0.1.3) (4.56.0)\n",
            "Requirement already satisfied: kiwisolver>=1.3.1 in /usr/local/lib/python3.11/dist-packages (from matplotlib>=3.3.0->alminer==0.1.3) (1.4.8)\n",
            "Requirement already satisfied: pillow>=8 in /usr/local/lib/python3.11/dist-packages (from matplotlib>=3.3.0->alminer==0.1.3) (11.1.0)\n",
            "Requirement already satisfied: pyparsing>=2.3.1 in /usr/local/lib/python3.11/dist-packages (from matplotlib>=3.3.0->alminer==0.1.3) (3.2.1)\n",
            "Requirement already satisfied: python-dateutil>=2.7 in /usr/local/lib/python3.11/dist-packages (from matplotlib>=3.3.0->alminer==0.1.3) (2.8.2)\n",
            "Requirement already satisfied: pytz>=2020.1 in /usr/local/lib/python3.11/dist-packages (from pandas>1.0->alminer==0.1.3) (2025.1)\n",
            "Requirement already satisfied: tzdata>=2022.7 in /usr/local/lib/python3.11/dist-packages (from pandas>1.0->alminer==0.1.3) (2025.1)\n",
            "Requirement already satisfied: requests in /usr/local/lib/python3.11/dist-packages (from pyvo>=1.2.1->alminer==0.1.3) (2.32.3)\n",
            "Requirement already satisfied: beautifulsoup4>=4.8 in /usr/local/lib/python3.11/dist-packages (from astroquery@ git+https://git@github.com/astropy/astroquery->alminer==0.1.3) (4.13.3)\n",
            "Requirement already satisfied: html5lib>=0.999 in /usr/local/lib/python3.11/dist-packages (from astroquery@ git+https://git@github.com/astropy/astroquery->alminer==0.1.3) (1.1)\n",
            "Requirement already satisfied: keyring>=15.0 in /usr/lib/python3/dist-packages (from astroquery@ git+https://git@github.com/astropy/astroquery->alminer==0.1.3) (23.5.0)\n",
            "Requirement already satisfied: soupsieve>1.2 in /usr/local/lib/python3.11/dist-packages (from beautifulsoup4>=4.8->astroquery@ git+https://git@github.com/astropy/astroquery->alminer==0.1.3) (2.6)\n",
            "Requirement already satisfied: typing-extensions>=4.0.0 in /usr/local/lib/python3.11/dist-packages (from beautifulsoup4>=4.8->astroquery@ git+https://git@github.com/astropy/astroquery->alminer==0.1.3) (4.12.2)\n",
            "Requirement already satisfied: six>=1.9 in /usr/local/lib/python3.11/dist-packages (from html5lib>=0.999->astroquery@ git+https://git@github.com/astropy/astroquery->alminer==0.1.3) (1.17.0)\n",
            "Requirement already satisfied: webencodings in /usr/local/lib/python3.11/dist-packages (from html5lib>=0.999->astroquery@ git+https://git@github.com/astropy/astroquery->alminer==0.1.3) (0.5.1)\n",
            "Requirement already satisfied: charset-normalizer<4,>=2 in /usr/local/lib/python3.11/dist-packages (from requests->pyvo>=1.2.1->alminer==0.1.3) (3.4.1)\n",
            "Requirement already satisfied: idna<4,>=2.5 in /usr/local/lib/python3.11/dist-packages (from requests->pyvo>=1.2.1->alminer==0.1.3) (3.10)\n",
            "Requirement already satisfied: urllib3<3,>=1.21.1 in /usr/local/lib/python3.11/dist-packages (from requests->pyvo>=1.2.1->alminer==0.1.3) (2.3.0)\n",
            "Requirement already satisfied: certifi>=2017.4.17 in /usr/local/lib/python3.11/dist-packages (from requests->pyvo>=1.2.1->alminer==0.1.3) (2025.1.31)\n"
          ]
        }
      ],
      "source": [
        "import sys\n",
        "moduleList = sys.modules\n",
        "\n",
        "if 'google.colab' in moduleList:\n",
        "\n",
        "    ! pip install https://github.com/emerge-erc/ALminer/archive/refs/heads/main.zip"
      ]
    },
    {
      "cell_type": "markdown",
      "metadata": {
        "editable": true,
        "tags": [],
        "id": "l4dJ1WbonqzL"
      },
      "source": [
        "### **Local environment**\n",
        "\n",
        "Otherwise, if you are running this notebook on the your local machine using jupyter, you should install all the packages in advance on your own conda/pyhton environment.\n",
        "After you have activate your environment, you can execute the following lines:\n",
        "\n",
        "#### **Download scipy and ALminer** (pyVO and astroquery are automatically installed via ALminer dependencies)\n",
        "**BEWARE:** You should download the 'bleeding edge' from github and not the classic *pip install alminer*.\n",
        "Some functions (i.e. Splatalogue) currently only work in the development version of this packages.\n",
        "\n",
        "\n",
        "` pip install scipy https://github.com/emerge-erc/ALminer/archive/refs/heads/main.zip `\n"
      ]
    },
    {
      "cell_type": "markdown",
      "metadata": {
        "editable": true,
        "id": "iDG5RHSD0wG_",
        "tags": [
          "pyvo"
        ]
      },
      "source": [
        "# Part 1. pyVO<a name=\"pyVO\"></a>\n",
        "\n",
        "**pyVO** (Python Virtual Observatory) is a Python library designed to access and query astronomical data through the Virtual Observatory (VO).\n",
        "\n",
        "* Officially supported by the ALMA archive developers.\n",
        "* Offers a simple interface to query VO services and retrieve astronomical data from them.\n",
        "* It facilitates tasks such as searching for specific observations, accessing metadata, and downloading data files for analysis."
      ]
    },
    {
      "cell_type": "markdown",
      "metadata": {
        "editable": true,
        "tags": [],
        "id": "Gm5FNevSnqzO"
      },
      "source": [
        "## Set-up"
      ]
    },
    {
      "cell_type": "code",
      "execution_count": 25,
      "metadata": {
        "editable": true,
        "tags": [],
        "id": "3BD2jr0-nqzP"
      },
      "outputs": [],
      "source": [
        "import pyvo\n",
        "import pandas as pd\n",
        "\n",
        "service = pyvo.dal.TAPService(\"https://almascience.eso.org/tap\")\n",
        "\n",
        "# If the ESO archive is down, you may use the NRAO/NAOJ mirrors:\n",
        "# service = pyvo.dal.TAPService(\"https://almascience.nrao.edu/tap\")\n",
        "# service = pyvo.dal.TAPService(\"https://almascience.nao.ac.jp/tap\")"
      ]
    },
    {
      "cell_type": "markdown",
      "metadata": {
        "editable": true,
        "tags": [],
        "id": "uyU2UQ60nqzR"
      },
      "source": [
        "## Resources\n",
        "* The language used by the IVOA to represent astronomy queries posted to VO services: [The Astronomical Data Query Language (ADQL)](https://www.ivoa.net/documents/ADQL/20180112/PR-ADQL-2.1-20180112.html).\n",
        "* Examples on using pyVO to query the ALMA archive: [Notebooks on the ALMA Science Portal](https://almascience.eso.org/alma-data/archive/archive-notebooks).\n"
      ]
    },
    {
      "cell_type": "markdown",
      "metadata": {
        "editable": true,
        "scroll": true,
        "tags": [],
        "id": "E2BfaxgxnqzS"
      },
      "source": [
        "## Query Standart Format"
      ]
    },
    {
      "cell_type": "code",
      "execution_count": 20,
      "metadata": {
        "editable": true,
        "tags": [],
        "id": "dSmgSwJtnqzU"
      },
      "outputs": [],
      "source": [
        "query = f\"\"\"\n",
        "\n",
        "         \"\"\""
      ]
    },
    {
      "cell_type": "markdown",
      "metadata": {
        "editable": true,
        "scroll": true,
        "scrolled": "True",
        "tags": [],
        "id": "-lr4pTg6nqzV"
      },
      "source": [
        "#### Quering options:\n",
        "\n",
        "* `SELECT`: The columns you want to retrieve from the table.\n",
        "\n",
        "* `WHERE`: The constraints on the data you want to retrieve.\n",
        "\n",
        "* `FROM`: Specifies the table or catalog from which you want to retrieve data.\n",
        "\n",
        "* `INTERSECT`: The results should match both conditions specified.\n",
        "\n",
        "* `JOIN`: Join operation between two tables.\n",
        "\n",
        "* `ORDER BY`: The column(s) by which the results should be sorted.\n",
        "\n",
        "* `LIMIT`: The maximum number of results to return.\n",
        "\n",
        "* `FORMAT`: The format in which you want the results to be returned (e.g., VOTable, CSV, JSON)."
      ]
    },
    {
      "cell_type": "markdown",
      "metadata": {
        "editable": true,
        "id": "k3kxaSEQ0wHD",
        "tags": []
      },
      "source": [
        "## Get all available column names"
      ]
    },
    {
      "cell_type": "code",
      "execution_count": 21,
      "metadata": {
        "editable": true,
        "tags": [],
        "colab": {
          "base_uri": "https://localhost:8080/"
        },
        "id": "SWK-GzbAnqzW",
        "outputId": "7c9b182e-5533-48c3-a23e-64f57ac5d1da"
      },
      "outputs": [
        {
          "output_type": "stream",
          "name": "stdout",
          "text": [
            "['source_names', 'm_ra', 'm_ra_uncertainty', 'm_dec', 'm_dec_uncertainty', 'm_frequency', 'm_flux', 'm_flux_uncertainty', 'm_origin', 'm_degree', 'm_degree_uncertainty', 'm_angle', 'm_angle_uncertainty', 'm_date_observed', 'm_frequency_support_display', 's_ra_deg', 's_ra_deg_uncertainty', 's_dec_deg', 's_dec_deg_uncertainty', 'b_spectral_index', 'band_name', 'schema_name', 'utype', 'description', 'schema_name', 'table_name', 'table_type', 'utype', 'description', 'table_index', 'table_name', 'column_name', 'utype', 'ucd', 'unit', 'description', 'datatype', 'arraysize', 'xtype', '\"size\"', 'principal', 'indexed', 'std', 'column_index', 'key_id', 'from_table', 'target_table', 'utype', 'description', 'key_id', 'from_column', 'target_column', 'obs_publisher_did', 'obs_collection', 'facility_name', 'instrument_name', 'obs_id', 'dataproduct_type', 'calib_level', 'collections', 'target_name', 's_ra', 's_dec', 's_fov', 's_region', 'schema_index', 's_xel1', 's_xel2', 'em_xel', 't_xel', 'pol_xel', 's_resolution', 't_min', 't_max', 't_exptime', 't_resolution', 'em_min', 'em_max', 'em_res_power', 'pol_states', 'cont_sensitivity_bandwidth', 'pwv', 'group_ous_uid', 'member_ous_uid', 'asdm_uid', 'obs_title', 'type', 'scan_intent', 'science_observation', 'spatial_scale_max', 'qa2_passed', 'bib_reference', 'science_keyword', 'scientific_category', 'pi_userid', 'pi_name', 'spectral_resolution', 'o_ucd', 'access_url', 'access_format', 'access_estsize', 'proposal_id', 'data_rights', 'gal_longitude', 'gal_latitude', 'band_list', 'em_resolution', 'bandwidth', 'antenna_arrays', 'is_mosaic', 'obs_release_date', 'spatial_resolution', 'frequency_support', 'frequency', 'velocity_resolution', 'obs_creator_name', 'pub_title', 'first_author', 'authors', 'pub_abstract', 'publication_year', 'proposal_abstract', 'schedblock_name', 'proposal_authors', 'sensitivity_10kms', 'lastModified', 'catalogue_name']\n"
          ]
        }
      ],
      "source": [
        "# Query the metadata\n",
        "metadata_query = \"\"\" SELECT column_name, unit, description\n",
        "                     FROM TAP_SCHEMA.columns \"\"\"\n",
        "\n",
        "TAP_metadata = service.search(metadata_query)\n",
        "\n",
        "# Convert in pandas dataframe\n",
        "TAP_metadata_pd = pd.DataFrame(TAP_metadata).set_index('column_name')\n",
        "\n",
        "print(TAP_metadata_pd.index.to_list())"
      ]
    },
    {
      "cell_type": "markdown",
      "metadata": {
        "editable": true,
        "tags": [],
        "id": "B5RFVYSunqzX"
      },
      "source": [
        "## Get information about a column"
      ]
    },
    {
      "cell_type": "code",
      "execution_count": 27,
      "metadata": {
        "editable": true,
        "id": "W2Q99-Ko0wHE",
        "outputId": "655ff813-1620-411d-b64d-5fc28a8f8792",
        "tags": [],
        "colab": {
          "base_uri": "https://localhost:8080/"
        }
      },
      "outputs": [
        {
          "output_type": "stream",
          "name": "stdout",
          "text": [
            "\u001b[1mColumn: \u001b[0m frequency\n",
            "\n",
            "\u001b[1mDescription: \u001b[0m Observed (tuned) reference frequency on the sky.\n",
            "\n",
            "\u001b[1mUnits: \u001b[0m GHz\n"
          ]
        }
      ],
      "source": [
        "column = 'frequency'\n",
        "\n",
        "#Print the column name\n",
        "print(\"\\033[1mColumn: \\033[0m\", column )\n",
        "\n",
        "# Get the description of a given column\n",
        "print(\"\\n\\033[1mDescription: \\033[0m\",\n",
        "      TAP_metadata_pd.loc[ column , 'description'])\n",
        "\n",
        "# Get the units of a given column\n",
        "print(\"\\n\\033[1mUnits: \\033[0m\",\n",
        "      TAP_metadata_pd.loc[ column , 'unit'])"
      ]
    },
    {
      "cell_type": "markdown",
      "metadata": {
        "editable": true,
        "tags": [],
        "id": "0I61e2UUnqzY"
      },
      "source": [
        "## Pandas Dataframe"
      ]
    },
    {
      "cell_type": "markdown",
      "metadata": {
        "editable": true,
        "tags": [],
        "id": "PSFmSKE7nqzZ"
      },
      "source": [
        "PyVO provides the capability to display tables in **Pandas** format, which is particularly useful for data visualization."
      ]
    },
    {
      "cell_type": "markdown",
      "metadata": {
        "editable": true,
        "tags": [],
        "id": "-K7PAZ6UnqzZ"
      },
      "source": [
        "### Pandas table display set-up"
      ]
    },
    {
      "cell_type": "code",
      "execution_count": 32,
      "metadata": {
        "editable": true,
        "tags": [],
        "id": "dc5O6xxZnqzZ"
      },
      "outputs": [],
      "source": [
        "pd.set_option('display.max_rows', 4)\n",
        "pd.set_option('display.max_columns', None)"
      ]
    },
    {
      "cell_type": "markdown",
      "metadata": {
        "editable": true,
        "tags": [],
        "id": "A7dWuC-Vnqza"
      },
      "source": [
        "**BEWARE:** You can choose to display all the rows or columns using `pd.set_option(..., None)`, but this may overload your notebook and crash the kernel!"
      ]
    },
    {
      "cell_type": "markdown",
      "metadata": {
        "editable": true,
        "id": "6_WQkDjW0wHG",
        "tags": []
      },
      "source": [
        "##  Query by coordinates\n",
        "#### **RA** = 67.910462 , **Dec** = 18.232739, **Search radius** = 0.005 degrees:"
      ]
    },
    {
      "cell_type": "code",
      "execution_count": 33,
      "metadata": {
        "editable": true,
        "id": "mvsoW6gY0wHH",
        "tags": [
          "hide_output"
        ],
        "colab": {
          "base_uri": "https://localhost:8080/",
          "height": 637
        },
        "outputId": "7bc1d5d4-1445-4ac0-8abb-b3120e8bdd6b"
      },
      "outputs": [
        {
          "output_type": "execute_result",
          "data": {
            "text/plain": [
              "               obs_publisher_did obs_collection facility_name instrument_name  \\\n",
              "0    ADS/JAO.ALMA#2011.0.00005.E           ALMA           JAO            ALMA   \n",
              "1    ADS/JAO.ALMA#2011.0.00005.E           ALMA           JAO            ALMA   \n",
              "..                           ...            ...           ...             ...   \n",
              "335  ADS/JAO.ALMA#2016.1.00115.S           ALMA           JAO            ALMA   \n",
              "336  ADS/JAO.ALMA#2016.1.00115.S           ALMA           JAO            ALMA   \n",
              "\n",
              "                                         obs_id dataproduct_type  calib_level  \\\n",
              "0    uid://A002/X445835/X6.source.HL Tau.spw.17            image            2   \n",
              "1    uid://A002/X445835/X6.source.HL Tau.spw.19            image            2   \n",
              "..                                          ...              ...          ...   \n",
              "335   uid://A001/X87a/X598.source.HL_tau.spw.18            image            2   \n",
              "336    uid://A001/X87a/X598.source.HL_tau.spw.6            image            2   \n",
              "\n",
              "    collections target_name       s_ra      s_dec     s_fov  \\\n",
              "0                    HL Tau  67.910196  18.232573  0.002411   \n",
              "1                    HL Tau  67.910196  18.232573  0.002411   \n",
              "..          ...         ...        ...        ...       ...   \n",
              "335                  HL_tau  67.910193  18.232579  0.016591   \n",
              "336                  HL_tau  67.910193  18.232579  0.016591   \n",
              "\n",
              "                                              s_region  s_xel1  s_xel2  \\\n",
              "0    Polygon ICRS 67.911376 18.233016 67.911465 18....    <NA>    <NA>   \n",
              "1    Polygon ICRS 67.911376 18.233016 67.911465 18....    <NA>    <NA>   \n",
              "..                                                 ...     ...     ...   \n",
              "335  Polygon ICRS 67.918314 18.235633 67.918927 18....    <NA>    <NA>   \n",
              "336  Polygon ICRS 67.918314 18.235633 67.918927 18....    <NA>    <NA>   \n",
              "\n",
              "     em_xel  t_xel  pol_xel  s_resolution        t_min         t_max  \\\n",
              "0       128      1        2      0.009374  58060.23775  58060.344291   \n",
              "1       128      1        2      0.009374  58060.23775  58060.344291   \n",
              "..      ...    ...      ...           ...          ...           ...   \n",
              "335      64      1        4      0.379141  57673.25714  57673.406882   \n",
              "336      64      1        4      0.379141  57673.25714  57673.406882   \n",
              "\n",
              "     t_exptime  t_resolution    em_min    em_max  em_res_power     pol_states  \\\n",
              "0     3010.559      3010.559  0.000450  0.000451    21340.9204        /XX/YY/   \n",
              "1     3010.559      3010.559  0.000443  0.000444    21600.0764        /XX/YY/   \n",
              "..         ...           ...       ...       ...           ...            ...   \n",
              "335   7983.359      7983.359  0.002842  0.002896     1656.1632  /XX/XY/YX/YY/   \n",
              "336   7983.359      7983.359  0.003277  0.003349     1463.6632  /XX/XY/YX/YY/   \n",
              "\n",
              "     cont_sensitivity_bandwidth       pwv         group_ous_uid  \\\n",
              "0                      0.175347  0.478369                         \n",
              "1                      0.175347  0.478369                         \n",
              "..                          ...       ...                   ...   \n",
              "335                    0.011796  1.534183  uid://A001/X87a/X597   \n",
              "336                    0.011796  1.534183  uid://A001/X87a/X597   \n",
              "\n",
              "            member_ous_uid                  asdm_uid  \\\n",
              "0    uid://A002/X445835/X6  uid://A002/Xc660ef/X1b89   \n",
              "1    uid://A002/X445835/X6  uid://A002/Xc660ef/X1b89   \n",
              "..                     ...                       ...   \n",
              "335   uid://A001/X87a/X598  uid://A002/Xb945f7/X2f40   \n",
              "336   uid://A001/X87a/X598  uid://A002/Xb945f7/X2f40   \n",
              "\n",
              "                                             obs_title type scan_intent  \\\n",
              "0                                    HL Tau Band 9 B2B    E      TARGET   \n",
              "1                                    HL Tau Band 9 B2B    E      TARGET   \n",
              "..                                                 ...  ...         ...   \n",
              "335  Disentangle the polarization mechanims between...    S      TARGET   \n",
              "336  Disentangle the polarization mechanims between...    S      TARGET   \n",
              "\n",
              "    science_observation  spatial_scale_max qa2_passed  \\\n",
              "0                     T           0.190921          T   \n",
              "1                     T           0.190921          T   \n",
              "..                  ...                ...        ...   \n",
              "335                   T           3.824549          T   \n",
              "336                   T           3.824549          T   \n",
              "\n",
              "                                         bib_reference  \\\n",
              "0                                  2024A&A...686A.298G   \n",
              "1                                  2024A&A...686A.298G   \n",
              "..                                                 ...   \n",
              "335  2017ApJ...844L...5K 2017ApJ...851...55S 2019MN...   \n",
              "336  2017ApJ...844L...5K 2017ApJ...851...55S 2019MN...   \n",
              "\n",
              "                 science_keyword         scientific_category        pi_userid  \\\n",
              "0                                                             almaobservatory   \n",
              "1                                                             almaobservatory   \n",
              "..                           ...                         ...              ...   \n",
              "335  Disks around low-mass stars  Disks and planet formation          kataoka   \n",
              "336  Disks around low-mass stars  Disks and planet formation          kataoka   \n",
              "\n",
              "               pi_name  spectral_resolution  \\\n",
              "0    observatory, ALMA              31250.0   \n",
              "1    observatory, ALMA              31250.0   \n",
              "..                 ...                  ...   \n",
              "335   Kataoka, Akimasa              62500.0   \n",
              "336   Kataoka, Akimasa              62500.0   \n",
              "\n",
              "                                   o_ucd  \\\n",
              "0    phot.flux.density;phys.polarization   \n",
              "1    phot.flux.density;phys.polarization   \n",
              "..                                   ...   \n",
              "335  phot.flux.density;phys.polarization   \n",
              "336  phot.flux.density;phys.polarization   \n",
              "\n",
              "                                            access_url access_format  \\\n",
              "0    https://almascience.org/datalink/sync?ID=uid:/...     applicati   \n",
              "1    https://almascience.org/datalink/sync?ID=uid:/...     applicati   \n",
              "..                                                 ...           ...   \n",
              "335  https://almascience.org/datalink/sync?ID=uid:/...     applicati   \n",
              "336  https://almascience.org/datalink/sync?ID=uid:/...     applicati   \n",
              "\n",
              "     access_estsize     proposal_id data_rights  gal_longitude  gal_latitude  \\\n",
              "0              <NA>  2011.0.00005.E      Public     178.859081    -19.972431   \n",
              "1              <NA>  2011.0.00005.E      Public     178.859081    -19.972431   \n",
              "..              ...             ...         ...            ...           ...   \n",
              "335            <NA>  2016.1.00115.S      Public     178.859074    -19.972428   \n",
              "336            <NA>  2016.1.00115.S      Public     178.859074    -19.972428   \n",
              "\n",
              "    band_list  em_resolution     bandwidth  \\\n",
              "0           9   2.112730e-08  2.000000e+09   \n",
              "1           9   2.050173e-08  2.000000e+09   \n",
              "..        ...            ...           ...   \n",
              "335         3   1.716256e-06  2.000000e+09   \n",
              "336         3   2.288428e-06  2.000000e+09   \n",
              "\n",
              "                                        antenna_arrays is_mosaic  \\\n",
              "0    A027:DV06 A074:DV09 A087:DV25 A089:DA61 A090:D...         F   \n",
              "1    A027:DV06 A074:DV09 A087:DV25 A089:DA61 A090:D...         F   \n",
              "..                                                 ...       ...   \n",
              "335  A002:DA49 A004:DA41 A007:DV12 A009:DV18 A034:D...         F   \n",
              "336  A002:DA49 A004:DA41 A007:DV12 A009:DV18 A034:D...         F   \n",
              "\n",
              "            obs_release_date  spatial_resolution  \\\n",
              "0    2018-07-10T12:50:54.000            0.009374   \n",
              "1    2018-07-10T12:50:54.000            0.009374   \n",
              "..                       ...                 ...   \n",
              "335  2018-01-27T16:39:52.000            0.379141   \n",
              "336  2018-01-27T16:39:52.000            0.379141   \n",
              "\n",
              "                                     frequency_support   frequency  \\\n",
              "0    [658.98..660.96GHz,31250.00kHz,7.4mJy/beam@10k...  665.907472   \n",
              "1    [658.98..660.96GHz,31250.00kHz,7.4mJy/beam@10k...  675.990410   \n",
              "..                                                 ...         ...   \n",
              "335  [89.51..91.48GHz,62500.00kHz,593.1uJy/beam@10k...  104.490940   \n",
              "336  [89.51..91.48GHz,62500.00kHz,593.1uJy/beam@10k...   90.491427   \n",
              "\n",
              "     velocity_resolution obs_creator_name  \\\n",
              "0           13758.210504             ALMA   \n",
              "1           13758.210504             ALMA   \n",
              "..                   ...              ...   \n",
              "335        181016.253712             ALMA   \n",
              "336        181016.253712             ALMA   \n",
              "\n",
              "                                             pub_title  \\\n",
              "0    Into the thick of it: ALMA 0.45 mm observation...   \n",
              "1    Into the thick of it: ALMA 0.45 mm observation...   \n",
              "..                                                 ...   \n",
              "335  ALMA Reveals Transition of Polarization Patter...   \n",
              "336  ALMA Reveals Transition of Polarization Patter...   \n",
              "\n",
              "                                          first_author  \\\n",
              "0                            Guerra-Alvarado, Osmar M.   \n",
              "1                            Guerra-Alvarado, Osmar M.   \n",
              "..                                                 ...   \n",
              "335  Bollo, Victoria Chen, Jianhang Kataoka, Akimas...   \n",
              "336  Bollo, Victoria Chen, Jianhang Kataoka, Akimas...   \n",
              "\n",
              "                                               authors  \\\n",
              "0    Guerra-Alvarado, Osmar M.; Carrasco-González, ...   \n",
              "1    Guerra-Alvarado, Osmar M.; Carrasco-González, ...   \n",
              "..                                                 ...   \n",
              "335  Bollo, Victoria; Zwaan, Martin; Péroux, Céline...   \n",
              "336  Bollo, Victoria; Zwaan, Martin; Péroux, Céline...   \n",
              "\n",
              "                                          pub_abstract  publication_year  \\\n",
              "0    <BR /> Aims: To comprehend the efficiency of d...              2024   \n",
              "1    <BR /> Aims: To comprehend the efficiency of d...              2024   \n",
              "..                                                 ...               ...   \n",
              "335  Despite its crucial role in galaxy evolution, ...              2017   \n",
              "336  Despite its crucial role in galaxy evolution, ...              2017   \n",
              "\n",
              "                                     proposal_abstract  schedblock_name  \\\n",
              "0                       ALMA engineering data release.     AOS-MSB8.1.0   \n",
              "1                       ALMA engineering data release.     AOS-MSB8.1.0   \n",
              "..                                                 ...              ...   \n",
              "335  We propose to observe the polarization of the ...  HL_tau_a_03_TM1   \n",
              "336  We propose to observe the polarization of the ...  HL_tau_a_03_TM1   \n",
              "\n",
              "                                      proposal_authors  sensitivity_10kms  \\\n",
              "0                                                                7.265467   \n",
              "1                                                                6.986938   \n",
              "..                                                 ...                ...   \n",
              "335  Muto, Takayuki; Tsukagoshi, Takashi; Hanawa, T...           0.576380   \n",
              "336  Muto, Takayuki; Tsukagoshi, Takashi; Hanawa, T...           0.593098   \n",
              "\n",
              "                lastModified  \n",
              "0    2024-08-21T18:10:02.819  \n",
              "1    2024-08-21T18:10:02.819  \n",
              "..                       ...  \n",
              "335  2024-08-21T18:10:02.819  \n",
              "336  2024-08-21T18:10:02.819  \n",
              "\n",
              "[337 rows x 73 columns]"
            ],
            "text/html": [
              "\n",
              "  <div id=\"df-65690b09-85a5-4e1c-b925-47f87e67f218\" class=\"colab-df-container\">\n",
              "    <div>\n",
              "<style scoped>\n",
              "    .dataframe tbody tr th:only-of-type {\n",
              "        vertical-align: middle;\n",
              "    }\n",
              "\n",
              "    .dataframe tbody tr th {\n",
              "        vertical-align: top;\n",
              "    }\n",
              "\n",
              "    .dataframe thead th {\n",
              "        text-align: right;\n",
              "    }\n",
              "</style>\n",
              "<table border=\"1\" class=\"dataframe\">\n",
              "  <thead>\n",
              "    <tr style=\"text-align: right;\">\n",
              "      <th></th>\n",
              "      <th>obs_publisher_did</th>\n",
              "      <th>obs_collection</th>\n",
              "      <th>facility_name</th>\n",
              "      <th>instrument_name</th>\n",
              "      <th>obs_id</th>\n",
              "      <th>dataproduct_type</th>\n",
              "      <th>calib_level</th>\n",
              "      <th>collections</th>\n",
              "      <th>target_name</th>\n",
              "      <th>s_ra</th>\n",
              "      <th>s_dec</th>\n",
              "      <th>s_fov</th>\n",
              "      <th>s_region</th>\n",
              "      <th>s_xel1</th>\n",
              "      <th>s_xel2</th>\n",
              "      <th>em_xel</th>\n",
              "      <th>t_xel</th>\n",
              "      <th>pol_xel</th>\n",
              "      <th>s_resolution</th>\n",
              "      <th>t_min</th>\n",
              "      <th>t_max</th>\n",
              "      <th>t_exptime</th>\n",
              "      <th>t_resolution</th>\n",
              "      <th>em_min</th>\n",
              "      <th>em_max</th>\n",
              "      <th>em_res_power</th>\n",
              "      <th>pol_states</th>\n",
              "      <th>cont_sensitivity_bandwidth</th>\n",
              "      <th>pwv</th>\n",
              "      <th>group_ous_uid</th>\n",
              "      <th>member_ous_uid</th>\n",
              "      <th>asdm_uid</th>\n",
              "      <th>obs_title</th>\n",
              "      <th>type</th>\n",
              "      <th>scan_intent</th>\n",
              "      <th>science_observation</th>\n",
              "      <th>spatial_scale_max</th>\n",
              "      <th>qa2_passed</th>\n",
              "      <th>bib_reference</th>\n",
              "      <th>science_keyword</th>\n",
              "      <th>scientific_category</th>\n",
              "      <th>pi_userid</th>\n",
              "      <th>pi_name</th>\n",
              "      <th>spectral_resolution</th>\n",
              "      <th>o_ucd</th>\n",
              "      <th>access_url</th>\n",
              "      <th>access_format</th>\n",
              "      <th>access_estsize</th>\n",
              "      <th>proposal_id</th>\n",
              "      <th>data_rights</th>\n",
              "      <th>gal_longitude</th>\n",
              "      <th>gal_latitude</th>\n",
              "      <th>band_list</th>\n",
              "      <th>em_resolution</th>\n",
              "      <th>bandwidth</th>\n",
              "      <th>antenna_arrays</th>\n",
              "      <th>is_mosaic</th>\n",
              "      <th>obs_release_date</th>\n",
              "      <th>spatial_resolution</th>\n",
              "      <th>frequency_support</th>\n",
              "      <th>frequency</th>\n",
              "      <th>velocity_resolution</th>\n",
              "      <th>obs_creator_name</th>\n",
              "      <th>pub_title</th>\n",
              "      <th>first_author</th>\n",
              "      <th>authors</th>\n",
              "      <th>pub_abstract</th>\n",
              "      <th>publication_year</th>\n",
              "      <th>proposal_abstract</th>\n",
              "      <th>schedblock_name</th>\n",
              "      <th>proposal_authors</th>\n",
              "      <th>sensitivity_10kms</th>\n",
              "      <th>lastModified</th>\n",
              "    </tr>\n",
              "  </thead>\n",
              "  <tbody>\n",
              "    <tr>\n",
              "      <th>0</th>\n",
              "      <td>ADS/JAO.ALMA#2011.0.00005.E</td>\n",
              "      <td>ALMA</td>\n",
              "      <td>JAO</td>\n",
              "      <td>ALMA</td>\n",
              "      <td>uid://A002/X445835/X6.source.HL Tau.spw.17</td>\n",
              "      <td>image</td>\n",
              "      <td>2</td>\n",
              "      <td></td>\n",
              "      <td>HL Tau</td>\n",
              "      <td>67.910196</td>\n",
              "      <td>18.232573</td>\n",
              "      <td>0.002411</td>\n",
              "      <td>Polygon ICRS 67.911376 18.233016 67.911465 18....</td>\n",
              "      <td>&lt;NA&gt;</td>\n",
              "      <td>&lt;NA&gt;</td>\n",
              "      <td>128</td>\n",
              "      <td>1</td>\n",
              "      <td>2</td>\n",
              "      <td>0.009374</td>\n",
              "      <td>58060.23775</td>\n",
              "      <td>58060.344291</td>\n",
              "      <td>3010.559</td>\n",
              "      <td>3010.559</td>\n",
              "      <td>0.000450</td>\n",
              "      <td>0.000451</td>\n",
              "      <td>21340.9204</td>\n",
              "      <td>/XX/YY/</td>\n",
              "      <td>0.175347</td>\n",
              "      <td>0.478369</td>\n",
              "      <td></td>\n",
              "      <td>uid://A002/X445835/X6</td>\n",
              "      <td>uid://A002/Xc660ef/X1b89</td>\n",
              "      <td>HL Tau Band 9 B2B</td>\n",
              "      <td>E</td>\n",
              "      <td>TARGET</td>\n",
              "      <td>T</td>\n",
              "      <td>0.190921</td>\n",
              "      <td>T</td>\n",
              "      <td>2024A&amp;A...686A.298G</td>\n",
              "      <td></td>\n",
              "      <td></td>\n",
              "      <td>almaobservatory</td>\n",
              "      <td>observatory, ALMA</td>\n",
              "      <td>31250.0</td>\n",
              "      <td>phot.flux.density;phys.polarization</td>\n",
              "      <td>https://almascience.org/datalink/sync?ID=uid:/...</td>\n",
              "      <td>applicati</td>\n",
              "      <td>&lt;NA&gt;</td>\n",
              "      <td>2011.0.00005.E</td>\n",
              "      <td>Public</td>\n",
              "      <td>178.859081</td>\n",
              "      <td>-19.972431</td>\n",
              "      <td>9</td>\n",
              "      <td>2.112730e-08</td>\n",
              "      <td>2.000000e+09</td>\n",
              "      <td>A027:DV06 A074:DV09 A087:DV25 A089:DA61 A090:D...</td>\n",
              "      <td>F</td>\n",
              "      <td>2018-07-10T12:50:54.000</td>\n",
              "      <td>0.009374</td>\n",
              "      <td>[658.98..660.96GHz,31250.00kHz,7.4mJy/beam@10k...</td>\n",
              "      <td>665.907472</td>\n",
              "      <td>13758.210504</td>\n",
              "      <td>ALMA</td>\n",
              "      <td>Into the thick of it: ALMA 0.45 mm observation...</td>\n",
              "      <td>Guerra-Alvarado, Osmar M.</td>\n",
              "      <td>Guerra-Alvarado, Osmar M.; Carrasco-González, ...</td>\n",
              "      <td>&lt;BR /&gt; Aims: To comprehend the efficiency of d...</td>\n",
              "      <td>2024</td>\n",
              "      <td>ALMA engineering data release.</td>\n",
              "      <td>AOS-MSB8.1.0</td>\n",
              "      <td></td>\n",
              "      <td>7.265467</td>\n",
              "      <td>2024-08-21T18:10:02.819</td>\n",
              "    </tr>\n",
              "    <tr>\n",
              "      <th>1</th>\n",
              "      <td>ADS/JAO.ALMA#2011.0.00005.E</td>\n",
              "      <td>ALMA</td>\n",
              "      <td>JAO</td>\n",
              "      <td>ALMA</td>\n",
              "      <td>uid://A002/X445835/X6.source.HL Tau.spw.19</td>\n",
              "      <td>image</td>\n",
              "      <td>2</td>\n",
              "      <td></td>\n",
              "      <td>HL Tau</td>\n",
              "      <td>67.910196</td>\n",
              "      <td>18.232573</td>\n",
              "      <td>0.002411</td>\n",
              "      <td>Polygon ICRS 67.911376 18.233016 67.911465 18....</td>\n",
              "      <td>&lt;NA&gt;</td>\n",
              "      <td>&lt;NA&gt;</td>\n",
              "      <td>128</td>\n",
              "      <td>1</td>\n",
              "      <td>2</td>\n",
              "      <td>0.009374</td>\n",
              "      <td>58060.23775</td>\n",
              "      <td>58060.344291</td>\n",
              "      <td>3010.559</td>\n",
              "      <td>3010.559</td>\n",
              "      <td>0.000443</td>\n",
              "      <td>0.000444</td>\n",
              "      <td>21600.0764</td>\n",
              "      <td>/XX/YY/</td>\n",
              "      <td>0.175347</td>\n",
              "      <td>0.478369</td>\n",
              "      <td></td>\n",
              "      <td>uid://A002/X445835/X6</td>\n",
              "      <td>uid://A002/Xc660ef/X1b89</td>\n",
              "      <td>HL Tau Band 9 B2B</td>\n",
              "      <td>E</td>\n",
              "      <td>TARGET</td>\n",
              "      <td>T</td>\n",
              "      <td>0.190921</td>\n",
              "      <td>T</td>\n",
              "      <td>2024A&amp;A...686A.298G</td>\n",
              "      <td></td>\n",
              "      <td></td>\n",
              "      <td>almaobservatory</td>\n",
              "      <td>observatory, ALMA</td>\n",
              "      <td>31250.0</td>\n",
              "      <td>phot.flux.density;phys.polarization</td>\n",
              "      <td>https://almascience.org/datalink/sync?ID=uid:/...</td>\n",
              "      <td>applicati</td>\n",
              "      <td>&lt;NA&gt;</td>\n",
              "      <td>2011.0.00005.E</td>\n",
              "      <td>Public</td>\n",
              "      <td>178.859081</td>\n",
              "      <td>-19.972431</td>\n",
              "      <td>9</td>\n",
              "      <td>2.050173e-08</td>\n",
              "      <td>2.000000e+09</td>\n",
              "      <td>A027:DV06 A074:DV09 A087:DV25 A089:DA61 A090:D...</td>\n",
              "      <td>F</td>\n",
              "      <td>2018-07-10T12:50:54.000</td>\n",
              "      <td>0.009374</td>\n",
              "      <td>[658.98..660.96GHz,31250.00kHz,7.4mJy/beam@10k...</td>\n",
              "      <td>675.990410</td>\n",
              "      <td>13758.210504</td>\n",
              "      <td>ALMA</td>\n",
              "      <td>Into the thick of it: ALMA 0.45 mm observation...</td>\n",
              "      <td>Guerra-Alvarado, Osmar M.</td>\n",
              "      <td>Guerra-Alvarado, Osmar M.; Carrasco-González, ...</td>\n",
              "      <td>&lt;BR /&gt; Aims: To comprehend the efficiency of d...</td>\n",
              "      <td>2024</td>\n",
              "      <td>ALMA engineering data release.</td>\n",
              "      <td>AOS-MSB8.1.0</td>\n",
              "      <td></td>\n",
              "      <td>6.986938</td>\n",
              "      <td>2024-08-21T18:10:02.819</td>\n",
              "    </tr>\n",
              "    <tr>\n",
              "      <th>...</th>\n",
              "      <td>...</td>\n",
              "      <td>...</td>\n",
              "      <td>...</td>\n",
              "      <td>...</td>\n",
              "      <td>...</td>\n",
              "      <td>...</td>\n",
              "      <td>...</td>\n",
              "      <td>...</td>\n",
              "      <td>...</td>\n",
              "      <td>...</td>\n",
              "      <td>...</td>\n",
              "      <td>...</td>\n",
              "      <td>...</td>\n",
              "      <td>...</td>\n",
              "      <td>...</td>\n",
              "      <td>...</td>\n",
              "      <td>...</td>\n",
              "      <td>...</td>\n",
              "      <td>...</td>\n",
              "      <td>...</td>\n",
              "      <td>...</td>\n",
              "      <td>...</td>\n",
              "      <td>...</td>\n",
              "      <td>...</td>\n",
              "      <td>...</td>\n",
              "      <td>...</td>\n",
              "      <td>...</td>\n",
              "      <td>...</td>\n",
              "      <td>...</td>\n",
              "      <td>...</td>\n",
              "      <td>...</td>\n",
              "      <td>...</td>\n",
              "      <td>...</td>\n",
              "      <td>...</td>\n",
              "      <td>...</td>\n",
              "      <td>...</td>\n",
              "      <td>...</td>\n",
              "      <td>...</td>\n",
              "      <td>...</td>\n",
              "      <td>...</td>\n",
              "      <td>...</td>\n",
              "      <td>...</td>\n",
              "      <td>...</td>\n",
              "      <td>...</td>\n",
              "      <td>...</td>\n",
              "      <td>...</td>\n",
              "      <td>...</td>\n",
              "      <td>...</td>\n",
              "      <td>...</td>\n",
              "      <td>...</td>\n",
              "      <td>...</td>\n",
              "      <td>...</td>\n",
              "      <td>...</td>\n",
              "      <td>...</td>\n",
              "      <td>...</td>\n",
              "      <td>...</td>\n",
              "      <td>...</td>\n",
              "      <td>...</td>\n",
              "      <td>...</td>\n",
              "      <td>...</td>\n",
              "      <td>...</td>\n",
              "      <td>...</td>\n",
              "      <td>...</td>\n",
              "      <td>...</td>\n",
              "      <td>...</td>\n",
              "      <td>...</td>\n",
              "      <td>...</td>\n",
              "      <td>...</td>\n",
              "      <td>...</td>\n",
              "      <td>...</td>\n",
              "      <td>...</td>\n",
              "      <td>...</td>\n",
              "      <td>...</td>\n",
              "    </tr>\n",
              "    <tr>\n",
              "      <th>335</th>\n",
              "      <td>ADS/JAO.ALMA#2016.1.00115.S</td>\n",
              "      <td>ALMA</td>\n",
              "      <td>JAO</td>\n",
              "      <td>ALMA</td>\n",
              "      <td>uid://A001/X87a/X598.source.HL_tau.spw.18</td>\n",
              "      <td>image</td>\n",
              "      <td>2</td>\n",
              "      <td></td>\n",
              "      <td>HL_tau</td>\n",
              "      <td>67.910193</td>\n",
              "      <td>18.232579</td>\n",
              "      <td>0.016591</td>\n",
              "      <td>Polygon ICRS 67.918314 18.235633 67.918927 18....</td>\n",
              "      <td>&lt;NA&gt;</td>\n",
              "      <td>&lt;NA&gt;</td>\n",
              "      <td>64</td>\n",
              "      <td>1</td>\n",
              "      <td>4</td>\n",
              "      <td>0.379141</td>\n",
              "      <td>57673.25714</td>\n",
              "      <td>57673.406882</td>\n",
              "      <td>7983.359</td>\n",
              "      <td>7983.359</td>\n",
              "      <td>0.002842</td>\n",
              "      <td>0.002896</td>\n",
              "      <td>1656.1632</td>\n",
              "      <td>/XX/XY/YX/YY/</td>\n",
              "      <td>0.011796</td>\n",
              "      <td>1.534183</td>\n",
              "      <td>uid://A001/X87a/X597</td>\n",
              "      <td>uid://A001/X87a/X598</td>\n",
              "      <td>uid://A002/Xb945f7/X2f40</td>\n",
              "      <td>Disentangle the polarization mechanims between...</td>\n",
              "      <td>S</td>\n",
              "      <td>TARGET</td>\n",
              "      <td>T</td>\n",
              "      <td>3.824549</td>\n",
              "      <td>T</td>\n",
              "      <td>2017ApJ...844L...5K 2017ApJ...851...55S 2019MN...</td>\n",
              "      <td>Disks around low-mass stars</td>\n",
              "      <td>Disks and planet formation</td>\n",
              "      <td>kataoka</td>\n",
              "      <td>Kataoka, Akimasa</td>\n",
              "      <td>62500.0</td>\n",
              "      <td>phot.flux.density;phys.polarization</td>\n",
              "      <td>https://almascience.org/datalink/sync?ID=uid:/...</td>\n",
              "      <td>applicati</td>\n",
              "      <td>&lt;NA&gt;</td>\n",
              "      <td>2016.1.00115.S</td>\n",
              "      <td>Public</td>\n",
              "      <td>178.859074</td>\n",
              "      <td>-19.972428</td>\n",
              "      <td>3</td>\n",
              "      <td>1.716256e-06</td>\n",
              "      <td>2.000000e+09</td>\n",
              "      <td>A002:DA49 A004:DA41 A007:DV12 A009:DV18 A034:D...</td>\n",
              "      <td>F</td>\n",
              "      <td>2018-01-27T16:39:52.000</td>\n",
              "      <td>0.379141</td>\n",
              "      <td>[89.51..91.48GHz,62500.00kHz,593.1uJy/beam@10k...</td>\n",
              "      <td>104.490940</td>\n",
              "      <td>181016.253712</td>\n",
              "      <td>ALMA</td>\n",
              "      <td>ALMA Reveals Transition of Polarization Patter...</td>\n",
              "      <td>Bollo, Victoria Chen, Jianhang Kataoka, Akimas...</td>\n",
              "      <td>Bollo, Victoria; Zwaan, Martin; Péroux, Céline...</td>\n",
              "      <td>Despite its crucial role in galaxy evolution, ...</td>\n",
              "      <td>2017</td>\n",
              "      <td>We propose to observe the polarization of the ...</td>\n",
              "      <td>HL_tau_a_03_TM1</td>\n",
              "      <td>Muto, Takayuki; Tsukagoshi, Takashi; Hanawa, T...</td>\n",
              "      <td>0.576380</td>\n",
              "      <td>2024-08-21T18:10:02.819</td>\n",
              "    </tr>\n",
              "    <tr>\n",
              "      <th>336</th>\n",
              "      <td>ADS/JAO.ALMA#2016.1.00115.S</td>\n",
              "      <td>ALMA</td>\n",
              "      <td>JAO</td>\n",
              "      <td>ALMA</td>\n",
              "      <td>uid://A001/X87a/X598.source.HL_tau.spw.6</td>\n",
              "      <td>image</td>\n",
              "      <td>2</td>\n",
              "      <td></td>\n",
              "      <td>HL_tau</td>\n",
              "      <td>67.910193</td>\n",
              "      <td>18.232579</td>\n",
              "      <td>0.016591</td>\n",
              "      <td>Polygon ICRS 67.918314 18.235633 67.918927 18....</td>\n",
              "      <td>&lt;NA&gt;</td>\n",
              "      <td>&lt;NA&gt;</td>\n",
              "      <td>64</td>\n",
              "      <td>1</td>\n",
              "      <td>4</td>\n",
              "      <td>0.379141</td>\n",
              "      <td>57673.25714</td>\n",
              "      <td>57673.406882</td>\n",
              "      <td>7983.359</td>\n",
              "      <td>7983.359</td>\n",
              "      <td>0.003277</td>\n",
              "      <td>0.003349</td>\n",
              "      <td>1463.6632</td>\n",
              "      <td>/XX/XY/YX/YY/</td>\n",
              "      <td>0.011796</td>\n",
              "      <td>1.534183</td>\n",
              "      <td>uid://A001/X87a/X597</td>\n",
              "      <td>uid://A001/X87a/X598</td>\n",
              "      <td>uid://A002/Xb945f7/X2f40</td>\n",
              "      <td>Disentangle the polarization mechanims between...</td>\n",
              "      <td>S</td>\n",
              "      <td>TARGET</td>\n",
              "      <td>T</td>\n",
              "      <td>3.824549</td>\n",
              "      <td>T</td>\n",
              "      <td>2017ApJ...844L...5K 2017ApJ...851...55S 2019MN...</td>\n",
              "      <td>Disks around low-mass stars</td>\n",
              "      <td>Disks and planet formation</td>\n",
              "      <td>kataoka</td>\n",
              "      <td>Kataoka, Akimasa</td>\n",
              "      <td>62500.0</td>\n",
              "      <td>phot.flux.density;phys.polarization</td>\n",
              "      <td>https://almascience.org/datalink/sync?ID=uid:/...</td>\n",
              "      <td>applicati</td>\n",
              "      <td>&lt;NA&gt;</td>\n",
              "      <td>2016.1.00115.S</td>\n",
              "      <td>Public</td>\n",
              "      <td>178.859074</td>\n",
              "      <td>-19.972428</td>\n",
              "      <td>3</td>\n",
              "      <td>2.288428e-06</td>\n",
              "      <td>2.000000e+09</td>\n",
              "      <td>A002:DA49 A004:DA41 A007:DV12 A009:DV18 A034:D...</td>\n",
              "      <td>F</td>\n",
              "      <td>2018-01-27T16:39:52.000</td>\n",
              "      <td>0.379141</td>\n",
              "      <td>[89.51..91.48GHz,62500.00kHz,593.1uJy/beam@10k...</td>\n",
              "      <td>90.491427</td>\n",
              "      <td>181016.253712</td>\n",
              "      <td>ALMA</td>\n",
              "      <td>ALMA Reveals Transition of Polarization Patter...</td>\n",
              "      <td>Bollo, Victoria Chen, Jianhang Kataoka, Akimas...</td>\n",
              "      <td>Bollo, Victoria; Zwaan, Martin; Péroux, Céline...</td>\n",
              "      <td>Despite its crucial role in galaxy evolution, ...</td>\n",
              "      <td>2017</td>\n",
              "      <td>We propose to observe the polarization of the ...</td>\n",
              "      <td>HL_tau_a_03_TM1</td>\n",
              "      <td>Muto, Takayuki; Tsukagoshi, Takashi; Hanawa, T...</td>\n",
              "      <td>0.593098</td>\n",
              "      <td>2024-08-21T18:10:02.819</td>\n",
              "    </tr>\n",
              "  </tbody>\n",
              "</table>\n",
              "<p>337 rows × 73 columns</p>\n",
              "</div>\n",
              "    <div class=\"colab-df-buttons\">\n",
              "\n",
              "  <div class=\"colab-df-container\">\n",
              "    <button class=\"colab-df-convert\" onclick=\"convertToInteractive('df-65690b09-85a5-4e1c-b925-47f87e67f218')\"\n",
              "            title=\"Convert this dataframe to an interactive table.\"\n",
              "            style=\"display:none;\">\n",
              "\n",
              "  <svg xmlns=\"http://www.w3.org/2000/svg\" height=\"24px\" viewBox=\"0 -960 960 960\">\n",
              "    <path d=\"M120-120v-720h720v720H120Zm60-500h600v-160H180v160Zm220 220h160v-160H400v160Zm0 220h160v-160H400v160ZM180-400h160v-160H180v160Zm440 0h160v-160H620v160ZM180-180h160v-160H180v160Zm440 0h160v-160H620v160Z\"/>\n",
              "  </svg>\n",
              "    </button>\n",
              "\n",
              "  <style>\n",
              "    .colab-df-container {\n",
              "      display:flex;\n",
              "      gap: 12px;\n",
              "    }\n",
              "\n",
              "    .colab-df-convert {\n",
              "      background-color: #E8F0FE;\n",
              "      border: none;\n",
              "      border-radius: 50%;\n",
              "      cursor: pointer;\n",
              "      display: none;\n",
              "      fill: #1967D2;\n",
              "      height: 32px;\n",
              "      padding: 0 0 0 0;\n",
              "      width: 32px;\n",
              "    }\n",
              "\n",
              "    .colab-df-convert:hover {\n",
              "      background-color: #E2EBFA;\n",
              "      box-shadow: 0px 1px 2px rgba(60, 64, 67, 0.3), 0px 1px 3px 1px rgba(60, 64, 67, 0.15);\n",
              "      fill: #174EA6;\n",
              "    }\n",
              "\n",
              "    .colab-df-buttons div {\n",
              "      margin-bottom: 4px;\n",
              "    }\n",
              "\n",
              "    [theme=dark] .colab-df-convert {\n",
              "      background-color: #3B4455;\n",
              "      fill: #D2E3FC;\n",
              "    }\n",
              "\n",
              "    [theme=dark] .colab-df-convert:hover {\n",
              "      background-color: #434B5C;\n",
              "      box-shadow: 0px 1px 3px 1px rgba(0, 0, 0, 0.15);\n",
              "      filter: drop-shadow(0px 1px 2px rgba(0, 0, 0, 0.3));\n",
              "      fill: #FFFFFF;\n",
              "    }\n",
              "  </style>\n",
              "\n",
              "    <script>\n",
              "      const buttonEl =\n",
              "        document.querySelector('#df-65690b09-85a5-4e1c-b925-47f87e67f218 button.colab-df-convert');\n",
              "      buttonEl.style.display =\n",
              "        google.colab.kernel.accessAllowed ? 'block' : 'none';\n",
              "\n",
              "      async function convertToInteractive(key) {\n",
              "        const element = document.querySelector('#df-65690b09-85a5-4e1c-b925-47f87e67f218');\n",
              "        const dataTable =\n",
              "          await google.colab.kernel.invokeFunction('convertToInteractive',\n",
              "                                                    [key], {});\n",
              "        if (!dataTable) return;\n",
              "\n",
              "        const docLinkHtml = 'Like what you see? Visit the ' +\n",
              "          '<a target=\"_blank\" href=https://colab.research.google.com/notebooks/data_table.ipynb>data table notebook</a>'\n",
              "          + ' to learn more about interactive tables.';\n",
              "        element.innerHTML = '';\n",
              "        dataTable['output_type'] = 'display_data';\n",
              "        await google.colab.output.renderOutput(dataTable, element);\n",
              "        const docLink = document.createElement('div');\n",
              "        docLink.innerHTML = docLinkHtml;\n",
              "        element.appendChild(docLink);\n",
              "      }\n",
              "    </script>\n",
              "  </div>\n",
              "\n",
              "\n",
              "<div id=\"df-9d4f1dfd-9ca7-41ea-8946-1361e57d87d1\">\n",
              "  <button class=\"colab-df-quickchart\" onclick=\"quickchart('df-9d4f1dfd-9ca7-41ea-8946-1361e57d87d1')\"\n",
              "            title=\"Suggest charts\"\n",
              "            style=\"display:none;\">\n",
              "\n",
              "<svg xmlns=\"http://www.w3.org/2000/svg\" height=\"24px\"viewBox=\"0 0 24 24\"\n",
              "     width=\"24px\">\n",
              "    <g>\n",
              "        <path d=\"M19 3H5c-1.1 0-2 .9-2 2v14c0 1.1.9 2 2 2h14c1.1 0 2-.9 2-2V5c0-1.1-.9-2-2-2zM9 17H7v-7h2v7zm4 0h-2V7h2v10zm4 0h-2v-4h2v4z\"/>\n",
              "    </g>\n",
              "</svg>\n",
              "  </button>\n",
              "\n",
              "<style>\n",
              "  .colab-df-quickchart {\n",
              "      --bg-color: #E8F0FE;\n",
              "      --fill-color: #1967D2;\n",
              "      --hover-bg-color: #E2EBFA;\n",
              "      --hover-fill-color: #174EA6;\n",
              "      --disabled-fill-color: #AAA;\n",
              "      --disabled-bg-color: #DDD;\n",
              "  }\n",
              "\n",
              "  [theme=dark] .colab-df-quickchart {\n",
              "      --bg-color: #3B4455;\n",
              "      --fill-color: #D2E3FC;\n",
              "      --hover-bg-color: #434B5C;\n",
              "      --hover-fill-color: #FFFFFF;\n",
              "      --disabled-bg-color: #3B4455;\n",
              "      --disabled-fill-color: #666;\n",
              "  }\n",
              "\n",
              "  .colab-df-quickchart {\n",
              "    background-color: var(--bg-color);\n",
              "    border: none;\n",
              "    border-radius: 50%;\n",
              "    cursor: pointer;\n",
              "    display: none;\n",
              "    fill: var(--fill-color);\n",
              "    height: 32px;\n",
              "    padding: 0;\n",
              "    width: 32px;\n",
              "  }\n",
              "\n",
              "  .colab-df-quickchart:hover {\n",
              "    background-color: var(--hover-bg-color);\n",
              "    box-shadow: 0 1px 2px rgba(60, 64, 67, 0.3), 0 1px 3px 1px rgba(60, 64, 67, 0.15);\n",
              "    fill: var(--button-hover-fill-color);\n",
              "  }\n",
              "\n",
              "  .colab-df-quickchart-complete:disabled,\n",
              "  .colab-df-quickchart-complete:disabled:hover {\n",
              "    background-color: var(--disabled-bg-color);\n",
              "    fill: var(--disabled-fill-color);\n",
              "    box-shadow: none;\n",
              "  }\n",
              "\n",
              "  .colab-df-spinner {\n",
              "    border: 2px solid var(--fill-color);\n",
              "    border-color: transparent;\n",
              "    border-bottom-color: var(--fill-color);\n",
              "    animation:\n",
              "      spin 1s steps(1) infinite;\n",
              "  }\n",
              "\n",
              "  @keyframes spin {\n",
              "    0% {\n",
              "      border-color: transparent;\n",
              "      border-bottom-color: var(--fill-color);\n",
              "      border-left-color: var(--fill-color);\n",
              "    }\n",
              "    20% {\n",
              "      border-color: transparent;\n",
              "      border-left-color: var(--fill-color);\n",
              "      border-top-color: var(--fill-color);\n",
              "    }\n",
              "    30% {\n",
              "      border-color: transparent;\n",
              "      border-left-color: var(--fill-color);\n",
              "      border-top-color: var(--fill-color);\n",
              "      border-right-color: var(--fill-color);\n",
              "    }\n",
              "    40% {\n",
              "      border-color: transparent;\n",
              "      border-right-color: var(--fill-color);\n",
              "      border-top-color: var(--fill-color);\n",
              "    }\n",
              "    60% {\n",
              "      border-color: transparent;\n",
              "      border-right-color: var(--fill-color);\n",
              "    }\n",
              "    80% {\n",
              "      border-color: transparent;\n",
              "      border-right-color: var(--fill-color);\n",
              "      border-bottom-color: var(--fill-color);\n",
              "    }\n",
              "    90% {\n",
              "      border-color: transparent;\n",
              "      border-bottom-color: var(--fill-color);\n",
              "    }\n",
              "  }\n",
              "</style>\n",
              "\n",
              "  <script>\n",
              "    async function quickchart(key) {\n",
              "      const quickchartButtonEl =\n",
              "        document.querySelector('#' + key + ' button');\n",
              "      quickchartButtonEl.disabled = true;  // To prevent multiple clicks.\n",
              "      quickchartButtonEl.classList.add('colab-df-spinner');\n",
              "      try {\n",
              "        const charts = await google.colab.kernel.invokeFunction(\n",
              "            'suggestCharts', [key], {});\n",
              "      } catch (error) {\n",
              "        console.error('Error during call to suggestCharts:', error);\n",
              "      }\n",
              "      quickchartButtonEl.classList.remove('colab-df-spinner');\n",
              "      quickchartButtonEl.classList.add('colab-df-quickchart-complete');\n",
              "    }\n",
              "    (() => {\n",
              "      let quickchartButtonEl =\n",
              "        document.querySelector('#df-9d4f1dfd-9ca7-41ea-8946-1361e57d87d1 button');\n",
              "      quickchartButtonEl.style.display =\n",
              "        google.colab.kernel.accessAllowed ? 'block' : 'none';\n",
              "    })();\n",
              "  </script>\n",
              "</div>\n",
              "\n",
              "  <div id=\"id_c4d4bc4f-38bf-4da1-abdc-02c072af1486\">\n",
              "    <style>\n",
              "      .colab-df-generate {\n",
              "        background-color: #E8F0FE;\n",
              "        border: none;\n",
              "        border-radius: 50%;\n",
              "        cursor: pointer;\n",
              "        display: none;\n",
              "        fill: #1967D2;\n",
              "        height: 32px;\n",
              "        padding: 0 0 0 0;\n",
              "        width: 32px;\n",
              "      }\n",
              "\n",
              "      .colab-df-generate:hover {\n",
              "        background-color: #E2EBFA;\n",
              "        box-shadow: 0px 1px 2px rgba(60, 64, 67, 0.3), 0px 1px 3px 1px rgba(60, 64, 67, 0.15);\n",
              "        fill: #174EA6;\n",
              "      }\n",
              "\n",
              "      [theme=dark] .colab-df-generate {\n",
              "        background-color: #3B4455;\n",
              "        fill: #D2E3FC;\n",
              "      }\n",
              "\n",
              "      [theme=dark] .colab-df-generate:hover {\n",
              "        background-color: #434B5C;\n",
              "        box-shadow: 0px 1px 3px 1px rgba(0, 0, 0, 0.15);\n",
              "        filter: drop-shadow(0px 1px 2px rgba(0, 0, 0, 0.3));\n",
              "        fill: #FFFFFF;\n",
              "      }\n",
              "    </style>\n",
              "    <button class=\"colab-df-generate\" onclick=\"generateWithVariable('q_results')\"\n",
              "            title=\"Generate code using this dataframe.\"\n",
              "            style=\"display:none;\">\n",
              "\n",
              "  <svg xmlns=\"http://www.w3.org/2000/svg\" height=\"24px\"viewBox=\"0 0 24 24\"\n",
              "       width=\"24px\">\n",
              "    <path d=\"M7,19H8.4L18.45,9,17,7.55,7,17.6ZM5,21V16.75L18.45,3.32a2,2,0,0,1,2.83,0l1.4,1.43a1.91,1.91,0,0,1,.58,1.4,1.91,1.91,0,0,1-.58,1.4L9.25,21ZM18.45,9,17,7.55Zm-12,3A5.31,5.31,0,0,0,4.9,8.1,5.31,5.31,0,0,0,1,6.5,5.31,5.31,0,0,0,4.9,4.9,5.31,5.31,0,0,0,6.5,1,5.31,5.31,0,0,0,8.1,4.9,5.31,5.31,0,0,0,12,6.5,5.46,5.46,0,0,0,6.5,12Z\"/>\n",
              "  </svg>\n",
              "    </button>\n",
              "    <script>\n",
              "      (() => {\n",
              "      const buttonEl =\n",
              "        document.querySelector('#id_c4d4bc4f-38bf-4da1-abdc-02c072af1486 button.colab-df-generate');\n",
              "      buttonEl.style.display =\n",
              "        google.colab.kernel.accessAllowed ? 'block' : 'none';\n",
              "\n",
              "      buttonEl.onclick = () => {\n",
              "        google.colab.notebook.generateWithVariable('q_results');\n",
              "      }\n",
              "      })();\n",
              "    </script>\n",
              "  </div>\n",
              "\n",
              "    </div>\n",
              "  </div>\n"
            ],
            "application/vnd.google.colaboratory.intrinsic+json": {
              "type": "dataframe",
              "variable_name": "q_results"
            }
          },
          "metadata": {},
          "execution_count": 33
        }
      ],
      "source": [
        "query = f\"\"\"\n",
        "        SELECT *\n",
        "        FROM ivoa.obscore\n",
        "        WHERE INTERSECTS(\n",
        "                CIRCLE( 'ICRS', 67.910462, 18.232739,  0.005)\n",
        "                ,s_region ) =1\n",
        "        \"\"\"\n",
        "q_results = service.search(query).to_table().to_pandas()\n",
        "q_results"
      ]
    },
    {
      "cell_type": "markdown",
      "metadata": {
        "editable": true,
        "tags": [],
        "id": "5EDEIPDsnqzb"
      },
      "source": [
        "## Query by a list of coordinates\n",
        "#### **RA** = 67.910462 , **Dec** = 18.232739\n",
        "#### **RA** = 165.466277, **Dec** = -34.704758"
      ]
    },
    {
      "cell_type": "code",
      "execution_count": 34,
      "metadata": {
        "editable": true,
        "tags": [],
        "colab": {
          "base_uri": "https://localhost:8080/",
          "height": 568
        },
        "id": "oy-ZSVzMnqzc",
        "outputId": "38716e11-fdc1-4d70-ae0e-d31e9fe2c934"
      },
      "outputs": [
        {
          "output_type": "execute_result",
          "data": {
            "text/plain": [
              "               obs_publisher_did obs_collection facility_name instrument_name  \\\n",
              "0    ADS/JAO.ALMA#2011.0.00340.S           ALMA           JAO            ALMA   \n",
              "1    ADS/JAO.ALMA#2011.0.00340.S           ALMA           JAO            ALMA   \n",
              "..                           ...            ...           ...             ...   \n",
              "753  ADS/JAO.ALMA#2023.1.00515.S           ALMA           JAO            ALMA   \n",
              "754  ADS/JAO.ALMA#2023.1.00515.S           ALMA           JAO            ALMA   \n",
              "\n",
              "                                          obs_id dataproduct_type  \\\n",
              "0    uid://A002/X327408/X76.source.TW Hya.spw.21             cube   \n",
              "1    uid://A002/X327408/X76.source.TW Hya.spw.23             cube   \n",
              "..                                           ...              ...   \n",
              "753   uid://A001/X362b/X553.source.HL_Tau.spw.26             cube   \n",
              "754   uid://A001/X362b/X553.source.HL_Tau.spw.30             cube   \n",
              "\n",
              "     calib_level collections target_name        s_ra      s_dec     s_fov  \\\n",
              "0              2                  TW Hya  165.465817 -34.704824  0.004428   \n",
              "1              2                  TW Hya  165.465817 -34.704824  0.004428   \n",
              "..           ...         ...         ...         ...        ...       ...   \n",
              "753            2                  HL_Tau   67.910210  18.232536  0.011154   \n",
              "754            2                  HL_Tau   67.910210  18.232536  0.011154   \n",
              "\n",
              "                                              s_region  s_xel1  s_xel2  \\\n",
              "0           Circle ICRS 165.465817 -34.704824 0.002214    <NA>    <NA>   \n",
              "1           Circle ICRS 165.465817 -34.704824 0.002214    <NA>    <NA>   \n",
              "..                                                 ...     ...     ...   \n",
              "753  Polygon ICRS 67.915670 18.234589 67.916082 18....    <NA>    <NA>   \n",
              "754  Polygon ICRS 67.915670 18.234589 67.916082 18....    <NA>    <NA>   \n",
              "\n",
              "     em_xel  t_xel  pol_xel  s_resolution         t_min         t_max  \\\n",
              "0      3840      1        2      0.466158  56250.330710  56250.582863   \n",
              "1      3840      1        2      0.466158  56250.330710  56250.582863   \n",
              "..      ...    ...      ...           ...           ...           ...   \n",
              "753     960      1        4      0.292604  60294.111429  60297.205271   \n",
              "754     960      1        4      0.292604  60294.111429  60297.205271   \n",
              "\n",
              "     t_exptime  t_resolution    em_min    em_max  em_res_power     pol_states  \\\n",
              "0     4898.880      4898.880  0.000836  0.000836  2.938699e+06        /XX/YY/   \n",
              "1     4898.880      4898.880  0.000837  0.000838  2.933069e+06        /XX/YY/   \n",
              "..         ...           ...       ...       ...           ...            ...   \n",
              "753  14333.672     14333.672  0.001986  0.002011  6.603049e+04  /XX/XY/YX/YY/   \n",
              "754  14333.672     14333.672  0.001960  0.001985  6.689771e+04  /XX/XY/YX/YY/   \n",
              "\n",
              "     cont_sensitivity_bandwidth       pwv          group_ous_uid  \\\n",
              "0                      0.223718  0.498771                          \n",
              "1                      0.223718  0.498771                          \n",
              "..                          ...       ...                    ...   \n",
              "753                    0.013239  3.058361  uid://A001/X362b/X550   \n",
              "754                    0.013239  3.058361  uid://A001/X362b/X550   \n",
              "\n",
              "             member_ous_uid                    asdm_uid  \\\n",
              "0    uid://A002/X327408/X76     uid://A002/X554543/X207   \n",
              "1    uid://A002/X327408/X76     uid://A002/X554543/X207   \n",
              "..                      ...                         ...   \n",
              "753   uid://A001/X362b/X553  uid://A002/X110fd13/X1bfc3   \n",
              "754   uid://A001/X362b/X553  uid://A002/X110fd13/X1bfc3   \n",
              "\n",
              "                                             obs_title type scan_intent  \\\n",
              "0        Searching for H2D+ in the disk of TW Hya v1.5    S      TARGET   \n",
              "1        Searching for H2D+ in the disk of TW Hya v1.5    S      TARGET   \n",
              "..                                                 ...  ...         ...   \n",
              "753  A New Era in Disk Polarization: Substructures ...    S      TARGET   \n",
              "754  A New Era in Disk Polarization: Substructures ...    S      TARGET   \n",
              "\n",
              "    science_observation  spatial_scale_max qa2_passed  \\\n",
              "0                     T           5.495015          T   \n",
              "1                     T           5.495015          T   \n",
              "..                  ...                ...        ...   \n",
              "753                   T           6.549399          F   \n",
              "754                   T           6.549399          F   \n",
              "\n",
              "                                         bib_reference  \\\n",
              "0    2013Sci...341..630Q 2016A&A...586A..70L 2016A&...   \n",
              "1    2013Sci...341..630Q 2016A&A...586A..70L 2016A&...   \n",
              "..                                                 ...   \n",
              "753                                                      \n",
              "754                                                      \n",
              "\n",
              "                                       science_keyword  \\\n",
              "0    Disks around low-mass stars, Pre-stellar cores...   \n",
              "1    Disks around low-mass stars, Pre-stellar cores...   \n",
              "..                                                 ...   \n",
              "753                        Disks around low-mass stars   \n",
              "754                        Disks around low-mass stars   \n",
              "\n",
              "            scientific_category   pi_userid        pi_name  \\\n",
              "0    Disks and planet formation         cqi    Qi, Chunhua   \n",
              "1    Disks and planet formation         cqi    Qi, Chunhua   \n",
              "..                          ...         ...            ...   \n",
              "753  Disks and planet formation  iwstephens  Stephens, Ian   \n",
              "754  Disks and planet formation  iwstephens  Stephens, Ian   \n",
              "\n",
              "     spectral_resolution                                o_ucd  \\\n",
              "0             122.070312  phot.flux.density;phys.polarization   \n",
              "1             122.070312  phot.flux.density;phys.polarization   \n",
              "..                   ...                                  ...   \n",
              "753          2257.812500  phot.flux.density;phys.polarization   \n",
              "754          2257.812500  phot.flux.density;phys.polarization   \n",
              "\n",
              "                                            access_url access_format  \\\n",
              "0    https://almascience.org/datalink/sync?ID=uid:/...     applicati   \n",
              "1    https://almascience.org/datalink/sync?ID=uid:/...     applicati   \n",
              "..                                                 ...           ...   \n",
              "753  https://almascience.org/datalink/sync?ID=uid:/...     applicati   \n",
              "754  https://almascience.org/datalink/sync?ID=uid:/...     applicati   \n",
              "\n",
              "     access_estsize     proposal_id  data_rights  gal_longitude  gal_latitude  \\\n",
              "0              <NA>  2011.0.00340.S       Public     278.678436     22.954371   \n",
              "1              <NA>  2011.0.00340.S       Public     278.678436     22.954371   \n",
              "..              ...             ...          ...            ...           ...   \n",
              "753            <NA>  2023.1.00515.S  Proprietary     178.859120    -19.972443   \n",
              "754            <NA>  2023.1.00515.S  Proprietary     178.859120    -19.972443   \n",
              "\n",
              "    band_list  em_resolution     bandwidth  \\\n",
              "0           7   2.845864e-10  2.343750e+08   \n",
              "1           7   2.856805e-10  2.343750e+08   \n",
              "..        ...            ...           ...   \n",
              "753         4   3.007198e-08  1.875000e+09   \n",
              "754         4   2.930208e-08  1.875000e+09   \n",
              "\n",
              "                                        antenna_arrays is_mosaic  \\\n",
              "0    A001:DV01 A003:DA41 A004:DV04 A006:DV07 A007:D...         F   \n",
              "1    A001:DV01 A003:DA41 A004:DV04 A006:DV07 A007:D...         F   \n",
              "..                                                 ...       ...   \n",
              "753  A001:DV12 A007:DV11 A011:DV01 A015:DA52 A016:D...         F   \n",
              "754  A001:DV12 A007:DV11 A011:DV01 A015:DA52 A016:D...         F   \n",
              "\n",
              "            obs_release_date  spatial_resolution  \\\n",
              "0    2013-12-06T19:55:00.000            0.466158   \n",
              "1    2013-12-06T19:55:00.000            0.466158   \n",
              "..                       ...                 ...   \n",
              "753  3000-01-01T00:00:00.000            0.292604   \n",
              "754  3000-01-01T00:00:00.000            0.292604   \n",
              "\n",
              "                                     frequency_support   frequency  \\\n",
              "0    [357.79..358.03GHz,122.07kHz,2.4mJy/beam@10km/...  358.598400   \n",
              "1    [357.79..358.03GHz,122.07kHz,2.4mJy/beam@10km/...  357.911077   \n",
              "..                                                 ...         ...   \n",
              "753  [137.09..138.97GHz,2257.81kHz,527.7uJy/beam@10...  150.031264   \n",
              "754  [137.09..138.97GHz,2257.81kHz,527.7uJy/beam@10...  151.989398   \n",
              "\n",
              "     velocity_resolution obs_creator_name  \\\n",
              "0              98.173247             ALMA   \n",
              "1              98.173247             ALMA   \n",
              "..                   ...              ...   \n",
              "753          4481.356334             ALMA   \n",
              "754          4481.356334             ALMA   \n",
              "\n",
              "                                             pub_title  \\\n",
              "0    ALMA Observations of a Gap and a Ring in the P...   \n",
              "1    ALMA Observations of a Gap and a Ring in the P...   \n",
              "..                                                 ...   \n",
              "753                                                      \n",
              "754                                                      \n",
              "\n",
              "                                          first_author  \\\n",
              "0    Hogerheijde, Michiel R. Leon, S. Nomura, Hidek...   \n",
              "1    Hogerheijde, Michiel R. Leon, S. Nomura, Hidek...   \n",
              "..                                                 ...   \n",
              "753                                                      \n",
              "754                                                      \n",
              "\n",
              "                                               authors  \\\n",
              "0    Hogerheijde, Michiel R.; Bekkers, David; Pinil...   \n",
              "1    Hogerheijde, Michiel R.; Bekkers, David; Pinil...   \n",
              "..                                                 ...   \n",
              "753                                                      \n",
              "754                                                      \n",
              "\n",
              "                                          pub_abstract  publication_year  \\\n",
              "0    Aims: We aim at analyzing the (sub-)millimeter...              2013   \n",
              "1    Aims: We aim at analyzing the (sub-)millimeter...              2013   \n",
              "..                                                 ...               ...   \n",
              "753                                                                 <NA>   \n",
              "754                                                                 <NA>   \n",
              "\n",
              "                                     proposal_abstract  schedblock_name  \\\n",
              "0    Most of the mass in a protoplanetary disk is r...           TW Hya   \n",
              "1    Most of the mass in a protoplanetary disk is r...           TW Hya   \n",
              "..                                                 ...              ...   \n",
              "753  ALMA recently observed polarization in HL Tau ...  HL_Tau_a_04_TM2   \n",
              "754  ALMA recently observed polarization in HL Tau ...  HL_Tau_a_04_TM2   \n",
              "\n",
              "                                      proposal_authors  sensitivity_10kms  \\\n",
              "0    Oberg, Karin; Bergin, Edwin; Blake, Geoffrey; ...           2.395409   \n",
              "1    Oberg, Karin; Bergin, Edwin; Blake, Geoffrey; ...           2.396412   \n",
              "..                                                 ...                ...   \n",
              "753  Looney, Leslie; Lin, Zhe-Yu Daniel; Yang, Haif...           0.504474   \n",
              "754  Looney, Leslie; Lin, Zhe-Yu Daniel; Yang, Haif...           0.535628   \n",
              "\n",
              "                lastModified  \n",
              "0    2024-08-21T18:10:02.819  \n",
              "1    2024-08-21T18:10:02.819  \n",
              "..                       ...  \n",
              "753  2024-08-21T18:10:02.819  \n",
              "754  2024-08-21T18:10:02.819  \n",
              "\n",
              "[755 rows x 73 columns]"
            ],
            "text/html": [
              "\n",
              "  <div id=\"df-c75bdd85-81a5-46e3-bb53-4394708dfa16\" class=\"colab-df-container\">\n",
              "    <div>\n",
              "<style scoped>\n",
              "    .dataframe tbody tr th:only-of-type {\n",
              "        vertical-align: middle;\n",
              "    }\n",
              "\n",
              "    .dataframe tbody tr th {\n",
              "        vertical-align: top;\n",
              "    }\n",
              "\n",
              "    .dataframe thead th {\n",
              "        text-align: right;\n",
              "    }\n",
              "</style>\n",
              "<table border=\"1\" class=\"dataframe\">\n",
              "  <thead>\n",
              "    <tr style=\"text-align: right;\">\n",
              "      <th></th>\n",
              "      <th>obs_publisher_did</th>\n",
              "      <th>obs_collection</th>\n",
              "      <th>facility_name</th>\n",
              "      <th>instrument_name</th>\n",
              "      <th>obs_id</th>\n",
              "      <th>dataproduct_type</th>\n",
              "      <th>calib_level</th>\n",
              "      <th>collections</th>\n",
              "      <th>target_name</th>\n",
              "      <th>s_ra</th>\n",
              "      <th>s_dec</th>\n",
              "      <th>s_fov</th>\n",
              "      <th>s_region</th>\n",
              "      <th>s_xel1</th>\n",
              "      <th>s_xel2</th>\n",
              "      <th>em_xel</th>\n",
              "      <th>t_xel</th>\n",
              "      <th>pol_xel</th>\n",
              "      <th>s_resolution</th>\n",
              "      <th>t_min</th>\n",
              "      <th>t_max</th>\n",
              "      <th>t_exptime</th>\n",
              "      <th>t_resolution</th>\n",
              "      <th>em_min</th>\n",
              "      <th>em_max</th>\n",
              "      <th>em_res_power</th>\n",
              "      <th>pol_states</th>\n",
              "      <th>cont_sensitivity_bandwidth</th>\n",
              "      <th>pwv</th>\n",
              "      <th>group_ous_uid</th>\n",
              "      <th>member_ous_uid</th>\n",
              "      <th>asdm_uid</th>\n",
              "      <th>obs_title</th>\n",
              "      <th>type</th>\n",
              "      <th>scan_intent</th>\n",
              "      <th>science_observation</th>\n",
              "      <th>spatial_scale_max</th>\n",
              "      <th>qa2_passed</th>\n",
              "      <th>bib_reference</th>\n",
              "      <th>science_keyword</th>\n",
              "      <th>scientific_category</th>\n",
              "      <th>pi_userid</th>\n",
              "      <th>pi_name</th>\n",
              "      <th>spectral_resolution</th>\n",
              "      <th>o_ucd</th>\n",
              "      <th>access_url</th>\n",
              "      <th>access_format</th>\n",
              "      <th>access_estsize</th>\n",
              "      <th>proposal_id</th>\n",
              "      <th>data_rights</th>\n",
              "      <th>gal_longitude</th>\n",
              "      <th>gal_latitude</th>\n",
              "      <th>band_list</th>\n",
              "      <th>em_resolution</th>\n",
              "      <th>bandwidth</th>\n",
              "      <th>antenna_arrays</th>\n",
              "      <th>is_mosaic</th>\n",
              "      <th>obs_release_date</th>\n",
              "      <th>spatial_resolution</th>\n",
              "      <th>frequency_support</th>\n",
              "      <th>frequency</th>\n",
              "      <th>velocity_resolution</th>\n",
              "      <th>obs_creator_name</th>\n",
              "      <th>pub_title</th>\n",
              "      <th>first_author</th>\n",
              "      <th>authors</th>\n",
              "      <th>pub_abstract</th>\n",
              "      <th>publication_year</th>\n",
              "      <th>proposal_abstract</th>\n",
              "      <th>schedblock_name</th>\n",
              "      <th>proposal_authors</th>\n",
              "      <th>sensitivity_10kms</th>\n",
              "      <th>lastModified</th>\n",
              "    </tr>\n",
              "  </thead>\n",
              "  <tbody>\n",
              "    <tr>\n",
              "      <th>0</th>\n",
              "      <td>ADS/JAO.ALMA#2011.0.00340.S</td>\n",
              "      <td>ALMA</td>\n",
              "      <td>JAO</td>\n",
              "      <td>ALMA</td>\n",
              "      <td>uid://A002/X327408/X76.source.TW Hya.spw.21</td>\n",
              "      <td>cube</td>\n",
              "      <td>2</td>\n",
              "      <td></td>\n",
              "      <td>TW Hya</td>\n",
              "      <td>165.465817</td>\n",
              "      <td>-34.704824</td>\n",
              "      <td>0.004428</td>\n",
              "      <td>Circle ICRS 165.465817 -34.704824 0.002214</td>\n",
              "      <td>&lt;NA&gt;</td>\n",
              "      <td>&lt;NA&gt;</td>\n",
              "      <td>3840</td>\n",
              "      <td>1</td>\n",
              "      <td>2</td>\n",
              "      <td>0.466158</td>\n",
              "      <td>56250.330710</td>\n",
              "      <td>56250.582863</td>\n",
              "      <td>4898.880</td>\n",
              "      <td>4898.880</td>\n",
              "      <td>0.000836</td>\n",
              "      <td>0.000836</td>\n",
              "      <td>2.938699e+06</td>\n",
              "      <td>/XX/YY/</td>\n",
              "      <td>0.223718</td>\n",
              "      <td>0.498771</td>\n",
              "      <td></td>\n",
              "      <td>uid://A002/X327408/X76</td>\n",
              "      <td>uid://A002/X554543/X207</td>\n",
              "      <td>Searching for H2D+ in the disk of TW Hya v1.5</td>\n",
              "      <td>S</td>\n",
              "      <td>TARGET</td>\n",
              "      <td>T</td>\n",
              "      <td>5.495015</td>\n",
              "      <td>T</td>\n",
              "      <td>2013Sci...341..630Q 2016A&amp;A...586A..70L 2016A&amp;...</td>\n",
              "      <td>Disks around low-mass stars, Pre-stellar cores...</td>\n",
              "      <td>Disks and planet formation</td>\n",
              "      <td>cqi</td>\n",
              "      <td>Qi, Chunhua</td>\n",
              "      <td>122.070312</td>\n",
              "      <td>phot.flux.density;phys.polarization</td>\n",
              "      <td>https://almascience.org/datalink/sync?ID=uid:/...</td>\n",
              "      <td>applicati</td>\n",
              "      <td>&lt;NA&gt;</td>\n",
              "      <td>2011.0.00340.S</td>\n",
              "      <td>Public</td>\n",
              "      <td>278.678436</td>\n",
              "      <td>22.954371</td>\n",
              "      <td>7</td>\n",
              "      <td>2.845864e-10</td>\n",
              "      <td>2.343750e+08</td>\n",
              "      <td>A001:DV01 A003:DA41 A004:DV04 A006:DV07 A007:D...</td>\n",
              "      <td>F</td>\n",
              "      <td>2013-12-06T19:55:00.000</td>\n",
              "      <td>0.466158</td>\n",
              "      <td>[357.79..358.03GHz,122.07kHz,2.4mJy/beam@10km/...</td>\n",
              "      <td>358.598400</td>\n",
              "      <td>98.173247</td>\n",
              "      <td>ALMA</td>\n",
              "      <td>ALMA Observations of a Gap and a Ring in the P...</td>\n",
              "      <td>Hogerheijde, Michiel R. Leon, S. Nomura, Hidek...</td>\n",
              "      <td>Hogerheijde, Michiel R.; Bekkers, David; Pinil...</td>\n",
              "      <td>Aims: We aim at analyzing the (sub-)millimeter...</td>\n",
              "      <td>2013</td>\n",
              "      <td>Most of the mass in a protoplanetary disk is r...</td>\n",
              "      <td>TW Hya</td>\n",
              "      <td>Oberg, Karin; Bergin, Edwin; Blake, Geoffrey; ...</td>\n",
              "      <td>2.395409</td>\n",
              "      <td>2024-08-21T18:10:02.819</td>\n",
              "    </tr>\n",
              "    <tr>\n",
              "      <th>1</th>\n",
              "      <td>ADS/JAO.ALMA#2011.0.00340.S</td>\n",
              "      <td>ALMA</td>\n",
              "      <td>JAO</td>\n",
              "      <td>ALMA</td>\n",
              "      <td>uid://A002/X327408/X76.source.TW Hya.spw.23</td>\n",
              "      <td>cube</td>\n",
              "      <td>2</td>\n",
              "      <td></td>\n",
              "      <td>TW Hya</td>\n",
              "      <td>165.465817</td>\n",
              "      <td>-34.704824</td>\n",
              "      <td>0.004428</td>\n",
              "      <td>Circle ICRS 165.465817 -34.704824 0.002214</td>\n",
              "      <td>&lt;NA&gt;</td>\n",
              "      <td>&lt;NA&gt;</td>\n",
              "      <td>3840</td>\n",
              "      <td>1</td>\n",
              "      <td>2</td>\n",
              "      <td>0.466158</td>\n",
              "      <td>56250.330710</td>\n",
              "      <td>56250.582863</td>\n",
              "      <td>4898.880</td>\n",
              "      <td>4898.880</td>\n",
              "      <td>0.000837</td>\n",
              "      <td>0.000838</td>\n",
              "      <td>2.933069e+06</td>\n",
              "      <td>/XX/YY/</td>\n",
              "      <td>0.223718</td>\n",
              "      <td>0.498771</td>\n",
              "      <td></td>\n",
              "      <td>uid://A002/X327408/X76</td>\n",
              "      <td>uid://A002/X554543/X207</td>\n",
              "      <td>Searching for H2D+ in the disk of TW Hya v1.5</td>\n",
              "      <td>S</td>\n",
              "      <td>TARGET</td>\n",
              "      <td>T</td>\n",
              "      <td>5.495015</td>\n",
              "      <td>T</td>\n",
              "      <td>2013Sci...341..630Q 2016A&amp;A...586A..70L 2016A&amp;...</td>\n",
              "      <td>Disks around low-mass stars, Pre-stellar cores...</td>\n",
              "      <td>Disks and planet formation</td>\n",
              "      <td>cqi</td>\n",
              "      <td>Qi, Chunhua</td>\n",
              "      <td>122.070312</td>\n",
              "      <td>phot.flux.density;phys.polarization</td>\n",
              "      <td>https://almascience.org/datalink/sync?ID=uid:/...</td>\n",
              "      <td>applicati</td>\n",
              "      <td>&lt;NA&gt;</td>\n",
              "      <td>2011.0.00340.S</td>\n",
              "      <td>Public</td>\n",
              "      <td>278.678436</td>\n",
              "      <td>22.954371</td>\n",
              "      <td>7</td>\n",
              "      <td>2.856805e-10</td>\n",
              "      <td>2.343750e+08</td>\n",
              "      <td>A001:DV01 A003:DA41 A004:DV04 A006:DV07 A007:D...</td>\n",
              "      <td>F</td>\n",
              "      <td>2013-12-06T19:55:00.000</td>\n",
              "      <td>0.466158</td>\n",
              "      <td>[357.79..358.03GHz,122.07kHz,2.4mJy/beam@10km/...</td>\n",
              "      <td>357.911077</td>\n",
              "      <td>98.173247</td>\n",
              "      <td>ALMA</td>\n",
              "      <td>ALMA Observations of a Gap and a Ring in the P...</td>\n",
              "      <td>Hogerheijde, Michiel R. Leon, S. Nomura, Hidek...</td>\n",
              "      <td>Hogerheijde, Michiel R.; Bekkers, David; Pinil...</td>\n",
              "      <td>Aims: We aim at analyzing the (sub-)millimeter...</td>\n",
              "      <td>2013</td>\n",
              "      <td>Most of the mass in a protoplanetary disk is r...</td>\n",
              "      <td>TW Hya</td>\n",
              "      <td>Oberg, Karin; Bergin, Edwin; Blake, Geoffrey; ...</td>\n",
              "      <td>2.396412</td>\n",
              "      <td>2024-08-21T18:10:02.819</td>\n",
              "    </tr>\n",
              "    <tr>\n",
              "      <th>...</th>\n",
              "      <td>...</td>\n",
              "      <td>...</td>\n",
              "      <td>...</td>\n",
              "      <td>...</td>\n",
              "      <td>...</td>\n",
              "      <td>...</td>\n",
              "      <td>...</td>\n",
              "      <td>...</td>\n",
              "      <td>...</td>\n",
              "      <td>...</td>\n",
              "      <td>...</td>\n",
              "      <td>...</td>\n",
              "      <td>...</td>\n",
              "      <td>...</td>\n",
              "      <td>...</td>\n",
              "      <td>...</td>\n",
              "      <td>...</td>\n",
              "      <td>...</td>\n",
              "      <td>...</td>\n",
              "      <td>...</td>\n",
              "      <td>...</td>\n",
              "      <td>...</td>\n",
              "      <td>...</td>\n",
              "      <td>...</td>\n",
              "      <td>...</td>\n",
              "      <td>...</td>\n",
              "      <td>...</td>\n",
              "      <td>...</td>\n",
              "      <td>...</td>\n",
              "      <td>...</td>\n",
              "      <td>...</td>\n",
              "      <td>...</td>\n",
              "      <td>...</td>\n",
              "      <td>...</td>\n",
              "      <td>...</td>\n",
              "      <td>...</td>\n",
              "      <td>...</td>\n",
              "      <td>...</td>\n",
              "      <td>...</td>\n",
              "      <td>...</td>\n",
              "      <td>...</td>\n",
              "      <td>...</td>\n",
              "      <td>...</td>\n",
              "      <td>...</td>\n",
              "      <td>...</td>\n",
              "      <td>...</td>\n",
              "      <td>...</td>\n",
              "      <td>...</td>\n",
              "      <td>...</td>\n",
              "      <td>...</td>\n",
              "      <td>...</td>\n",
              "      <td>...</td>\n",
              "      <td>...</td>\n",
              "      <td>...</td>\n",
              "      <td>...</td>\n",
              "      <td>...</td>\n",
              "      <td>...</td>\n",
              "      <td>...</td>\n",
              "      <td>...</td>\n",
              "      <td>...</td>\n",
              "      <td>...</td>\n",
              "      <td>...</td>\n",
              "      <td>...</td>\n",
              "      <td>...</td>\n",
              "      <td>...</td>\n",
              "      <td>...</td>\n",
              "      <td>...</td>\n",
              "      <td>...</td>\n",
              "      <td>...</td>\n",
              "      <td>...</td>\n",
              "      <td>...</td>\n",
              "      <td>...</td>\n",
              "      <td>...</td>\n",
              "    </tr>\n",
              "    <tr>\n",
              "      <th>753</th>\n",
              "      <td>ADS/JAO.ALMA#2023.1.00515.S</td>\n",
              "      <td>ALMA</td>\n",
              "      <td>JAO</td>\n",
              "      <td>ALMA</td>\n",
              "      <td>uid://A001/X362b/X553.source.HL_Tau.spw.26</td>\n",
              "      <td>cube</td>\n",
              "      <td>2</td>\n",
              "      <td></td>\n",
              "      <td>HL_Tau</td>\n",
              "      <td>67.910210</td>\n",
              "      <td>18.232536</td>\n",
              "      <td>0.011154</td>\n",
              "      <td>Polygon ICRS 67.915670 18.234589 67.916082 18....</td>\n",
              "      <td>&lt;NA&gt;</td>\n",
              "      <td>&lt;NA&gt;</td>\n",
              "      <td>960</td>\n",
              "      <td>1</td>\n",
              "      <td>4</td>\n",
              "      <td>0.292604</td>\n",
              "      <td>60294.111429</td>\n",
              "      <td>60297.205271</td>\n",
              "      <td>14333.672</td>\n",
              "      <td>14333.672</td>\n",
              "      <td>0.001986</td>\n",
              "      <td>0.002011</td>\n",
              "      <td>6.603049e+04</td>\n",
              "      <td>/XX/XY/YX/YY/</td>\n",
              "      <td>0.013239</td>\n",
              "      <td>3.058361</td>\n",
              "      <td>uid://A001/X362b/X550</td>\n",
              "      <td>uid://A001/X362b/X553</td>\n",
              "      <td>uid://A002/X110fd13/X1bfc3</td>\n",
              "      <td>A New Era in Disk Polarization: Substructures ...</td>\n",
              "      <td>S</td>\n",
              "      <td>TARGET</td>\n",
              "      <td>T</td>\n",
              "      <td>6.549399</td>\n",
              "      <td>F</td>\n",
              "      <td></td>\n",
              "      <td>Disks around low-mass stars</td>\n",
              "      <td>Disks and planet formation</td>\n",
              "      <td>iwstephens</td>\n",
              "      <td>Stephens, Ian</td>\n",
              "      <td>2257.812500</td>\n",
              "      <td>phot.flux.density;phys.polarization</td>\n",
              "      <td>https://almascience.org/datalink/sync?ID=uid:/...</td>\n",
              "      <td>applicati</td>\n",
              "      <td>&lt;NA&gt;</td>\n",
              "      <td>2023.1.00515.S</td>\n",
              "      <td>Proprietary</td>\n",
              "      <td>178.859120</td>\n",
              "      <td>-19.972443</td>\n",
              "      <td>4</td>\n",
              "      <td>3.007198e-08</td>\n",
              "      <td>1.875000e+09</td>\n",
              "      <td>A001:DV12 A007:DV11 A011:DV01 A015:DA52 A016:D...</td>\n",
              "      <td>F</td>\n",
              "      <td>3000-01-01T00:00:00.000</td>\n",
              "      <td>0.292604</td>\n",
              "      <td>[137.09..138.97GHz,2257.81kHz,527.7uJy/beam@10...</td>\n",
              "      <td>150.031264</td>\n",
              "      <td>4481.356334</td>\n",
              "      <td>ALMA</td>\n",
              "      <td></td>\n",
              "      <td></td>\n",
              "      <td></td>\n",
              "      <td></td>\n",
              "      <td>&lt;NA&gt;</td>\n",
              "      <td>ALMA recently observed polarization in HL Tau ...</td>\n",
              "      <td>HL_Tau_a_04_TM2</td>\n",
              "      <td>Looney, Leslie; Lin, Zhe-Yu Daniel; Yang, Haif...</td>\n",
              "      <td>0.504474</td>\n",
              "      <td>2024-08-21T18:10:02.819</td>\n",
              "    </tr>\n",
              "    <tr>\n",
              "      <th>754</th>\n",
              "      <td>ADS/JAO.ALMA#2023.1.00515.S</td>\n",
              "      <td>ALMA</td>\n",
              "      <td>JAO</td>\n",
              "      <td>ALMA</td>\n",
              "      <td>uid://A001/X362b/X553.source.HL_Tau.spw.30</td>\n",
              "      <td>cube</td>\n",
              "      <td>2</td>\n",
              "      <td></td>\n",
              "      <td>HL_Tau</td>\n",
              "      <td>67.910210</td>\n",
              "      <td>18.232536</td>\n",
              "      <td>0.011154</td>\n",
              "      <td>Polygon ICRS 67.915670 18.234589 67.916082 18....</td>\n",
              "      <td>&lt;NA&gt;</td>\n",
              "      <td>&lt;NA&gt;</td>\n",
              "      <td>960</td>\n",
              "      <td>1</td>\n",
              "      <td>4</td>\n",
              "      <td>0.292604</td>\n",
              "      <td>60294.111429</td>\n",
              "      <td>60297.205271</td>\n",
              "      <td>14333.672</td>\n",
              "      <td>14333.672</td>\n",
              "      <td>0.001960</td>\n",
              "      <td>0.001985</td>\n",
              "      <td>6.689771e+04</td>\n",
              "      <td>/XX/XY/YX/YY/</td>\n",
              "      <td>0.013239</td>\n",
              "      <td>3.058361</td>\n",
              "      <td>uid://A001/X362b/X550</td>\n",
              "      <td>uid://A001/X362b/X553</td>\n",
              "      <td>uid://A002/X110fd13/X1bfc3</td>\n",
              "      <td>A New Era in Disk Polarization: Substructures ...</td>\n",
              "      <td>S</td>\n",
              "      <td>TARGET</td>\n",
              "      <td>T</td>\n",
              "      <td>6.549399</td>\n",
              "      <td>F</td>\n",
              "      <td></td>\n",
              "      <td>Disks around low-mass stars</td>\n",
              "      <td>Disks and planet formation</td>\n",
              "      <td>iwstephens</td>\n",
              "      <td>Stephens, Ian</td>\n",
              "      <td>2257.812500</td>\n",
              "      <td>phot.flux.density;phys.polarization</td>\n",
              "      <td>https://almascience.org/datalink/sync?ID=uid:/...</td>\n",
              "      <td>applicati</td>\n",
              "      <td>&lt;NA&gt;</td>\n",
              "      <td>2023.1.00515.S</td>\n",
              "      <td>Proprietary</td>\n",
              "      <td>178.859120</td>\n",
              "      <td>-19.972443</td>\n",
              "      <td>4</td>\n",
              "      <td>2.930208e-08</td>\n",
              "      <td>1.875000e+09</td>\n",
              "      <td>A001:DV12 A007:DV11 A011:DV01 A015:DA52 A016:D...</td>\n",
              "      <td>F</td>\n",
              "      <td>3000-01-01T00:00:00.000</td>\n",
              "      <td>0.292604</td>\n",
              "      <td>[137.09..138.97GHz,2257.81kHz,527.7uJy/beam@10...</td>\n",
              "      <td>151.989398</td>\n",
              "      <td>4481.356334</td>\n",
              "      <td>ALMA</td>\n",
              "      <td></td>\n",
              "      <td></td>\n",
              "      <td></td>\n",
              "      <td></td>\n",
              "      <td>&lt;NA&gt;</td>\n",
              "      <td>ALMA recently observed polarization in HL Tau ...</td>\n",
              "      <td>HL_Tau_a_04_TM2</td>\n",
              "      <td>Looney, Leslie; Lin, Zhe-Yu Daniel; Yang, Haif...</td>\n",
              "      <td>0.535628</td>\n",
              "      <td>2024-08-21T18:10:02.819</td>\n",
              "    </tr>\n",
              "  </tbody>\n",
              "</table>\n",
              "<p>755 rows × 73 columns</p>\n",
              "</div>\n",
              "    <div class=\"colab-df-buttons\">\n",
              "\n",
              "  <div class=\"colab-df-container\">\n",
              "    <button class=\"colab-df-convert\" onclick=\"convertToInteractive('df-c75bdd85-81a5-46e3-bb53-4394708dfa16')\"\n",
              "            title=\"Convert this dataframe to an interactive table.\"\n",
              "            style=\"display:none;\">\n",
              "\n",
              "  <svg xmlns=\"http://www.w3.org/2000/svg\" height=\"24px\" viewBox=\"0 -960 960 960\">\n",
              "    <path d=\"M120-120v-720h720v720H120Zm60-500h600v-160H180v160Zm220 220h160v-160H400v160Zm0 220h160v-160H400v160ZM180-400h160v-160H180v160Zm440 0h160v-160H620v160ZM180-180h160v-160H180v160Zm440 0h160v-160H620v160Z\"/>\n",
              "  </svg>\n",
              "    </button>\n",
              "\n",
              "  <style>\n",
              "    .colab-df-container {\n",
              "      display:flex;\n",
              "      gap: 12px;\n",
              "    }\n",
              "\n",
              "    .colab-df-convert {\n",
              "      background-color: #E8F0FE;\n",
              "      border: none;\n",
              "      border-radius: 50%;\n",
              "      cursor: pointer;\n",
              "      display: none;\n",
              "      fill: #1967D2;\n",
              "      height: 32px;\n",
              "      padding: 0 0 0 0;\n",
              "      width: 32px;\n",
              "    }\n",
              "\n",
              "    .colab-df-convert:hover {\n",
              "      background-color: #E2EBFA;\n",
              "      box-shadow: 0px 1px 2px rgba(60, 64, 67, 0.3), 0px 1px 3px 1px rgba(60, 64, 67, 0.15);\n",
              "      fill: #174EA6;\n",
              "    }\n",
              "\n",
              "    .colab-df-buttons div {\n",
              "      margin-bottom: 4px;\n",
              "    }\n",
              "\n",
              "    [theme=dark] .colab-df-convert {\n",
              "      background-color: #3B4455;\n",
              "      fill: #D2E3FC;\n",
              "    }\n",
              "\n",
              "    [theme=dark] .colab-df-convert:hover {\n",
              "      background-color: #434B5C;\n",
              "      box-shadow: 0px 1px 3px 1px rgba(0, 0, 0, 0.15);\n",
              "      filter: drop-shadow(0px 1px 2px rgba(0, 0, 0, 0.3));\n",
              "      fill: #FFFFFF;\n",
              "    }\n",
              "  </style>\n",
              "\n",
              "    <script>\n",
              "      const buttonEl =\n",
              "        document.querySelector('#df-c75bdd85-81a5-46e3-bb53-4394708dfa16 button.colab-df-convert');\n",
              "      buttonEl.style.display =\n",
              "        google.colab.kernel.accessAllowed ? 'block' : 'none';\n",
              "\n",
              "      async function convertToInteractive(key) {\n",
              "        const element = document.querySelector('#df-c75bdd85-81a5-46e3-bb53-4394708dfa16');\n",
              "        const dataTable =\n",
              "          await google.colab.kernel.invokeFunction('convertToInteractive',\n",
              "                                                    [key], {});\n",
              "        if (!dataTable) return;\n",
              "\n",
              "        const docLinkHtml = 'Like what you see? Visit the ' +\n",
              "          '<a target=\"_blank\" href=https://colab.research.google.com/notebooks/data_table.ipynb>data table notebook</a>'\n",
              "          + ' to learn more about interactive tables.';\n",
              "        element.innerHTML = '';\n",
              "        dataTable['output_type'] = 'display_data';\n",
              "        await google.colab.output.renderOutput(dataTable, element);\n",
              "        const docLink = document.createElement('div');\n",
              "        docLink.innerHTML = docLinkHtml;\n",
              "        element.appendChild(docLink);\n",
              "      }\n",
              "    </script>\n",
              "  </div>\n",
              "\n",
              "\n",
              "<div id=\"df-fa1b2a42-9d96-4799-8d78-e2f629dcd3a0\">\n",
              "  <button class=\"colab-df-quickchart\" onclick=\"quickchart('df-fa1b2a42-9d96-4799-8d78-e2f629dcd3a0')\"\n",
              "            title=\"Suggest charts\"\n",
              "            style=\"display:none;\">\n",
              "\n",
              "<svg xmlns=\"http://www.w3.org/2000/svg\" height=\"24px\"viewBox=\"0 0 24 24\"\n",
              "     width=\"24px\">\n",
              "    <g>\n",
              "        <path d=\"M19 3H5c-1.1 0-2 .9-2 2v14c0 1.1.9 2 2 2h14c1.1 0 2-.9 2-2V5c0-1.1-.9-2-2-2zM9 17H7v-7h2v7zm4 0h-2V7h2v10zm4 0h-2v-4h2v4z\"/>\n",
              "    </g>\n",
              "</svg>\n",
              "  </button>\n",
              "\n",
              "<style>\n",
              "  .colab-df-quickchart {\n",
              "      --bg-color: #E8F0FE;\n",
              "      --fill-color: #1967D2;\n",
              "      --hover-bg-color: #E2EBFA;\n",
              "      --hover-fill-color: #174EA6;\n",
              "      --disabled-fill-color: #AAA;\n",
              "      --disabled-bg-color: #DDD;\n",
              "  }\n",
              "\n",
              "  [theme=dark] .colab-df-quickchart {\n",
              "      --bg-color: #3B4455;\n",
              "      --fill-color: #D2E3FC;\n",
              "      --hover-bg-color: #434B5C;\n",
              "      --hover-fill-color: #FFFFFF;\n",
              "      --disabled-bg-color: #3B4455;\n",
              "      --disabled-fill-color: #666;\n",
              "  }\n",
              "\n",
              "  .colab-df-quickchart {\n",
              "    background-color: var(--bg-color);\n",
              "    border: none;\n",
              "    border-radius: 50%;\n",
              "    cursor: pointer;\n",
              "    display: none;\n",
              "    fill: var(--fill-color);\n",
              "    height: 32px;\n",
              "    padding: 0;\n",
              "    width: 32px;\n",
              "  }\n",
              "\n",
              "  .colab-df-quickchart:hover {\n",
              "    background-color: var(--hover-bg-color);\n",
              "    box-shadow: 0 1px 2px rgba(60, 64, 67, 0.3), 0 1px 3px 1px rgba(60, 64, 67, 0.15);\n",
              "    fill: var(--button-hover-fill-color);\n",
              "  }\n",
              "\n",
              "  .colab-df-quickchart-complete:disabled,\n",
              "  .colab-df-quickchart-complete:disabled:hover {\n",
              "    background-color: var(--disabled-bg-color);\n",
              "    fill: var(--disabled-fill-color);\n",
              "    box-shadow: none;\n",
              "  }\n",
              "\n",
              "  .colab-df-spinner {\n",
              "    border: 2px solid var(--fill-color);\n",
              "    border-color: transparent;\n",
              "    border-bottom-color: var(--fill-color);\n",
              "    animation:\n",
              "      spin 1s steps(1) infinite;\n",
              "  }\n",
              "\n",
              "  @keyframes spin {\n",
              "    0% {\n",
              "      border-color: transparent;\n",
              "      border-bottom-color: var(--fill-color);\n",
              "      border-left-color: var(--fill-color);\n",
              "    }\n",
              "    20% {\n",
              "      border-color: transparent;\n",
              "      border-left-color: var(--fill-color);\n",
              "      border-top-color: var(--fill-color);\n",
              "    }\n",
              "    30% {\n",
              "      border-color: transparent;\n",
              "      border-left-color: var(--fill-color);\n",
              "      border-top-color: var(--fill-color);\n",
              "      border-right-color: var(--fill-color);\n",
              "    }\n",
              "    40% {\n",
              "      border-color: transparent;\n",
              "      border-right-color: var(--fill-color);\n",
              "      border-top-color: var(--fill-color);\n",
              "    }\n",
              "    60% {\n",
              "      border-color: transparent;\n",
              "      border-right-color: var(--fill-color);\n",
              "    }\n",
              "    80% {\n",
              "      border-color: transparent;\n",
              "      border-right-color: var(--fill-color);\n",
              "      border-bottom-color: var(--fill-color);\n",
              "    }\n",
              "    90% {\n",
              "      border-color: transparent;\n",
              "      border-bottom-color: var(--fill-color);\n",
              "    }\n",
              "  }\n",
              "</style>\n",
              "\n",
              "  <script>\n",
              "    async function quickchart(key) {\n",
              "      const quickchartButtonEl =\n",
              "        document.querySelector('#' + key + ' button');\n",
              "      quickchartButtonEl.disabled = true;  // To prevent multiple clicks.\n",
              "      quickchartButtonEl.classList.add('colab-df-spinner');\n",
              "      try {\n",
              "        const charts = await google.colab.kernel.invokeFunction(\n",
              "            'suggestCharts', [key], {});\n",
              "      } catch (error) {\n",
              "        console.error('Error during call to suggestCharts:', error);\n",
              "      }\n",
              "      quickchartButtonEl.classList.remove('colab-df-spinner');\n",
              "      quickchartButtonEl.classList.add('colab-df-quickchart-complete');\n",
              "    }\n",
              "    (() => {\n",
              "      let quickchartButtonEl =\n",
              "        document.querySelector('#df-fa1b2a42-9d96-4799-8d78-e2f629dcd3a0 button');\n",
              "      quickchartButtonEl.style.display =\n",
              "        google.colab.kernel.accessAllowed ? 'block' : 'none';\n",
              "    })();\n",
              "  </script>\n",
              "</div>\n",
              "\n",
              "  <div id=\"id_04fbc69a-66a9-4d24-ae89-11e42e201abd\">\n",
              "    <style>\n",
              "      .colab-df-generate {\n",
              "        background-color: #E8F0FE;\n",
              "        border: none;\n",
              "        border-radius: 50%;\n",
              "        cursor: pointer;\n",
              "        display: none;\n",
              "        fill: #1967D2;\n",
              "        height: 32px;\n",
              "        padding: 0 0 0 0;\n",
              "        width: 32px;\n",
              "      }\n",
              "\n",
              "      .colab-df-generate:hover {\n",
              "        background-color: #E2EBFA;\n",
              "        box-shadow: 0px 1px 2px rgba(60, 64, 67, 0.3), 0px 1px 3px 1px rgba(60, 64, 67, 0.15);\n",
              "        fill: #174EA6;\n",
              "      }\n",
              "\n",
              "      [theme=dark] .colab-df-generate {\n",
              "        background-color: #3B4455;\n",
              "        fill: #D2E3FC;\n",
              "      }\n",
              "\n",
              "      [theme=dark] .colab-df-generate:hover {\n",
              "        background-color: #434B5C;\n",
              "        box-shadow: 0px 1px 3px 1px rgba(0, 0, 0, 0.15);\n",
              "        filter: drop-shadow(0px 1px 2px rgba(0, 0, 0, 0.3));\n",
              "        fill: #FFFFFF;\n",
              "      }\n",
              "    </style>\n",
              "    <button class=\"colab-df-generate\" onclick=\"generateWithVariable('q_results')\"\n",
              "            title=\"Generate code using this dataframe.\"\n",
              "            style=\"display:none;\">\n",
              "\n",
              "  <svg xmlns=\"http://www.w3.org/2000/svg\" height=\"24px\"viewBox=\"0 0 24 24\"\n",
              "       width=\"24px\">\n",
              "    <path d=\"M7,19H8.4L18.45,9,17,7.55,7,17.6ZM5,21V16.75L18.45,3.32a2,2,0,0,1,2.83,0l1.4,1.43a1.91,1.91,0,0,1,.58,1.4,1.91,1.91,0,0,1-.58,1.4L9.25,21ZM18.45,9,17,7.55Zm-12,3A5.31,5.31,0,0,0,4.9,8.1,5.31,5.31,0,0,0,1,6.5,5.31,5.31,0,0,0,4.9,4.9,5.31,5.31,0,0,0,6.5,1,5.31,5.31,0,0,0,8.1,4.9,5.31,5.31,0,0,0,12,6.5,5.46,5.46,0,0,0,6.5,12Z\"/>\n",
              "  </svg>\n",
              "    </button>\n",
              "    <script>\n",
              "      (() => {\n",
              "      const buttonEl =\n",
              "        document.querySelector('#id_04fbc69a-66a9-4d24-ae89-11e42e201abd button.colab-df-generate');\n",
              "      buttonEl.style.display =\n",
              "        google.colab.kernel.accessAllowed ? 'block' : 'none';\n",
              "\n",
              "      buttonEl.onclick = () => {\n",
              "        google.colab.notebook.generateWithVariable('q_results');\n",
              "      }\n",
              "      })();\n",
              "    </script>\n",
              "  </div>\n",
              "\n",
              "    </div>\n",
              "  </div>\n"
            ],
            "application/vnd.google.colaboratory.intrinsic+json": {
              "type": "dataframe",
              "variable_name": "q_results"
            }
          },
          "metadata": {},
          "execution_count": 34
        }
      ],
      "source": [
        "ra_list = [ 67.910462,165.466277 ]\n",
        "dec_list = [18.232739,  -34.704758]\n",
        "radius = 0.005\n",
        "\n",
        "coord_conditions = [f\"\"\"INTERSECTS(CIRCLE('ICRS',{c[0]},{c[1]},{radius})\n",
        "                    ,s_region)=1\"\"\" for c in zip(ra_list, dec_list)]\n",
        "\n",
        "query = f\"\"\"\n",
        "        SELECT *\n",
        "        FROM ivoa.obscore\n",
        "        WHERE {\" OR \".join(coord_conditions)}\"\"\"\n",
        "\n",
        "q_results = service.search(query).to_table().to_pandas()\n",
        "q_results"
      ]
    },
    {
      "cell_type": "markdown",
      "metadata": {
        "editable": true,
        "id": "9SVnuczV0wHj",
        "tags": []
      },
      "source": [
        "## Query by astropy coordinates\n",
        "#### Name: HL Tau"
      ]
    },
    {
      "cell_type": "code",
      "execution_count": null,
      "metadata": {
        "editable": true,
        "id": "-_57zJx40wHk",
        "tags": []
      },
      "outputs": [],
      "source": [
        "import astropy\n",
        "coordinates = astropy.coordinates.SkyCoord.from_name(\"HL Tau\")\n",
        "ra = float(coordinates.ra.degree)\n",
        "dec = float(coordinates.dec.degree)\n",
        "\n",
        "query = f\"\"\"\n",
        "            SELECT *\n",
        "            FROM ivoa.obscore\n",
        "            WHERE INTERSECTS(CIRCLE('ICRS',{ra},{dec},0.005),\n",
        "            s_region)=1\n",
        "        \"\"\"\n",
        "q_results = service.search(query).to_table().to_pandas()\n",
        "q_results"
      ]
    },
    {
      "cell_type": "markdown",
      "metadata": {
        "editable": true,
        "id": "L6S9i92Q0wHL",
        "tags": []
      },
      "source": [
        "## Display the output query"
      ]
    },
    {
      "cell_type": "markdown",
      "metadata": {
        "editable": true,
        "id": "qKoV2r5N0wHT",
        "tags": []
      },
      "source": [
        "### Display all the column names in the output query:"
      ]
    },
    {
      "cell_type": "code",
      "execution_count": null,
      "metadata": {
        "editable": true,
        "id": "ONzbpJV00wHU",
        "tags": []
      },
      "outputs": [],
      "source": [
        "print(q_results.columns)"
      ]
    },
    {
      "cell_type": "markdown",
      "metadata": {
        "editable": true,
        "tags": [],
        "id": "UgM5hdA5nqzg"
      },
      "source": [
        "### Query only specific columns:\n",
        "#### ALma source name, Project code, Coordinates, Frequency, Spatial Resolution, Alma Band"
      ]
    },
    {
      "cell_type": "code",
      "execution_count": null,
      "metadata": {
        "editable": true,
        "tags": [],
        "id": "DclepsmYnqzh"
      },
      "outputs": [],
      "source": [
        "query = f\"\"\"\n",
        "        SELECT ...\n",
        "        FROM ivoa.obscore\n",
        "        WHERE INTERSECTS(\n",
        "                CIRCLE( 'ICRS', 165.466277, -34.704758 ,0.005)\n",
        "                ,s_region ) =1\n",
        "        \"\"\"\n",
        "q_results = service.search(query).to_table().to_pandas()\n",
        "q_results"
      ]
    },
    {
      "cell_type": "markdown",
      "metadata": {
        "editable": true,
        "id": "uTMVCCEZ0wHV",
        "tags": []
      },
      "source": [
        "### Display the unique Project code associated with the search results:"
      ]
    },
    {
      "cell_type": "code",
      "execution_count": null,
      "metadata": {
        "editable": true,
        "id": "YZ0GmFOG0wHW",
        "tags": []
      },
      "outputs": [],
      "source": [
        "print(q_results['proposal_id'].unique())"
      ]
    },
    {
      "cell_type": "markdown",
      "metadata": {
        "editable": true,
        "id": "rLnP5iwo0wHX",
        "tags": []
      },
      "source": [
        "### Plot the right ascension and declination of all fields in the search:"
      ]
    },
    {
      "cell_type": "code",
      "execution_count": null,
      "metadata": {
        "editable": true,
        "id": "06pBJzZe0wHZ",
        "scrolled": true,
        "tags": [
          "hide_input"
        ]
      },
      "outputs": [],
      "source": [
        "import matplotlib.pyplot as plt\n",
        "\n",
        "x,y = q_results[...] ,q_results[...]\n",
        "plt.scatter( x , y, marker= '^' )\n",
        "plt.xlabel( 'RA' )\n",
        "plt.ylabel( 'Dec' )\n",
        "plt.show()"
      ]
    },
    {
      "cell_type": "markdown",
      "metadata": {
        "editable": true,
        "tags": [],
        "id": "58Gu6RH_nqzj"
      },
      "source": [
        "## Query by Target Name"
      ]
    },
    {
      "cell_type": "code",
      "execution_count": null,
      "metadata": {
        "editable": true,
        "scrolled": true,
        "tags": [],
        "id": "4Yl-JQ-Dnqzj"
      },
      "outputs": [],
      "source": [
        "query = f\"\"\"\n",
        "            SELECT proposal_id, target_name, s_ra, s_dec, frequency,\n",
        "                   spatial_resolution\n",
        "            FROM ivoa.obscore\n",
        "            WHERE target_name like '...'\n",
        "        \"\"\"\n",
        "q_results = service.search(query).to_table().to_pandas()\n",
        "q_results"
      ]
    },
    {
      "cell_type": "markdown",
      "metadata": {
        "editable": true,
        "id": "Gi_4wVgc0wHb",
        "tags": []
      },
      "source": [
        "## Query by ALMA Project Code\n",
        "### ALMA Large Program DSHARP: 2016.1.00484.L"
      ]
    },
    {
      "cell_type": "code",
      "execution_count": null,
      "metadata": {
        "editable": true,
        "id": "xZ4-altH0wHc",
        "tags": []
      },
      "outputs": [],
      "source": [
        "query = f\"\"\"\n",
        "            SELECT proposal_id, target_name, s_ra, s_dec, frequency,\n",
        "                   spatial_resolution\n",
        "            FROM ivoa.obscore\n",
        "            WHERE proposal_id like '...'\n",
        "        \"\"\"\n",
        "q_results = service.search(query).to_table().to_pandas()\n",
        "q_results"
      ]
    },
    {
      "cell_type": "markdown",
      "metadata": {
        "editable": true,
        "tags": [],
        "id": "DAoJipNLnqzk"
      },
      "source": [
        "## Query by all program from Cycle 5"
      ]
    },
    {
      "cell_type": "code",
      "execution_count": null,
      "metadata": {
        "editable": true,
        "tags": [],
        "id": "Y80CUUVdnqzl"
      },
      "outputs": [],
      "source": [
        "query = f\"\"\"\n",
        "            SELECT proposal_id, target_name, s_ra, s_dec, frequency,\n",
        "                   spatial_resolution\n",
        "            FROM ivoa.obscore\n",
        "            WHERE proposal_id like '...'\n",
        "        \"\"\"\n",
        "q_results = service.search(query).to_table().to_pandas()\n",
        "q_results"
      ]
    },
    {
      "cell_type": "markdown",
      "metadata": {
        "editable": true,
        "id": "g9t-fOrw0wHd",
        "tags": []
      },
      "source": [
        "## Query by all program from Cycle 5\n",
        "### Only full polarization data, angular resolution < 0.1 arcsec:"
      ]
    },
    {
      "cell_type": "code",
      "execution_count": null,
      "metadata": {
        "editable": true,
        "id": "nEyfQcSR0wHe",
        "tags": []
      },
      "outputs": [],
      "source": [
        "query = f\"\"\"\n",
        "            SELECT proposal_id, target_name, s_ra, s_dec, frequency,\n",
        "                   spatial_resolution\n",
        "            FROM ivoa.obscore\n",
        "            WHERE proposal_id like '...'\n",
        "            AND pol_states like '%/XX/XY/YX/YY/%'\n",
        "            AND ...\n",
        "        \"\"\"\n",
        "\n",
        "q_results = service.search(query).to_table().to_pandas()"
      ]
    },
    {
      "cell_type": "markdown",
      "metadata": {
        "editable": true,
        "tags": [],
        "id": "OYoFdpgGnqzm"
      },
      "source": [
        "We can print the proposal ids of our query:"
      ]
    },
    {
      "cell_type": "code",
      "execution_count": null,
      "metadata": {
        "editable": true,
        "tags": [],
        "id": "0OuVzmI-nqzm"
      },
      "outputs": [],
      "source": [
        "print(q_results['proposal_id'].unique())"
      ]
    },
    {
      "cell_type": "markdown",
      "metadata": {
        "editable": true,
        "id": "fIX9XZDg0wHh",
        "tags": []
      },
      "source": [
        "## Query by frequency\n",
        "#### Query all observations that have (a portion of) their spectral coverage overlapping the range [ 115.20 GHz , 115.35 GHz ]:"
      ]
    },
    {
      "cell_type": "code",
      "execution_count": null,
      "metadata": {
        "editable": true,
        "id": "q8Iaw3HG0wHi",
        "tags": []
      },
      "outputs": [],
      "source": [
        "query = f\"\"\"\n",
        "            SELECT proposal_id, frequency, bandwidth\n",
        "            FROM ivoa.obscore\n",
        "            WHERE proposal_id like '%2016%'\n",
        "            AND (frequency - 0.5 * bandwidth/1e9) < ...\n",
        "            AND (frequency + 0.5 * bandwidth/1e9) > ...\n",
        "        \"\"\"\n",
        "q_results = service.search(query).to_table().to_pandas()\n",
        "\n",
        "#Half of the bandwith\n",
        "half_bw = 0.5 * q_results['bandwidth']/ 1e9\n",
        "\n",
        "#Compute min and max frequencies\n",
        "q_results['min_freq'] = q_results['frequency'] - half_bw\n",
        "q_results['max_freq'] = q_results['frequency'] + half_bw"
      ]
    },
    {
      "cell_type": "code",
      "execution_count": null,
      "metadata": {
        "editable": true,
        "tags": [],
        "id": "4g-QkEcJnqzo"
      },
      "outputs": [],
      "source": [
        "q_results[['proposal_id', 'min_freq', 'max_freq']]"
      ]
    },
    {
      "cell_type": "markdown",
      "metadata": {
        "editable": true,
        "tags": [],
        "id": "wVnkYqrvnqzo"
      },
      "source": [
        "## Query by Member OUS ID\n",
        "\n",
        "Search by Member OUS ID in pyVo requires a different formatting:"
      ]
    },
    {
      "cell_type": "code",
      "execution_count": null,
      "metadata": {
        "editable": true,
        "tags": [],
        "id": "BHCZEe7Dnqzo"
      },
      "outputs": [],
      "source": [
        "mous = 'uid://A001/X8c5/X96'\n",
        "mous_formatted = mous.replace(\"___\",\"://\").replace(\"_\",\"/\")\n",
        "# -> uid__A001_X8c5_X96\n",
        "\n",
        "query = f\"\"\"\n",
        "            SELECT *\n",
        "            FROM ivoa.obscore\n",
        "            WHERE member_ous_uid = '{mous_formatted}'\n",
        "        \"\"\"\n",
        "q_results = service.search(query).to_table().to_pandas()\n",
        "q_results"
      ]
    },
    {
      "cell_type": "markdown",
      "metadata": {
        "editable": true,
        "tags": [],
        "id": "t-Zwu0c8nqzp"
      },
      "source": [
        "## Query by bibliography code"
      ]
    },
    {
      "cell_type": "code",
      "execution_count": null,
      "metadata": {
        "editable": true,
        "tags": [],
        "id": "csBpIp6Rnqzp"
      },
      "outputs": [],
      "source": [
        "query = f\"\"\"\n",
        "            SELECT *\n",
        "            FROM ivoa.obscore\n",
        "            WHERE proposal_id like '%2016%'\n",
        "            AND bib_reference like '%2017ApJ...851...55S%'\n",
        "        \"\"\"\n",
        "q_results = service.search(query).to_table().to_pandas()\n",
        "q_results"
      ]
    },
    {
      "cell_type": "markdown",
      "metadata": {
        "editable": true,
        "id": "0qge3BQL0wHr",
        "tags": []
      },
      "source": [
        "## Download data\n",
        "\n",
        "Downloading data using pyVO is quite straightforward, even though it should be done mainly by **one OUS member at a time**, and it requires the different formatting seen before:  "
      ]
    },
    {
      "cell_type": "code",
      "execution_count": null,
      "metadata": {
        "editable": true,
        "id": "gb0qkf9c0wHr",
        "tags": []
      },
      "outputs": [],
      "source": [
        "import os\n",
        "\n",
        "mous = 'uid://A001/X8c5/X96'\n",
        "mous_formatted = mous.replace(\"___\", \"://\").replace(\"_\", \"/\")\n",
        "\n",
        "datalink = pyvo.dal.adhoc.DatalinkResults.from_result_url(\n",
        "    f\"https://almascience.eso.org/datalink/sync?ID={mous_formatted}\")\n",
        "\n",
        "# Uncomment next line to enable the download\n",
        "#for dl in datalink:\n",
        "    #dl.cachedataset(filename = os.path.basename(dl['access_url']))"
      ]
    },
    {
      "cell_type": "markdown",
      "metadata": {
        "editable": true,
        "id": "D5ps3qvP0wHs",
        "tags": []
      },
      "source": [
        "You should now be able to see some tar files downloaded in your current working directory."
      ]
    },
    {
      "cell_type": "markdown",
      "metadata": {
        "editable": true,
        "id": "vnAwGUYz0wHt",
        "tags": [
          "astroquery"
        ]
      },
      "source": [
        "# Part 2.\n",
        "# Astroquery<a name=\"astroquery\"></a>\n",
        "\n",
        "**Astroquery** is an astropy affiliated package that contains a collection of tools for querying astronomical web forms and databases.\n",
        "\n",
        "Each web service has its own sub-package, ALMA included.\n"
      ]
    },
    {
      "cell_type": "markdown",
      "metadata": {
        "editable": true,
        "tags": [],
        "id": "e8xTS4frnqzr"
      },
      "source": [
        "## Set-up"
      ]
    },
    {
      "cell_type": "code",
      "execution_count": null,
      "metadata": {
        "editable": true,
        "tags": [],
        "id": "P2i-H5Tlnqzr"
      },
      "outputs": [],
      "source": [
        "import astroquery\n",
        "print(\"astroquery version: {}\".format(astroquery.__version__))\n",
        "\n",
        "# Import astroquery and other useful packages:\n",
        "from astroquery.alma import Alma\n",
        "import numpy as np\n",
        "import astropy.units as u\n",
        "from astropy.coordinates import SkyCoord\n",
        "\n",
        "#Instantiate alma object/class\n",
        "alma = Alma()"
      ]
    },
    {
      "cell_type": "markdown",
      "metadata": {
        "editable": true,
        "tags": [],
        "id": "Jh8hYgYFnqzr"
      },
      "source": [
        "If you have access to proprietary data, you will need to login to your ALMA account:"
      ]
    },
    {
      "cell_type": "code",
      "execution_count": null,
      "metadata": {
        "editable": true,
        "tags": [],
        "id": "ad8gDiswnqzs"
      },
      "outputs": [],
      "source": [
        "#login_name = \"\"\n",
        "#alma.login(login_name)"
      ]
    },
    {
      "cell_type": "markdown",
      "metadata": {
        "editable": true,
        "tags": [],
        "id": "J7tHVi6_nqzs"
      },
      "source": [
        "## Resources\n",
        "- If you want to access help for a particular command, type `help(command)` and run the cell.\n",
        "- The Astroquery readthedocs is located [here](https://astroquery.readthedocs.io/en/latest/).\n",
        "- The output of astroquery searches are astropy tables (see [astropy tables documentation page](https://docs.astropy.org/en/stable/table/index.html) for more information on how to work with them).\n",
        "- [ALMA Science Archive Notebooks](https://almascience.eso.org/alma-data/archive/archive-notebooks/nb8_ALMA_Query_using_astroquery.html)."
      ]
    },
    {
      "cell_type": "markdown",
      "metadata": {
        "editable": true,
        "id": "DnzbYI8O0wHu",
        "tags": []
      },
      "source": [
        "## Query an object by name\n",
        "\n",
        "We perform an ALMA object query (`alma.query_object`).\n",
        "Astroquery sends the source name to the ALMA Archive, which then resolves the source coordinates using, i.e. Simbad, NED, and Vizier, for matches to the object name. Astroquery returns an astropy table containing information on all of the ALMA archival data towards the object coordinates.\n",
        "\n",
        "The default ALMA search radius is 10 arcminutes.\n"
      ]
    },
    {
      "cell_type": "code",
      "execution_count": null,
      "metadata": {
        "editable": true,
        "id": "CV50YB5C0wHv",
        "scrolled": true,
        "tags": []
      },
      "outputs": [],
      "source": [
        "q_results = alma.query_object(\"...\")\n",
        "q_results.to_pandas()"
      ]
    },
    {
      "cell_type": "markdown",
      "metadata": {
        "editable": true,
        "tags": [],
        "id": "ISj6TiH-nqzt"
      },
      "source": [
        "## Query an object by coordinates\n",
        "\n",
        "Note that you can instead perform a region search (`alma.query_region`).\n",
        "There are multiple valid format for coordinates in astropy ( check the help page for [astropy.coordinates](https://docs.astropy.org/en/stable/coordinates/index.html) ).\n",
        "#### Coordinates: 04h31m38.4s,18d13m57.2s"
      ]
    },
    {
      "cell_type": "code",
      "execution_count": null,
      "metadata": {
        "editable": true,
        "tags": [],
        "id": "zM3DJ64nnqzt"
      },
      "outputs": [],
      "source": [
        "coords = SkyCoord(\"...\",\"...\")\n",
        "q_results = alma.query_region(coords, radius = 10 * u.arcmin)\n",
        "q_results.to_pandas()"
      ]
    },
    {
      "cell_type": "markdown",
      "metadata": {
        "editable": true,
        "id": "GAdjr5Us0wHw",
        "tags": [
          "list"
        ]
      },
      "source": [
        "## Display the output query\n",
        "### Display all the column names in the output query:"
      ]
    },
    {
      "cell_type": "code",
      "execution_count": null,
      "metadata": {
        "editable": true,
        "id": "uj-HMy6B0wHx",
        "scrolled": true,
        "tags": [
          "list"
        ]
      },
      "outputs": [],
      "source": [
        "q_results.colnames"
      ]
    },
    {
      "cell_type": "markdown",
      "metadata": {
        "editable": true,
        "tags": [],
        "id": "5V7zK8ROnqzu"
      },
      "source": [
        "### Display the unique Project code associated with the search results:"
      ]
    },
    {
      "cell_type": "code",
      "execution_count": null,
      "metadata": {
        "editable": true,
        "tags": [],
        "id": "cfKi-OgXnqzu"
      },
      "outputs": [],
      "source": [
        "from astropy.table import unique\n",
        "q_results = unique(q_results, '...')\n",
        "q_results['...'].data.data"
      ]
    },
    {
      "cell_type": "markdown",
      "metadata": {
        "editable": true,
        "id": "k9ZB4Zrz0wHx",
        "tags": []
      },
      "source": [
        "## Query observations by Cycle, ALMA bands and sensitivity\n",
        "#### HL Tau, Data from Band 3 and 4, starting from 2018, sensitivity for a velocity of 10 km/s be less than 10 mJy:"
      ]
    },
    {
      "cell_type": "code",
      "execution_count": null,
      "metadata": {
        "editable": true,
        "id": "UZxmeQvh0wHx",
        "scrolled": true,
        "tags": []
      },
      "outputs": [],
      "source": [
        "from datetime import datetime\n",
        "\n",
        "q_results = alma.query_object(\"...\", payload = dict(\n",
        "            ... = ...,\n",
        "            ... = \"...\"))\n",
        "\n",
        "q_results = q_results[[datetime.fromisoformat(i) > datetime(2018,1,1)\n",
        "                       for i in q_results['obs_release_date']]]\n",
        "\n",
        "q_results.to_pandas()"
      ]
    },
    {
      "cell_type": "markdown",
      "metadata": {
        "editable": true,
        "id": "YQzIkkzC0wIB",
        "tags": []
      },
      "source": [
        "## Compare data\n",
        "First perform a conesearch query (~1 degree) at the position of the COSMOS field centre ( **RA=10h00m24s**, **Dec=+02d10m55s** ) to the ALMA Science Archive:"
      ]
    },
    {
      "cell_type": "code",
      "execution_count": null,
      "metadata": {
        "editable": true,
        "id": "n1Atgisi0wIC",
        "scrolled": true,
        "tags": []
      },
      "outputs": [],
      "source": [
        "from astropy.coordinates import SkyCoord\n",
        "\n",
        "cos_cen = SkyCoord(\"\",frame = 'fk5')\n",
        "c_results = Alma.query_region(cos_cen,radius = 0.5*u.deg)\n",
        "\n",
        "# Keep only the unique observations\n",
        "c_results = unique(c_results,'obs_id')"
      ]
    },
    {
      "cell_type": "markdown",
      "metadata": {
        "editable": true,
        "id": "PVbaE6RJ0wID",
        "tags": []
      },
      "source": [
        "### Use astroquery to query the Herschel Science Archive:"
      ]
    },
    {
      "cell_type": "code",
      "execution_count": null,
      "metadata": {
        "editable": true,
        "id": "I6pyP7L40wIE",
        "scrolled": true,
        "tags": []
      },
      "outputs": [],
      "source": [
        "from astroquery.esa.hsa import HSA\n",
        "h_results = HSA.query_region(cos_cen, radius = 0.5*u.deg)"
      ]
    },
    {
      "cell_type": "markdown",
      "metadata": {
        "editable": true,
        "id": "KytMrMbW0wIF",
        "tags": []
      },
      "source": [
        "### Find what column names are associated with the RA/Dec in the Herschel results:"
      ]
    },
    {
      "cell_type": "code",
      "execution_count": null,
      "metadata": {
        "editable": true,
        "tags": [],
        "id": "zJLZ_LcMnqzx"
      },
      "outputs": [],
      "source": [
        "print(h_results.colnames)"
      ]
    },
    {
      "cell_type": "markdown",
      "metadata": {
        "editable": true,
        "id": "sINZqLmf0wIG",
        "tags": []
      },
      "source": [
        "### Cross-match the two catalogs:"
      ]
    },
    {
      "cell_type": "code",
      "execution_count": null,
      "metadata": {
        "editable": true,
        "id": "crUlNZut0wIG",
        "tags": []
      },
      "outputs": [],
      "source": [
        "c_catalog = SkyCoord(ra= c_results['s_ra'],dec=c_results['s_dec'])\n",
        "h_catalog = SkyCoord(ra= h_results['...'],dec=h_results['...'])\n",
        "idx,d2d,d3d = h_catalog.match_to_catalog_sky(c_catalog)\n",
        "print(idx,d2d)"
      ]
    },
    {
      "cell_type": "code",
      "execution_count": null,
      "metadata": {
        "editable": true,
        "id": "7PvIb2q50wIH",
        "scrolled": true,
        "tags": []
      },
      "outputs": [],
      "source": [
        "c_results[idx].to_pandas()"
      ]
    },
    {
      "cell_type": "markdown",
      "metadata": {
        "editable": true,
        "id": "FsBGz_-d0wHz",
        "tags": []
      },
      "source": [
        "## Use source redshift to check which ALMA band covers line\n",
        "\n",
        "We can query for observation which ALMA band encompasses a specific spectral line. Despite CenA relatively close proximity ($z<<1$), it's good practise to compute the redshifted frequency of the transitions of interest, to verify if they exactly align with the spectral configuration of the ALMA observations.\n",
        "\n",
        "First, we query NED to grab the photometric redshift of AS 209:"
      ]
    },
    {
      "cell_type": "code",
      "execution_count": null,
      "metadata": {
        "editable": true,
        "id": "fqLF_Tz80wH0",
        "tags": []
      },
      "outputs": [],
      "source": [
        "from astroquery.ipac.ned import Ned\n",
        "z_result = Ned.query_object(\"...\")\n",
        "redshift = z_result['Redshift'][0]\n",
        "print('AS 209 redshift = {}\\n'.format(redshift))"
      ]
    },
    {
      "cell_type": "markdown",
      "metadata": {
        "editable": true,
        "id": "-ILDuCxP0wH1",
        "tags": []
      },
      "source": [
        "### Use Splatalogue to get the rest frequencies of our transition of interest\n",
        "\n",
        "#### CO v=0 lines from 1 to 1000 GHz:"
      ]
    },
    {
      "cell_type": "code",
      "execution_count": null,
      "metadata": {
        "editable": true,
        "id": "UrQ3cmPw0wH1",
        "tags": []
      },
      "outputs": [],
      "source": [
        "from astroquery.splatalogue import Splatalogue\n",
        "from IPython.display import HTML\n",
        "\n",
        "l_results = Splatalogue.query_lines(#minfreq,\n",
        "                                    #maxfreq,\n",
        "                                    chemical_name = ' CO v = 0 ',\n",
        "                                   only_NRAO_recommended=True)"
      ]
    },
    {
      "cell_type": "code",
      "execution_count": null,
      "metadata": {
        "editable": true,
        "tags": [],
        "id": "IsNKvH0Snqz0"
      },
      "outputs": [],
      "source": [
        "# TEMPORARY BUG IN SPLATALOGUE!\n",
        "# WE NEED TO FORMAT HTML THE TABLE TO SEE\n",
        "# DIFFERENT COLORS IN THE TABLE!\n",
        "\n",
        "HTML(l_results.to_pandas().to_html(escape=False, max_rows = 6))"
      ]
    },
    {
      "cell_type": "markdown",
      "metadata": {
        "editable": true,
        "tags": [],
        "id": "_v5oBp6rnqz0"
      },
      "source": [
        "### Convert rest frequencies of lines to redshifted values"
      ]
    },
    {
      "cell_type": "code",
      "execution_count": null,
      "metadata": {
        "editable": true,
        "id": "RAYqAgC70wH2",
        "tags": []
      },
      "outputs": [],
      "source": [
        "restfreq = l_results['orderedfreq']\n",
        "\n",
        "shiftfreq = restfreq * u.MHz/ ( 1 + redshift )\n",
        "\n",
        "print('\\nSky frequencies of the first 6 CO v=0 J-transitions:\\n')\n",
        "\n",
        "for i in range(1,7):\n",
        "    print('CO J={}-{}: {}'.format( i , i-1 , shiftfreq[i-1] ) )"
      ]
    },
    {
      "cell_type": "markdown",
      "metadata": {
        "editable": true,
        "id": "Uq7jzukB0wH3",
        "tags": []
      },
      "source": [
        "## Query by redshifted CO lines"
      ]
    },
    {
      "cell_type": "markdown",
      "metadata": {
        "editable": true,
        "tags": [],
        "id": "4-Gl4I1unqz0"
      },
      "source": [
        "We can query alma data accoring to the presence of specific CO transitions within the frequency bands covered by those observations.\n",
        "It is convenient to function **parse_frequency_support** from alma utils which converts the frequency_support column into arrays holding the spectral windows' start and end frequencies:"
      ]
    },
    {
      "cell_type": "code",
      "execution_count": null,
      "metadata": {
        "editable": true,
        "id": "sGW6sdD40wH3",
        "scrolled": true,
        "tags": []
      },
      "outputs": [],
      "source": [
        "from astroquery.alma.utils import parse_frequency_support\n",
        "q_results = alma.query_object(\"HL Tau\")\n",
        "\n",
        "CO_loc = np.array([[any([a[0] < freq < a[1]\n",
        "            # Check if the CO line falls\n",
        "            # within the frequency support range\n",
        "            for a in parse_frequency_support(q_row['frequency_support'])\n",
        "            # for the specific spectral window\n",
        "            if a[0] < q_row['frequency']* u.GHz < a[1]])\n",
        "            # for all the observations\n",
        "            for q_row in q_results]\n",
        "            # for all the CO lines\n",
        "            for freq in shiftfreq]).T\n"
      ]
    },
    {
      "cell_type": "code",
      "execution_count": null,
      "metadata": {
        "editable": true,
        "tags": [],
        "id": "cZY8jVPinqz1"
      },
      "outputs": [],
      "source": [
        "CO_column = ['CO '+' '.join(l_results['resolved_QNs'][a])\n",
        "          if any(a) else ' ' for a in CO_loc]\n",
        "\n",
        "q_results = q_results.to_pandas()\n",
        "q_results.insert(0,'CO data', CO_column)\n",
        "\n",
        "#We keep only the observations that contains at least one CO line:\n",
        "\n",
        "q_results = q_results[q_results['CO data'] != ' ']"
      ]
    },
    {
      "cell_type": "code",
      "execution_count": null,
      "metadata": {
        "editable": true,
        "id": "u2rmDZ980wH4",
        "scrolled": true,
        "tags": []
      },
      "outputs": [],
      "source": [
        "q_results"
      ]
    },
    {
      "cell_type": "markdown",
      "metadata": {
        "editable": true,
        "id": "CaO9hv7b0wH4",
        "tags": []
      },
      "source": [
        "## Download ALMA data\n",
        "\n",
        "Once you have decided which data you would like to work with locally, you can download it from the archive using the `access_url` provided in the astropy table. `alma.get_data_info` can be used to further list what is in each tarfile in the archive."
      ]
    },
    {
      "cell_type": "markdown",
      "metadata": {
        "editable": true,
        "id": "9k57r-9w0wH7",
        "tags": []
      },
      "source": [
        "### List what is in the first two archives (to cut down on time):\n",
        "Note: this may take some time."
      ]
    },
    {
      "cell_type": "code",
      "execution_count": null,
      "metadata": {
        "editable": true,
        "id": "UzDEO7fI0wH7",
        "scrolled": true,
        "tags": []
      },
      "outputs": [],
      "source": [
        "uid_url_tab_list = [alma.get_data_info(a, expand_tarfiles=True)\n",
        "                    for a in q_results['member_ous_uid'][:2]]"
      ]
    },
    {
      "cell_type": "markdown",
      "metadata": {
        "editable": true,
        "id": "wM6xJwfi0wH8",
        "tags": []
      },
      "source": [
        "### Make a list of only the FITS files and print the URLs:"
      ]
    },
    {
      "cell_type": "code",
      "execution_count": null,
      "metadata": {
        "editable": true,
        "id": "wR7Nq9oF0wH8",
        "scrolled": true,
        "tags": []
      },
      "outputs": [],
      "source": [
        "fits_urls = [[url for url in tab['access_url'] if '.fits' in url]\n",
        "             for tab in uid_url_tab_list]\n",
        "print(fits_urls)"
      ]
    },
    {
      "cell_type": "markdown",
      "metadata": {
        "editable": true,
        "id": "jXRhdql50wH-",
        "tags": []
      },
      "source": [
        "### Set a local cache for the data and download:"
      ]
    },
    {
      "cell_type": "code",
      "execution_count": null,
      "metadata": {
        "editable": true,
        "id": "XARo-KMp0wH_",
        "tags": []
      },
      "outputs": [],
      "source": [
        "Alma.cache_location = '/big/external/drive/'\n",
        "\n",
        "# Uncomment the lines below to start the download\n",
        "#files = [alma.download_files(url,cache=True) for url in fits_urls]\n",
        "#print(files)"
      ]
    },
    {
      "cell_type": "markdown",
      "metadata": {
        "editable": true,
        "id": "nqWf36E30wIA",
        "tags": []
      },
      "source": [
        "## Use astroquery to send TAP queries (pyVO format)"
      ]
    },
    {
      "cell_type": "markdown",
      "metadata": {
        "id": "3cRnD-Xd0wIA"
      },
      "source": [
        "### Query all observations with central frequencies between 300 and 400 GHz, sensitivity better than 0.5 mJy/beam @ 10 km/s, and science_keyword containing the word 'disk'"
      ]
    },
    {
      "cell_type": "code",
      "execution_count": null,
      "metadata": {
        "editable": true,
        "id": "lW-DFdLu0wIA",
        "scrolled": true,
        "tags": []
      },
      "outputs": [],
      "source": [
        "tap_query = Alma.query_tap(f\"\"\"\n",
        "                           \"\"\")"
      ]
    },
    {
      "cell_type": "code",
      "execution_count": null,
      "metadata": {
        "editable": true,
        "tags": [],
        "id": "5CyszW1Vnqz6"
      },
      "outputs": [],
      "source": [
        "tap_query.to_table().to_pandas()"
      ]
    },
    {
      "cell_type": "markdown",
      "metadata": {
        "editable": true,
        "id": "mWhp2_N-0wII",
        "tags": [
          "alminer"
        ]
      },
      "source": [
        "# Part 3: ALminer<a name=\"alminer\"></a>\n",
        "\n",
        "ALminer is a Python-based code to effectively query, analyse, and visualize the ALMA Science Archive (ASA).\n",
        "\n",
        "Leveraging pyVO, it simplifies ASA queries and user-friendly visualizations and refined filtering. Users can download ALMA data products or raw data for advanced image processing."
      ]
    },
    {
      "cell_type": "markdown",
      "metadata": {
        "editable": true,
        "tags": [],
        "id": "LoKPJzFtnqz7"
      },
      "source": [
        "## Set-up"
      ]
    },
    {
      "cell_type": "code",
      "execution_count": null,
      "metadata": {
        "editable": true,
        "tags": [],
        "id": "ZnHxMWi2nqz7"
      },
      "outputs": [],
      "source": [
        "import alminer"
      ]
    },
    {
      "cell_type": "markdown",
      "metadata": {
        "editable": true,
        "tags": [],
        "id": "S44aEc0rnqz7"
      },
      "source": [
        "## Resources\n",
        "\n",
        "- [ALminer documentation](https://alminer.readthedocs.io/en/latest/).\n",
        "- The most recent version of the code can be found on [GitHub](https://github.com/emerge-erc/ALminer), with an [extensive tutorial Jupyter Notebook](https://nbviewer.org/github/emerge-erc/ALminer/blob/main/notebooks/tutorial/ALminer_tutorial.ipynb?flush_cache=True)\n",
        "- Here is a list of all other possible [scientific categories](https://alminer.readthedocs.io/en/latest/pages/scientific_categories.html) and [keywords](https://alminer.readthedocs.io/en/latest/pages/science_keywords.html) for the `alminer.keysearch` function.\n"
      ]
    },
    {
      "cell_type": "markdown",
      "metadata": {
        "editable": true,
        "id": "JluyyrYL0wIK",
        "tags": []
      },
      "source": [
        "## Query by target name\n",
        "\n",
        "The names must be known objects in SIMBAD, VizieR, or NED."
      ]
    },
    {
      "cell_type": "code",
      "execution_count": null,
      "metadata": {
        "editable": true,
        "id": "adLNSHUh0wIK",
        "tags": []
      },
      "outputs": [],
      "source": [
        "q_results = alminer.target('')"
      ]
    },
    {
      "cell_type": "markdown",
      "metadata": {
        "editable": true,
        "id": "qaJEttp30wIL",
        "tags": []
      },
      "source": [
        "## Display the query results as a table"
      ]
    },
    {
      "cell_type": "markdown",
      "metadata": {
        "editable": true,
        "tags": [],
        "id": "rMJoQ-1Wnqz8"
      },
      "source": [
        "ALminer output is already in a pandas format. With the  `alminer.explore` function, you can control whether or not you want to display all rows and/or all columns  By default, only the 18 most useful columns are shown and the number of rows is truncated.\n",
        "\n",
        "We can use the option `head()` to visualize only the first 5 rows:"
      ]
    },
    {
      "cell_type": "code",
      "execution_count": null,
      "metadata": {
        "editable": true,
        "scrolled": true,
        "tags": [],
        "id": "XVzZExp6nqz8"
      },
      "outputs": [],
      "source": [
        "alminer.explore(q_results, allcols=True, allrows=False).head()"
      ]
    },
    {
      "cell_type": "markdown",
      "metadata": {
        "editable": true,
        "id": "va3XAMZS0wIN",
        "tags": []
      },
      "source": [
        "##  Query by coordinates\n",
        "#### **RA** = 67.910154, **Dec** = \t18.232681\n",
        "#### **Search radius** of 10 arcmin"
      ]
    },
    {
      "cell_type": "code",
      "execution_count": null,
      "metadata": {
        "editable": true,
        "id": "cJheaYYS0wIN",
        "tags": []
      },
      "outputs": [],
      "source": [
        "q_results = alminer.conesearch(ra=..., dec=...,\n",
        "                               search_radius = 10.0)"
      ]
    },
    {
      "cell_type": "markdown",
      "metadata": {
        "editable": true,
        "id": "P7SHnygY0wIO",
        "tags": []
      },
      "source": [
        "## Query by combination of features\n",
        "\n",
        "* Scientific category 'Disks and planet formation\"'\n",
        "* Contain the words 'DSHARP' in their abstracts\n",
        "* Public"
      ]
    },
    {
      "cell_type": "code",
      "execution_count": null,
      "metadata": {
        "editable": true,
        "tags": [],
        "id": "Y8TeAg7hnqz9"
      },
      "outputs": [],
      "source": [
        "query_params = {'proposal_abstract': [''],\n",
        "                'scientific_category':[\"\"]}"
      ]
    },
    {
      "cell_type": "code",
      "execution_count": null,
      "metadata": {
        "editable": true,
        "id": "kdyUQ1sA0wIO",
        "tags": []
      },
      "outputs": [],
      "source": [
        "q_results = alminer.keysearch(query_params,\n",
        "                              public = True,\n",
        "                              print_targets = False)"
      ]
    },
    {
      "cell_type": "markdown",
      "metadata": {
        "editable": true,
        "tags": [],
        "id": "MHdAZKS1nqz-"
      },
      "source": [
        "## Summarize results"
      ]
    },
    {
      "cell_type": "code",
      "execution_count": null,
      "metadata": {
        "editable": true,
        "tags": [],
        "id": "77eJ6ZOUnqz-"
      },
      "outputs": [],
      "source": [
        "alminer.summary(q_results)"
      ]
    },
    {
      "cell_type": "markdown",
      "metadata": {
        "editable": true,
        "tags": [],
        "id": "JmCXXOEsnqz-"
      },
      "source": [
        "## Filter results\n",
        "### Get the description and units of *ang_res_arcsec* column:\n"
      ]
    },
    {
      "cell_type": "code",
      "execution_count": null,
      "metadata": {
        "editable": true,
        "scrolled": true,
        "tags": [],
        "id": "4I9oJ5xSnqz_"
      },
      "outputs": [],
      "source": [
        "alminer.get_info('')"
      ]
    },
    {
      "cell_type": "markdown",
      "metadata": {
        "editable": true,
        "tags": [],
        "id": "9eZcURMcnqz_"
      },
      "source": [
        "### Only keep observations with angular resolutions < 0.1 arcsec:"
      ]
    },
    {
      "cell_type": "code",
      "execution_count": null,
      "metadata": {
        "editable": true,
        "tags": [],
        "id": "NCoIb9bMnqz_"
      },
      "outputs": [],
      "source": [
        "selected = q_results[q_results['ang_res_arcsec'] < 0.1]\n",
        "alminer.summary(selected, print_targets=False)"
      ]
    },
    {
      "cell_type": "markdown",
      "metadata": {
        "editable": true,
        "tags": [],
        "id": "RX1J9HfVnq0A"
      },
      "source": [
        "### Only keep observations with angular resolutions < 0.5 arcsec cointaing a certain frequency:"
      ]
    },
    {
      "cell_type": "code",
      "execution_count": null,
      "metadata": {
        "editable": true,
        "tags": [],
        "id": "DFBBrEJTnq0A"
      },
      "outputs": [],
      "source": [
        "freq = 230.5 #GHz\n",
        "selected = selected[(selected[\"min_freq_GHz\"] < freq) &\n",
        "                        (selected[\"max_freq_GHz\"] > freq)]\n",
        "alminer.summary(selected, print_targets=False)"
      ]
    },
    {
      "cell_type": "markdown",
      "metadata": {
        "editable": true,
        "id": "qVB1cHXA0wIS",
        "tags": []
      },
      "source": [
        "## Plot an overview of the query results"
      ]
    },
    {
      "cell_type": "code",
      "execution_count": null,
      "metadata": {
        "editable": true,
        "id": "2BbyT83E0wIS",
        "tags": []
      },
      "outputs": [],
      "source": [
        "alminer.plot_overview(q_results, showfig=True)"
      ]
    },
    {
      "cell_type": "markdown",
      "metadata": {
        "editable": true,
        "tags": [],
        "id": "rqyE5mqvnq0B"
      },
      "source": [
        "### Print all columns"
      ]
    },
    {
      "cell_type": "code",
      "execution_count": null,
      "metadata": {
        "editable": true,
        "id": "l__ebm8b0wIU",
        "tags": []
      },
      "outputs": [],
      "source": [
        "print(q_results.columns)\n",
        "\n",
        "# Get information about the columns of interest\n",
        "alminer.get_info('ang_res_arcsec')\n",
        "alminer.get_info('vel_res_kms')"
      ]
    },
    {
      "cell_type": "markdown",
      "metadata": {
        "editable": true,
        "id": "IqwDmem30wIY",
        "tags": []
      },
      "source": [
        "### Print the summary of an subquery\n",
        "#### Angular Resolution < 3 arcsec, Velocity Resolution < 60 km/s"
      ]
    },
    {
      "cell_type": "code",
      "execution_count": null,
      "metadata": {
        "editable": true,
        "id": "pRzLwO8P0wIW",
        "tags": []
      },
      "outputs": [],
      "source": [
        "sub_query = q_results[(q_results['ang_res_arcsec'] < ... ) &\n",
        "                    (q_results['vel_res_kms'] < ...)]\n",
        "alminer.summary(sub_query, print_targets=True)"
      ]
    },
    {
      "cell_type": "markdown",
      "metadata": {
        "editable": true,
        "tags": [],
        "id": "_Inyxi77nq0C"
      },
      "source": [
        "### Plot the overview of the subquery"
      ]
    },
    {
      "cell_type": "code",
      "execution_count": null,
      "metadata": {
        "editable": true,
        "id": "VCbulavT0wIa",
        "scrolled": true,
        "tags": []
      },
      "outputs": [],
      "source": [
        "alminer.plot_overview(sub_query) # you can also specify a redshift using the 'z' parameter (default=0)"
      ]
    },
    {
      "cell_type": "markdown",
      "metadata": {
        "editable": true,
        "id": "7EFoHMjY0wIb",
        "tags": []
      },
      "source": [
        "## Query CO lines\n",
        "### Search whether any CO lines are covered in the above observations:\n",
        "Note that if you are interested in observations of targets at high-redshift, you can specify a redshift using the 'z' parameter."
      ]
    },
    {
      "cell_type": "code",
      "execution_count": null,
      "metadata": {
        "editable": true,
        "id": "PXX9pgL20wIb",
        "scrolled": true,
        "tags": []
      },
      "outputs": [],
      "source": [
        "CO_obs = alminer.CO_lines(q_results, z=0)"
      ]
    },
    {
      "cell_type": "markdown",
      "metadata": {
        "editable": true,
        "tags": [],
        "id": "ohv1TTtQnq0D"
      },
      "source": [
        "### Mark redshifted CO lines:"
      ]
    },
    {
      "cell_type": "code",
      "execution_count": null,
      "metadata": {
        "editable": true,
        "tags": [],
        "id": "DxR2DNljnq0D"
      },
      "outputs": [],
      "source": [
        "alminer.plot_overview(q_results, mark_CO=True)"
      ]
    },
    {
      "cell_type": "markdown",
      "metadata": {
        "editable": true,
        "id": "zXk6mkPT0wIb",
        "tags": []
      },
      "source": [
        "### Search whether a given frequency is covered in the observations: 13CO 3-2"
      ]
    },
    {
      "cell_type": "code",
      "execution_count": null,
      "metadata": {
        "editable": true,
        "id": "9xiwVZRO0wIc",
        "tags": []
      },
      "outputs": [],
      "source": [
        "myline_obs = alminer.line_coverage(q_results,\n",
        "                                   line_freq=...,\n",
        "                                   z=0,\n",
        "                                   line_name=\"13CO 3-2\",\n",
        "                                   print_targets=True)"
      ]
    },
    {
      "cell_type": "markdown",
      "metadata": {
        "editable": true,
        "id": "17WixIK30wIc",
        "tags": []
      },
      "source": [
        "### Highlight this frequency in the overview plots:"
      ]
    },
    {
      "cell_type": "code",
      "execution_count": null,
      "metadata": {
        "editable": true,
        "id": "kU3GF6lw0wId",
        "tags": []
      },
      "outputs": [],
      "source": [
        "alminer.plot_line_overview(q_results, line_freq=...)"
      ]
    },
    {
      "cell_type": "markdown",
      "metadata": {
        "editable": true,
        "id": "D71pKcC10wId",
        "tags": []
      },
      "source": [
        "## Download all data products (raw + products)\n",
        "### Download data whether the CO 3-2 frequency is covered in the observations:"
      ]
    },
    {
      "cell_type": "code",
      "execution_count": null,
      "metadata": {
        "editable": true,
        "id": "mtbrsTVn0wIe",
        "tags": []
      },
      "outputs": [],
      "source": [
        "alminer.download_data(myline_obs, fitsonly=False, dryrun=True,\n",
        "                      location='./data', print_urls=False)"
      ]
    },
    {
      "cell_type": "markdown",
      "metadata": {
        "editable": true,
        "id": "OnqosyM10wIf",
        "tags": []
      },
      "source": [
        "### Download only continuum FITS images:"
      ]
    },
    {
      "cell_type": "code",
      "execution_count": null,
      "metadata": {
        "editable": true,
        "id": "F6Xr9mP20wIg",
        "tags": []
      },
      "outputs": [],
      "source": [
        "alminer.download_data(myline_obs, fitsonly=True, dryrun=True,\n",
        "                      location='./data', print_urls=True,\n",
        "                      filename_must_include=['_sci', '.pbcor', 'cont'])"
      ]
    },
    {
      "cell_type": "markdown",
      "metadata": {
        "editable": true,
        "id": "8uTeZmEa0wIg",
        "tags": []
      },
      "source": [
        "## Send a pyVO query using ALminer\n",
        "We can use all the analysis and plotting routines presented before on these observations:"
      ]
    },
    {
      "cell_type": "code",
      "execution_count": null,
      "metadata": {
        "editable": true,
        "id": "IExeZ9Z60wIh",
        "tags": []
      },
      "outputs": [],
      "source": [
        "query_str = f\"\"\"SELECT *\n",
        "                 FROM ivoa.ObsCore\n",
        "                 WHERE frequency > 300\n",
        "                 AND frequency < 400\n",
        "                 AND sensitivity_10kms < 5\n",
        "                 AND science_keyword LIKE '%disk%'\n",
        "            \"\"\"\n",
        "\n",
        "q_results = alminer.run_query(query_str)\n",
        "q_results_obs = alminer.filter_results(q_results, print_targets=False)"
      ]
    },
    {
      "cell_type": "markdown",
      "metadata": {
        "editable": true,
        "tags": [],
        "id": "8wUrlbvOnq0G"
      },
      "source": [
        "<style>\n",
        "\n",
        ".reveal .controls .controls-arrow::after, .reveal .controls .controls-arrow::before {\n",
        "color: #5B5BD5;\n",
        "}\n",
        "    \n",
        ".reveal .slides>section {\n",
        "    overflow-y: auto !important; /* Abilita lo scrolling verticale */\n",
        "    overflow-x: auto !important; /* Abilita lo scrolling orizzontale */\n",
        "    word-wrap: normal !important; /* Disabilita il wrap delle parole */\n",
        "}\n",
        "\n",
        ".reveal {\n",
        "    font-family: \"Ubuntu\", sans-serif;\n",
        "    background-color: #ffffff;\n",
        "}\n",
        "\n",
        ".reveal table {\n",
        "    font-size: 90%;\n",
        "}\n",
        "\n",
        ".jp-MarkdownOutput {\n",
        "  padding-left: 0px;\n",
        "    padding-right: 0px;\n",
        "}\n",
        "\n",
        ".jp-RenderedHTMLCommon > *:last-child {\n",
        "  margin-bottom: 0.5em;\n",
        "overflow-x: auto !important; */\n",
        "}\n",
        "\n",
        ".jp-RenderedHTMLCommon  {\n",
        "    padding-right: 0px;\n",
        "}\n",
        "\n",
        ".jp-Collapser {\n",
        "  flex: 0 0 0;\n",
        "}\n",
        ".reveal h1 {\n",
        "    font-family: \"Ubuntu\", sans-serif;\n",
        "    font-weight: 700;\n",
        "    font-style: normal;\n",
        "}\n",
        "\n",
        "\n",
        ".reveal h2 {\n",
        "    font-family: \"Ubuntu\", sans-serif;\n",
        "    font-weight: 600;\n",
        "    font-style: normal;\n",
        "}\n",
        "\n",
        ".reveal h3 {\n",
        "    font-family: \"Ubuntu\", sans-serif;\n",
        "    font-weight: 500;\n",
        "    font-style: normal;z\n",
        "}\n",
        "\n",
        ".reveal h4 {\n",
        "    font-family: \"Ubuntu\", sans-serif;\n",
        "    font-weight: 400;\n",
        "    font-style: normal;\n",
        "}\n",
        "\n",
        ".reveal p {\n",
        "    font-family: \"Ubuntu\", sans-serif;\n",
        "}\n",
        "\n",
        "    \n",
        ".reveal .slides>section .table-container {\n",
        "    overflow-x: auto; /* Abilita lo scrolling orizzontale quando necessario */\n",
        " max-width: 0px;\n",
        " overflow: hidden;\n",
        " text-overflow: ellipsis;\n",
        " white-space: nowrap;\n",
        "}\n",
        "    \n",
        ".reveal table {\n",
        "    overflow-x: auto;/* Imposta la dimensione del font desiderata */\n",
        " max-width: 0px;\n",
        " overflow: hidden;\n",
        " text-overflow: ellipsis;\n",
        " white-space: nowrap;\n",
        "}\n",
        "\n",
        ".reveal .slides>section table {\n",
        "     overflow-x: auto; /* Imposta la larghezza massima della tabella al 100% della slide */\n",
        " max-width: 0px;\n",
        " overflow: hidden;\n",
        " text-overflow: ellipsis;\n",
        " white-space: nowrap;\n",
        "}\n",
        "\n",
        ".reveal .slides>section .celltag_hide_input .jp-InputArea{\n",
        "    display: none;\n",
        "}\n",
        "    \n",
        ".reveal .slides>section:first-of-type .jp-InputPrompt{\n",
        "    width: 0;\n",
        "    padding-left: 0px;\n",
        "    padding-right: 0px;\n",
        "}\n",
        "\n",
        ".reveal div.highlight > pre{\n",
        "    word-wrap: normal;\n",
        "    word-break: break-word;\n",
        "}\n",
        "    \n",
        ".reveal .slides>section {\n",
        "    overflow-y: auto; /* Enable vertical scrolling */\n",
        "    overflow-x: auto; /* Enable horizontal scrolling */\n",
        "    word-wrap: normal;\n",
        "}\n",
        "\n",
        ".reveal pre code {\n",
        "    background-color: #f0f0f0; /* Aggiungi lo stesso colore di sfondo dei blocchi di codice */\n",
        "    border-radius: 3px; /* Aggiungi bordi arrotondati */\n",
        "    font-weight: bold; /* Rendi il testo in grassetto */\n",
        "    color: #5B5BD5; /* Imposta il colore del testo */\n",
        "    overflow-x: auto; /* Abilita lo scrolling orizzontale se necessario */\n",
        "    overflow-y: auto; /* Abilita lo scrolling verticale se necessario */\n",
        "    font-size: 15pt;\n",
        "}\n",
        "\n",
        ".reveal .slides>section .celltag_list pre{\n",
        "    \n",
        "   font-size: 13pt !important ;\n",
        "    width: 100% !important;\n",
        "    word-break: normal;\n",
        "    white-space: preserve-spaces;\n",
        "    \n",
        "}\n",
        "    \n",
        ".reveal div.jp-OutputArea-output pre{\n",
        "    \n",
        "   font-size: 13pt !important ;\n",
        "    width: 100% !important;\n",
        "    word-break: normal;\n",
        "    white-space: preserve-breaks;\n",
        "    \n",
        "}\n",
        ".reveal p strong {\n",
        "    color: #5B5BD5; /* Imposta il colore del testo in grassetto */\n",
        "}\n",
        "\n",
        ".reveal .slides>section .celltag_bold p strong {\n",
        "    color: #000000; /* Imposta il colore del testo in grassetto */\n",
        "}\n",
        ".reveal .slides>section p code{\n",
        "    background-color:  #f0f0f0  ; /* Light blue background */\n",
        "    padding: 5px; /* Add padding for spacing */\n",
        "    border-radius: 3px; /* Add rounded corners */\n",
        "    font-weight: bold; /* Make text bold */\n",
        "    color:#5B5BD5;\n",
        "    overflow-x: auto;\n",
        "    overflow-y: auto;\n",
        "    word-wrap: normal;\n",
        "}\n",
        "\n",
        ".reveal ul,\n",
        ".reveal li {\n",
        "    font-family: \"Ubuntu\", sans-serif;\n",
        "}\n",
        "\n",
        ".reveal li code{\n",
        "    background-color:  #f0f0f0  ; /* Light blue background */\n",
        "    padding: 5px; /* Add padding for spacing */\n",
        "    border-radius: 3px; /* Add rounded corners */\n",
        "    font-weight: bold; /* Make text bold */\n",
        "    color:#5B5BD5;\n",
        "    overflow-x: auto;\n",
        "    overflow-y: auto;\n",
        "    word-wrap: normal;\n",
        "}\n",
        "\n",
        "\n",
        ".reveal a {\n",
        "    color: #5B5BD5 !important; /* Imposta il colore del testo in grassetto e degli hyperlink */\n",
        "}\n",
        "\n",
        "\n",
        "\n",
        "/* Add background images */\n",
        ".reveal .slides>section .celltag_first\n",
        "    {\n",
        "    background-image: url(\"https://europeanastrobiology.eu/wp-content/uploads/2024/07/EAI-logo-3-1-300x168-1.png\");\n",
        "    background-size: 36% auto;\n",
        "    background-position-x: 0px,165px,410px,728px;\n",
        "    background-repeat: no-repeat;\n",
        "    background-position-y: 280px;\n",
        "}\n",
        "    \n",
        "\n",
        ".reveal .slides>section:first-of-type h1,\n",
        ".reveal .slides>section:first-of-type h2,\n",
        ".reveal .slides>section:first-of-type p {\n",
        "     margin-top: 50px;\n",
        "    color: #5B5BD5;\n",
        "    \n",
        "}\n",
        "    \n",
        ".reveal .slides>section:first-of-type h3{\n",
        "    font-weight: 400;\n",
        "    padding-bottom: 50px;\n",
        "    color: black;\n",
        "    font-family:inherit;\n",
        "    padding-right: 20px\n",
        "}\n",
        "\n",
        ".reveal .slides>section:first-of-type h4 {\n",
        "    font-weight: 300;\n",
        "    padding-bottom: 10px;\n",
        "    color: black;\n",
        "     text-align:right;\n",
        "}\n",
        "\n",
        ".reveal .slides>section:first-of-type p:last-of-type {\n",
        "    margin-bottom: 0px; /* Adjust as needed */\n",
        "}\n",
        "\n",
        ".reveal .slides>section:first-of-type img {\n",
        "    align-self: center;\n",
        "    margin-top: auto;\n",
        "}\n",
        "\n",
        ".reveal .slides>section:first-of-type img {\n",
        "    align-self: center;\n",
        "    margin-top: auto;\n",
        "    max-width: 100%; /* Adjust the percentage as needed */\n",
        "    height: auto;\n",
        "    padding-top: 50 px;\n",
        "}\n",
        "\n",
        "\n",
        ".reveal .slides>section .celltag_alminer {\n",
        "    \n",
        "    background-image: url('https://www.alma-allegro.nl/wp-content/uploads/2021/07/ALminer_logo_header-scaled-e1647277877367.jpg');\n",
        "      position: relative;\n",
        "      padding-top: 170px;\n",
        "      background-repeat: no-repeat;\n",
        "      background-position: top left;\n",
        "      background-size: 80%;\n",
        "      padding-left: 20px;\n",
        "}\n",
        "    \n",
        ".reveal .slides>section .celltag_pyvo {\n",
        "    \n",
        "    background-image: url('https://projectescape.eu/sites/default/files/styles/responsive/public/IVOA_1_0.jpg?itok=D4U-uXrZ');\n",
        "    position: relative;\n",
        "    padding-top: 77px;\n",
        "    background-repeat: no-repeat;\n",
        "    background-position: top right;\n",
        "    background-size: 50%;\n",
        "    padding-left: 0px;\n",
        "}\n",
        "    \n",
        ".reveal .slides>section .celltag_small_url p{\n",
        "    font-size: 14pt !important ;\n",
        "}\n",
        "\n",
        ".reveal .slides>section .celltag_small_url {\n",
        "    \n",
        "    background-image: url('https://encrypted-tbn0.gstatic.com/images?q=tbn:ANd9GcQShHA2uWsQsHlTk_9hKk-2TvOEVSa15TjBNlbREcInz95s1vMM_-CwrPHSGvR4L4lPba4&usqp=CAU');\n",
        "    background-repeat: no-repeat;\n",
        "    background-position: center right;\n",
        "    background-size: 28% auto;\n",
        "}\n",
        "    \n",
        ".reveal .slides>section .celltag_astroquery {\n",
        "    \n",
        "    background-image: url('https://encrypted-tbn0.gstatic.com/images?q=tbn:ANd9GcRi8FeQzWKt6Kwt0DdcFBsCnimxHZULgwnQqqmNoocWKg&s');\n",
        "    background-repeat: no-repeat;\n",
        "    background-position: top right;\n",
        "    background-size: 38% auto;\n",
        "}\n",
        "\n",
        ".reveal .slides>section:first-of-type {\n",
        "    text-align:center;\n",
        "    background-color: #ffffff ;\n",
        "    \n",
        "}\n",
        "/* Fasce superiori e inferiori */\n",
        ".reveal .slides>section:first-of-type::before,\n",
        ".reveal .slides>section:first-of-type::after {\n",
        "    content: '';\n",
        "    position: absolute;\n",
        "    width: 100%;\n",
        "    height: 50px; /* Altezza della fascia */\n",
        "    background-color: #5B5BD5; /* Colore azzurro */\n",
        "    left: 0;\n",
        "    z-index: -1; /* Per posizionare dietro al contenuto */\n",
        "}\n",
        "\n",
        "/* Fascia superiore */\n",
        ".reveal .slides>section:first-of-type::before {\n",
        "    top: 0;\n",
        "}\n",
        "\n",
        "/* Fascia inferiore */\n",
        ".reveal .slides>section:first-of-type::after {\n",
        "    bottom: 0;\n",
        "}\n",
        "\n",
        "img {\n",
        "    width: auto;\n",
        "    height: auto;\n",
        "    max-width: 100%;\n",
        "    max-height: 100%;\n",
        "}\n",
        "\n",
        "\n",
        "</style>"
      ]
    },
    {
      "cell_type": "markdown",
      "metadata": {
        "id": "RO0eHIB7nq0H"
      },
      "source": [
        "## Final Task: retrieve useful fits for the next steps\n",
        "\n",
        "#### 1: hd142527, Band 3, 2018.1.00568.S, full Stokes\n",
        "#### 2: hd142527, Band 7, 2015.1.00425.S, Stokes I, fits file should contain 'field5'\n"
      ]
    },
    {
      "cell_type": "markdown",
      "metadata": {
        "editable": true,
        "jp-MarkdownHeadingCollapsed": true,
        "tags": [
          "hide_output",
          "hide_input"
        ],
        "id": "dxoeI_sfnq0H"
      },
      "source": [
        "## PyVO Exercise:\n",
        "Use PyVO to query the ALMA archive for observations of the protoplanetary disk surrounding HL Tauri that have a frequency range between 100 GHz and 120 GHz. Additionally, filter for observations with a minimum exposure time of 12000 seconds."
      ]
    },
    {
      "cell_type": "markdown",
      "metadata": {
        "editable": true,
        "tags": [
          "hide_output",
          "hide_input"
        ],
        "id": "BUmZd-OLnq0I"
      },
      "source": [
        "## Astropy Exercise:\n",
        "Use Astroquery to query the ALMA archive for observations of the protoplanetary disk surrounding TW Hydra. The observations data should have been release after 2018, and an angular resolution between 0.1 arcseconds and 0.5 arcseconds. Also, its frequency coverage should contain the CO 2-1 emission line (230.538 GHz)"
      ]
    },
    {
      "cell_type": "markdown",
      "metadata": {
        "editable": true,
        "tags": [
          "hide_output",
          "hide_input"
        ],
        "id": "vQVe8idTnq0I"
      },
      "source": [
        "## Alminer Exercise\n",
        "Use Alminer to query the ALMA archive for observations of the protoplanetary disk surrounding DM Tau. The observations should have an angular resolution lower than 0.1 arcseconds. Additionally, filter for ALma band 6, a largest angular scale bigger than 0.49 arcsec and sensitivity better than 0.44 mJy/beam @ 10 km/s."
      ]
    },
    {
      "cell_type": "code",
      "execution_count": null,
      "metadata": {
        "id": "CMYJph_dnq0J"
      },
      "outputs": [],
      "source": []
    }
  ],
  "metadata": {
    "colab": {
      "provenance": []
    },
    "kernelspec": {
      "display_name": "Python 3",
      "language": "python",
      "name": "python3"
    },
    "language_info": {
      "codemirror_mode": {
        "name": "ipython",
        "version": 3
      },
      "file_extension": ".py",
      "mimetype": "text/x-python",
      "name": "python",
      "nbconvert_exporter": "python",
      "pygments_lexer": "ipython3",
      "version": "3.11.5"
    }
  },
  "nbformat": 4,
  "nbformat_minor": 0
}