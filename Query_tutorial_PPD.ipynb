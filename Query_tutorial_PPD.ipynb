{
  "cells": [
    {
      "cell_type": "markdown",
      "metadata": {
        "editable": true,
        "tags": [
          "first"
        ],
        "id": "W1CULAmznqzE"
      },
      "source": [
        "# ALMA Science Archive Query Tools\n",
        "### **Martina Torsello**\n",
        "\n",
        "#### **The Birth of Solar Systems Summer School**\n",
        "#### **3 March 2025**"
      ]
    },
    {
      "cell_type": "markdown",
      "metadata": {
        "editable": true,
        "tags": [
          "bold"
        ],
        "id": "sXLiCxv2nqzH"
      },
      "source": [
        "## Query Tools Notebook\n",
        "\n",
        "This notebook is designed to help you learn how to utilize query tools within the [ALMA Science Archive (ASA)](https://almascience.eso.org/aq/).\n",
        "\n",
        "### How to Use\n",
        "Each cell can be executed by pressing <kbd>Shift</kbd>+<kbd>Enter</kbd>, you may enter your attempts in the empty cells and create new cells by clicking the <kbd>+Code</kbd> button.\n",
        "\n",
        "You can run it using Google Colab or Jupyter Notebook in your own python/conda environment.\n",
        "\n",
        "**To open the notebook in Colab:**  &emsp;&emsp;&emsp;&emsp;&emsp;&emsp;&emsp;&emsp;&emsp;&emsp;&emsp;&emsp;&emsp;&emsp;&emsp;&emsp;&emsp;&emsp;&emsp;&emsp;&emsp;&emsp;&emsp; https://colab.research.google.com/github/martitors/PPD_School_2025/blob/main/Query_tutorial_PPD.ipynb\n",
        "\n",
        "**To download the notebook and work with it in your local station:** &emsp;&emsp;&emsp;&emsp;&emsp;&emsp;&emsp;&emsp; https://github.com/martitors/PPD_School_2025/blob/main/Query_tutorial_PPD.ipynb"
      ]
    },
    {
      "cell_type": "markdown",
      "metadata": {
        "editable": true,
        "tags": [],
        "id": "VYg2q0pHnqzI"
      },
      "source": [
        "## Parts Overview\n",
        "\n",
        "In this notebook we will see three of the most popular query tools:\n",
        "\n",
        "### [Part 1. pyVO](#pyVO)\n",
        "### [Part 2. astroquery](#astroquery)\n",
        "### [Part 3. ALminer](#alminer)\n",
        "### [Part 4. Exercise](#workstation)"
      ]
    },
    {
      "cell_type": "markdown",
      "metadata": {
        "editable": true,
        "tags": [],
        "id": "SkqEKec0nqzJ"
      },
      "source": [
        "## Packages installation\n",
        "### **Google Colab**\n",
        "If you are using Colab, the installation of the different packages will be done through *pip*."
      ]
    },
    {
      "cell_type": "code",
      "execution_count": 23,
      "metadata": {
        "editable": true,
        "tags": [],
        "id": "a5fOKuLOnqzK",
        "outputId": "8392a818-0af9-458a-e66d-940f266d954d",
        "colab": {
          "base_uri": "https://localhost:8080/"
        }
      },
      "outputs": [
        {
          "output_type": "stream",
          "name": "stdout",
          "text": [
            "Collecting https://github.com/emerge-erc/ALminer/archive/refs/heads/main.zip\n",
            "  Using cached https://github.com/emerge-erc/ALminer/archive/refs/heads/main.zip\n",
            "  Installing build dependencies ... \u001b[?25l\u001b[?25hdone\n",
            "  Getting requirements to build wheel ... \u001b[?25l\u001b[?25hdone\n",
            "  Preparing metadata (pyproject.toml) ... \u001b[?25l\u001b[?25hdone\n",
            "Collecting astroquery@ git+https://****@github.com/astropy/astroquery (from alminer==0.1.3)\n",
            "  Cloning https://****@github.com/astropy/astroquery to /tmp/pip-install-yuwd79h0/astroquery_656114f373e84718b12a82f8711f3342\n",
            "  Running command git clone --filter=blob:none --quiet 'https://****@github.com/astropy/astroquery' /tmp/pip-install-yuwd79h0/astroquery_656114f373e84718b12a82f8711f3342\n",
            "  Resolved https://****@github.com/astropy/astroquery to commit 50eadddbebbb70890087f93891d62164dc690f86\n",
            "  Running command git submodule update --init --recursive -q\n",
            "  Installing build dependencies ... \u001b[?25l\u001b[?25hdone\n",
            "  Getting requirements to build wheel ... \u001b[?25l\u001b[?25hdone\n",
            "  Preparing metadata (pyproject.toml) ... \u001b[?25l\u001b[?25hdone\n",
            "Requirement already satisfied: numpy>=1.15 in /usr/local/lib/python3.11/dist-packages (from alminer==0.1.3) (1.26.4)\n",
            "Requirement already satisfied: pandas>1.0 in /usr/local/lib/python3.11/dist-packages (from alminer==0.1.3) (2.2.2)\n",
            "Requirement already satisfied: matplotlib>=3.3.0 in /usr/local/lib/python3.11/dist-packages (from alminer==0.1.3) (3.10.0)\n",
            "Requirement already satisfied: pyvo>=1.2.1 in /usr/local/lib/python3.11/dist-packages (from alminer==0.1.3) (1.6.1)\n",
            "Requirement already satisfied: astropy>=3.1.2 in /usr/local/lib/python3.11/dist-packages (from alminer==0.1.3) (7.0.1)\n",
            "Requirement already satisfied: pyerfa>=2.0.1.1 in /usr/local/lib/python3.11/dist-packages (from astropy>=3.1.2->alminer==0.1.3) (2.0.1.5)\n",
            "Requirement already satisfied: astropy-iers-data>=0.2025.1.31.12.41.4 in /usr/local/lib/python3.11/dist-packages (from astropy>=3.1.2->alminer==0.1.3) (0.2025.2.24.0.34.4)\n",
            "Requirement already satisfied: PyYAML>=6.0.0 in /usr/local/lib/python3.11/dist-packages (from astropy>=3.1.2->alminer==0.1.3) (6.0.2)\n",
            "Requirement already satisfied: packaging>=22.0.0 in /usr/local/lib/python3.11/dist-packages (from astropy>=3.1.2->alminer==0.1.3) (24.2)\n",
            "Requirement already satisfied: contourpy>=1.0.1 in /usr/local/lib/python3.11/dist-packages (from matplotlib>=3.3.0->alminer==0.1.3) (1.3.1)\n",
            "Requirement already satisfied: cycler>=0.10 in /usr/local/lib/python3.11/dist-packages (from matplotlib>=3.3.0->alminer==0.1.3) (0.12.1)\n",
            "Requirement already satisfied: fonttools>=4.22.0 in /usr/local/lib/python3.11/dist-packages (from matplotlib>=3.3.0->alminer==0.1.3) (4.56.0)\n",
            "Requirement already satisfied: kiwisolver>=1.3.1 in /usr/local/lib/python3.11/dist-packages (from matplotlib>=3.3.0->alminer==0.1.3) (1.4.8)\n",
            "Requirement already satisfied: pillow>=8 in /usr/local/lib/python3.11/dist-packages (from matplotlib>=3.3.0->alminer==0.1.3) (11.1.0)\n",
            "Requirement already satisfied: pyparsing>=2.3.1 in /usr/local/lib/python3.11/dist-packages (from matplotlib>=3.3.0->alminer==0.1.3) (3.2.1)\n",
            "Requirement already satisfied: python-dateutil>=2.7 in /usr/local/lib/python3.11/dist-packages (from matplotlib>=3.3.0->alminer==0.1.3) (2.8.2)\n",
            "Requirement already satisfied: pytz>=2020.1 in /usr/local/lib/python3.11/dist-packages (from pandas>1.0->alminer==0.1.3) (2025.1)\n",
            "Requirement already satisfied: tzdata>=2022.7 in /usr/local/lib/python3.11/dist-packages (from pandas>1.0->alminer==0.1.3) (2025.1)\n",
            "Requirement already satisfied: requests in /usr/local/lib/python3.11/dist-packages (from pyvo>=1.2.1->alminer==0.1.3) (2.32.3)\n",
            "Requirement already satisfied: beautifulsoup4>=4.8 in /usr/local/lib/python3.11/dist-packages (from astroquery@ git+https://git@github.com/astropy/astroquery->alminer==0.1.3) (4.13.3)\n",
            "Requirement already satisfied: html5lib>=0.999 in /usr/local/lib/python3.11/dist-packages (from astroquery@ git+https://git@github.com/astropy/astroquery->alminer==0.1.3) (1.1)\n",
            "Requirement already satisfied: keyring>=15.0 in /usr/lib/python3/dist-packages (from astroquery@ git+https://git@github.com/astropy/astroquery->alminer==0.1.3) (23.5.0)\n",
            "Requirement already satisfied: soupsieve>1.2 in /usr/local/lib/python3.11/dist-packages (from beautifulsoup4>=4.8->astroquery@ git+https://git@github.com/astropy/astroquery->alminer==0.1.3) (2.6)\n",
            "Requirement already satisfied: typing-extensions>=4.0.0 in /usr/local/lib/python3.11/dist-packages (from beautifulsoup4>=4.8->astroquery@ git+https://git@github.com/astropy/astroquery->alminer==0.1.3) (4.12.2)\n",
            "Requirement already satisfied: six>=1.9 in /usr/local/lib/python3.11/dist-packages (from html5lib>=0.999->astroquery@ git+https://git@github.com/astropy/astroquery->alminer==0.1.3) (1.17.0)\n",
            "Requirement already satisfied: webencodings in /usr/local/lib/python3.11/dist-packages (from html5lib>=0.999->astroquery@ git+https://git@github.com/astropy/astroquery->alminer==0.1.3) (0.5.1)\n",
            "Requirement already satisfied: charset-normalizer<4,>=2 in /usr/local/lib/python3.11/dist-packages (from requests->pyvo>=1.2.1->alminer==0.1.3) (3.4.1)\n",
            "Requirement already satisfied: idna<4,>=2.5 in /usr/local/lib/python3.11/dist-packages (from requests->pyvo>=1.2.1->alminer==0.1.3) (3.10)\n",
            "Requirement already satisfied: urllib3<3,>=1.21.1 in /usr/local/lib/python3.11/dist-packages (from requests->pyvo>=1.2.1->alminer==0.1.3) (2.3.0)\n",
            "Requirement already satisfied: certifi>=2017.4.17 in /usr/local/lib/python3.11/dist-packages (from requests->pyvo>=1.2.1->alminer==0.1.3) (2025.1.31)\n"
          ]
        }
      ],
      "source": [
        "import sys\n",
        "moduleList = sys.modules\n",
        "\n",
        "if 'google.colab' in moduleList:\n",
        "\n",
        "    ! pip install https://github.com/emerge-erc/ALminer/archive/refs/heads/main.zip"
      ]
    },
    {
      "cell_type": "markdown",
      "metadata": {
        "editable": true,
        "tags": [],
        "id": "l4dJ1WbonqzL"
      },
      "source": [
        "### **Local environment**\n",
        "\n",
        "Otherwise, if you are running this notebook on the your local machine using jupyter, you should install all the packages in advance on your own conda/pyhton environment.\n",
        "After you have activate your environment, you can execute the following lines:\n",
        "\n",
        "#### **Download scipy and ALminer** (pyVO and astroquery are automatically installed via ALminer dependencies)\n",
        "**BEWARE:** You should download the 'bleeding edge' from github and not the classic *pip install alminer*.\n",
        "Some functions (i.e. Splatalogue) currently only work in the development version of this packages.\n",
        "\n",
        "\n",
        "` pip install scipy https://github.com/emerge-erc/ALminer/archive/refs/heads/main.zip `\n"
      ]
    },
    {
      "cell_type": "markdown",
      "metadata": {
        "editable": true,
        "id": "iDG5RHSD0wG_",
        "tags": [
          "pyvo"
        ]
      },
      "source": [
        "# Part 1. pyVO<a name=\"pyVO\"></a>\n",
        "\n",
        "**pyVO** (Python Virtual Observatory) is a Python library designed to access and query astronomical data through the Virtual Observatory (VO).\n",
        "\n",
        "* Officially supported by the ALMA archive developers.\n",
        "* Offers a simple interface to query VO services and retrieve astronomical data from them.\n",
        "* It facilitates tasks such as searching for specific observations, accessing metadata, and downloading data files for analysis."
      ]
    },
    {
      "cell_type": "markdown",
      "metadata": {
        "editable": true,
        "tags": [],
        "id": "Gm5FNevSnqzO"
      },
      "source": [
        "## Set-up"
      ]
    },
    {
      "cell_type": "code",
      "execution_count": 19,
      "metadata": {
        "editable": true,
        "tags": [],
        "id": "3BD2jr0-nqzP"
      },
      "outputs": [],
      "source": [
        "import pyvo\n",
        "import pandas as pd\n",
        "\n",
        "service = pyvo.dal.TAPService(\"https://almascience.eso.org/tap\")\n",
        "\n",
        "# If the ESO archive is down, you may use the NRAO/NAOJ mirrors:\n",
        "# service = pyvo.dal.TAPService(\"https://almascience.nrao.edu/tap\")\n",
        "# service = pyvo.dal.TAPService(\"https://almascience.nao.ac.jp/tap\")"
      ]
    },
    {
      "cell_type": "markdown",
      "metadata": {
        "editable": true,
        "tags": [],
        "id": "uyU2UQ60nqzR"
      },
      "source": [
        "## Resources\n",
        "* The language used by the IVOA to represent astronomy queries posted to VO services: [The Astronomical Data Query Language (ADQL)](https://www.ivoa.net/documents/ADQL/20180112/PR-ADQL-2.1-20180112.html).\n",
        "* Examples on using pyVO to query the ALMA archive: [Notebooks on the ALMA Science Portal](https://almascience.eso.org/alma-data/archive/archive-notebooks).\n"
      ]
    },
    {
      "cell_type": "markdown",
      "metadata": {
        "editable": true,
        "scroll": true,
        "tags": [],
        "id": "E2BfaxgxnqzS"
      },
      "source": [
        "## Query Standart Format"
      ]
    },
    {
      "cell_type": "code",
      "execution_count": 20,
      "metadata": {
        "editable": true,
        "tags": [],
        "id": "dSmgSwJtnqzU"
      },
      "outputs": [],
      "source": [
        "query = f\"\"\"\n",
        "\n",
        "         \"\"\""
      ]
    },
    {
      "cell_type": "markdown",
      "metadata": {
        "editable": true,
        "scroll": true,
        "scrolled": "True",
        "tags": [],
        "id": "-lr4pTg6nqzV"
      },
      "source": [
        "#### Quering options:\n",
        "\n",
        "* `SELECT`: The columns you want to retrieve from the table.\n",
        "\n",
        "* `WHERE`: The constraints on the data you want to retrieve.\n",
        "\n",
        "* `FROM`: Specifies the table or catalog from which you want to retrieve data.\n",
        "\n",
        "* `INTERSECT`: The results should match both conditions specified.\n",
        "\n",
        "* `JOIN`: Join operation between two tables.\n",
        "\n",
        "* `ORDER BY`: The column(s) by which the results should be sorted.\n",
        "\n",
        "* `LIMIT`: The maximum number of results to return.\n",
        "\n",
        "* `FORMAT`: The format in which you want the results to be returned (e.g., VOTable, CSV, JSON)."
      ]
    },
    {
      "cell_type": "markdown",
      "metadata": {
        "editable": true,
        "id": "k3kxaSEQ0wHD",
        "tags": []
      },
      "source": [
        "## Get all available column names"
      ]
    },
    {
      "cell_type": "code",
      "execution_count": 21,
      "metadata": {
        "editable": true,
        "tags": [],
        "id": "SWK-GzbAnqzW",
        "outputId": "7c9b182e-5533-48c3-a23e-64f57ac5d1da",
        "colab": {
          "base_uri": "https://localhost:8080/"
        }
      },
      "outputs": [
        {
          "output_type": "stream",
          "name": "stdout",
          "text": [
            "['source_names', 'm_ra', 'm_ra_uncertainty', 'm_dec', 'm_dec_uncertainty', 'm_frequency', 'm_flux', 'm_flux_uncertainty', 'm_origin', 'm_degree', 'm_degree_uncertainty', 'm_angle', 'm_angle_uncertainty', 'm_date_observed', 'm_frequency_support_display', 's_ra_deg', 's_ra_deg_uncertainty', 's_dec_deg', 's_dec_deg_uncertainty', 'b_spectral_index', 'band_name', 'schema_name', 'utype', 'description', 'schema_name', 'table_name', 'table_type', 'utype', 'description', 'table_index', 'table_name', 'column_name', 'utype', 'ucd', 'unit', 'description', 'datatype', 'arraysize', 'xtype', '\"size\"', 'principal', 'indexed', 'std', 'column_index', 'key_id', 'from_table', 'target_table', 'utype', 'description', 'key_id', 'from_column', 'target_column', 'obs_publisher_did', 'obs_collection', 'facility_name', 'instrument_name', 'obs_id', 'dataproduct_type', 'calib_level', 'collections', 'target_name', 's_ra', 's_dec', 's_fov', 's_region', 'schema_index', 's_xel1', 's_xel2', 'em_xel', 't_xel', 'pol_xel', 's_resolution', 't_min', 't_max', 't_exptime', 't_resolution', 'em_min', 'em_max', 'em_res_power', 'pol_states', 'cont_sensitivity_bandwidth', 'pwv', 'group_ous_uid', 'member_ous_uid', 'asdm_uid', 'obs_title', 'type', 'scan_intent', 'science_observation', 'spatial_scale_max', 'qa2_passed', 'bib_reference', 'science_keyword', 'scientific_category', 'pi_userid', 'pi_name', 'spectral_resolution', 'o_ucd', 'access_url', 'access_format', 'access_estsize', 'proposal_id', 'data_rights', 'gal_longitude', 'gal_latitude', 'band_list', 'em_resolution', 'bandwidth', 'antenna_arrays', 'is_mosaic', 'obs_release_date', 'spatial_resolution', 'frequency_support', 'frequency', 'velocity_resolution', 'obs_creator_name', 'pub_title', 'first_author', 'authors', 'pub_abstract', 'publication_year', 'proposal_abstract', 'schedblock_name', 'proposal_authors', 'sensitivity_10kms', 'lastModified', 'catalogue_name']\n"
          ]
        }
      ],
      "source": [
        "# Query the metadata\n",
        "metadata_query = \"\"\" SELECT column_name, unit, description\n",
        "                     FROM TAP_SCHEMA.columns \"\"\"\n",
        "\n",
        "TAP_metadata = service.search(metadata_query)\n",
        "\n",
        "# Convert in pandas dataframe\n",
        "TAP_metadata_pd = pd.DataFrame(TAP_metadata).set_index('column_name')\n",
        "\n",
        "print(TAP_metadata_pd.index.to_list())"
      ]
    },
    {
      "cell_type": "markdown",
      "metadata": {
        "editable": true,
        "tags": [],
        "id": "B5RFVYSunqzX"
      },
      "source": [
        "## Get information about a column"
      ]
    },
    {
      "cell_type": "code",
      "execution_count": 22,
      "metadata": {
        "editable": true,
        "id": "W2Q99-Ko0wHE",
        "outputId": "fd7d2a1c-4d47-4b3e-e045-b92aba063b02",
        "tags": [],
        "colab": {
          "base_uri": "https://localhost:8080/",
          "height": 599
        }
      },
      "outputs": [
        {
          "output_type": "stream",
          "name": "stdout",
          "text": [
            "\u001b[1mColumn: \u001b[0m \n"
          ]
        },
        {
          "output_type": "error",
          "ename": "KeyError",
          "evalue": "''",
          "traceback": [
            "\u001b[0;31m---------------------------------------------------------------------------\u001b[0m",
            "\u001b[0;31mKeyError\u001b[0m                                  Traceback (most recent call last)",
            "\u001b[0;32m/usr/local/lib/python3.11/dist-packages/pandas/core/indexes/base.py\u001b[0m in \u001b[0;36mget_loc\u001b[0;34m(self, key)\u001b[0m\n\u001b[1;32m   3804\u001b[0m         \u001b[0;32mtry\u001b[0m\u001b[0;34m:\u001b[0m\u001b[0;34m\u001b[0m\u001b[0;34m\u001b[0m\u001b[0m\n\u001b[0;32m-> 3805\u001b[0;31m             \u001b[0;32mreturn\u001b[0m \u001b[0mself\u001b[0m\u001b[0;34m.\u001b[0m\u001b[0m_engine\u001b[0m\u001b[0;34m.\u001b[0m\u001b[0mget_loc\u001b[0m\u001b[0;34m(\u001b[0m\u001b[0mcasted_key\u001b[0m\u001b[0;34m)\u001b[0m\u001b[0;34m\u001b[0m\u001b[0;34m\u001b[0m\u001b[0m\n\u001b[0m\u001b[1;32m   3806\u001b[0m         \u001b[0;32mexcept\u001b[0m \u001b[0mKeyError\u001b[0m \u001b[0;32mas\u001b[0m \u001b[0merr\u001b[0m\u001b[0;34m:\u001b[0m\u001b[0;34m\u001b[0m\u001b[0;34m\u001b[0m\u001b[0m\n",
            "\u001b[0;32mindex.pyx\u001b[0m in \u001b[0;36mpandas._libs.index.IndexEngine.get_loc\u001b[0;34m()\u001b[0m\n",
            "\u001b[0;32mindex.pyx\u001b[0m in \u001b[0;36mpandas._libs.index.IndexEngine.get_loc\u001b[0;34m()\u001b[0m\n",
            "\u001b[0;32mindex.pyx\u001b[0m in \u001b[0;36mpandas._libs.index.IndexEngine._get_loc_duplicates\u001b[0;34m()\u001b[0m\n",
            "\u001b[0;32mindex.pyx\u001b[0m in \u001b[0;36mpandas._libs.index.IndexEngine._maybe_get_bool_indexer\u001b[0;34m()\u001b[0m\n",
            "\u001b[0;32mindex.pyx\u001b[0m in \u001b[0;36mpandas._libs.index._unpack_bool_indexer\u001b[0;34m()\u001b[0m\n",
            "\u001b[0;31mKeyError\u001b[0m: ''",
            "\nThe above exception was the direct cause of the following exception:\n",
            "\u001b[0;31mKeyError\u001b[0m                                  Traceback (most recent call last)",
            "\u001b[0;32m<ipython-input-22-885fc3ca7d11>\u001b[0m in \u001b[0;36m<cell line: 0>\u001b[0;34m()\u001b[0m\n\u001b[1;32m      6\u001b[0m \u001b[0;31m# Get the description of a given column\u001b[0m\u001b[0;34m\u001b[0m\u001b[0;34m\u001b[0m\u001b[0m\n\u001b[1;32m      7\u001b[0m print(\"\\n\\033[1mDescription: \\033[0m\", \n\u001b[0;32m----> 8\u001b[0;31m       TAP_metadata_pd.loc[ column , 'description'])\n\u001b[0m\u001b[1;32m      9\u001b[0m \u001b[0;34m\u001b[0m\u001b[0m\n\u001b[1;32m     10\u001b[0m \u001b[0;31m# Get the units of a given column\u001b[0m\u001b[0;34m\u001b[0m\u001b[0;34m\u001b[0m\u001b[0m\n",
            "\u001b[0;32m/usr/local/lib/python3.11/dist-packages/pandas/core/indexing.py\u001b[0m in \u001b[0;36m__getitem__\u001b[0;34m(self, key)\u001b[0m\n\u001b[1;32m   1182\u001b[0m             \u001b[0;32mif\u001b[0m \u001b[0mself\u001b[0m\u001b[0;34m.\u001b[0m\u001b[0m_is_scalar_access\u001b[0m\u001b[0;34m(\u001b[0m\u001b[0mkey\u001b[0m\u001b[0;34m)\u001b[0m\u001b[0;34m:\u001b[0m\u001b[0;34m\u001b[0m\u001b[0;34m\u001b[0m\u001b[0m\n\u001b[1;32m   1183\u001b[0m                 \u001b[0;32mreturn\u001b[0m \u001b[0mself\u001b[0m\u001b[0;34m.\u001b[0m\u001b[0mobj\u001b[0m\u001b[0;34m.\u001b[0m\u001b[0m_get_value\u001b[0m\u001b[0;34m(\u001b[0m\u001b[0;34m*\u001b[0m\u001b[0mkey\u001b[0m\u001b[0;34m,\u001b[0m \u001b[0mtakeable\u001b[0m\u001b[0;34m=\u001b[0m\u001b[0mself\u001b[0m\u001b[0;34m.\u001b[0m\u001b[0m_takeable\u001b[0m\u001b[0;34m)\u001b[0m\u001b[0;34m\u001b[0m\u001b[0;34m\u001b[0m\u001b[0m\n\u001b[0;32m-> 1184\u001b[0;31m             \u001b[0;32mreturn\u001b[0m \u001b[0mself\u001b[0m\u001b[0;34m.\u001b[0m\u001b[0m_getitem_tuple\u001b[0m\u001b[0;34m(\u001b[0m\u001b[0mkey\u001b[0m\u001b[0;34m)\u001b[0m\u001b[0;34m\u001b[0m\u001b[0;34m\u001b[0m\u001b[0m\n\u001b[0m\u001b[1;32m   1185\u001b[0m         \u001b[0;32melse\u001b[0m\u001b[0;34m:\u001b[0m\u001b[0;34m\u001b[0m\u001b[0;34m\u001b[0m\u001b[0m\n\u001b[1;32m   1186\u001b[0m             \u001b[0;31m# we by definition only have the 0th axis\u001b[0m\u001b[0;34m\u001b[0m\u001b[0;34m\u001b[0m\u001b[0m\n",
            "\u001b[0;32m/usr/local/lib/python3.11/dist-packages/pandas/core/indexing.py\u001b[0m in \u001b[0;36m_getitem_tuple\u001b[0;34m(self, tup)\u001b[0m\n\u001b[1;32m   1366\u001b[0m         \u001b[0;32mwith\u001b[0m \u001b[0msuppress\u001b[0m\u001b[0;34m(\u001b[0m\u001b[0mIndexingError\u001b[0m\u001b[0;34m)\u001b[0m\u001b[0;34m:\u001b[0m\u001b[0;34m\u001b[0m\u001b[0;34m\u001b[0m\u001b[0m\n\u001b[1;32m   1367\u001b[0m             \u001b[0mtup\u001b[0m \u001b[0;34m=\u001b[0m \u001b[0mself\u001b[0m\u001b[0;34m.\u001b[0m\u001b[0m_expand_ellipsis\u001b[0m\u001b[0;34m(\u001b[0m\u001b[0mtup\u001b[0m\u001b[0;34m)\u001b[0m\u001b[0;34m\u001b[0m\u001b[0;34m\u001b[0m\u001b[0m\n\u001b[0;32m-> 1368\u001b[0;31m             \u001b[0;32mreturn\u001b[0m \u001b[0mself\u001b[0m\u001b[0;34m.\u001b[0m\u001b[0m_getitem_lowerdim\u001b[0m\u001b[0;34m(\u001b[0m\u001b[0mtup\u001b[0m\u001b[0;34m)\u001b[0m\u001b[0;34m\u001b[0m\u001b[0;34m\u001b[0m\u001b[0m\n\u001b[0m\u001b[1;32m   1369\u001b[0m \u001b[0;34m\u001b[0m\u001b[0m\n\u001b[1;32m   1370\u001b[0m         \u001b[0;31m# no multi-index, so validate all of the indexers\u001b[0m\u001b[0;34m\u001b[0m\u001b[0;34m\u001b[0m\u001b[0m\n",
            "\u001b[0;32m/usr/local/lib/python3.11/dist-packages/pandas/core/indexing.py\u001b[0m in \u001b[0;36m_getitem_lowerdim\u001b[0;34m(self, tup)\u001b[0m\n\u001b[1;32m   1063\u001b[0m                 \u001b[0;31m# We don't need to check for tuples here because those are\u001b[0m\u001b[0;34m\u001b[0m\u001b[0;34m\u001b[0m\u001b[0m\n\u001b[1;32m   1064\u001b[0m                 \u001b[0;31m#  caught by the _is_nested_tuple_indexer check above.\u001b[0m\u001b[0;34m\u001b[0m\u001b[0;34m\u001b[0m\u001b[0m\n\u001b[0;32m-> 1065\u001b[0;31m                 \u001b[0msection\u001b[0m \u001b[0;34m=\u001b[0m \u001b[0mself\u001b[0m\u001b[0;34m.\u001b[0m\u001b[0m_getitem_axis\u001b[0m\u001b[0;34m(\u001b[0m\u001b[0mkey\u001b[0m\u001b[0;34m,\u001b[0m \u001b[0maxis\u001b[0m\u001b[0;34m=\u001b[0m\u001b[0mi\u001b[0m\u001b[0;34m)\u001b[0m\u001b[0;34m\u001b[0m\u001b[0;34m\u001b[0m\u001b[0m\n\u001b[0m\u001b[1;32m   1066\u001b[0m \u001b[0;34m\u001b[0m\u001b[0m\n\u001b[1;32m   1067\u001b[0m                 \u001b[0;31m# We should never have a scalar section here, because\u001b[0m\u001b[0;34m\u001b[0m\u001b[0;34m\u001b[0m\u001b[0m\n",
            "\u001b[0;32m/usr/local/lib/python3.11/dist-packages/pandas/core/indexing.py\u001b[0m in \u001b[0;36m_getitem_axis\u001b[0;34m(self, key, axis)\u001b[0m\n\u001b[1;32m   1429\u001b[0m         \u001b[0;31m# fall thru to straight lookup\u001b[0m\u001b[0;34m\u001b[0m\u001b[0;34m\u001b[0m\u001b[0m\n\u001b[1;32m   1430\u001b[0m         \u001b[0mself\u001b[0m\u001b[0;34m.\u001b[0m\u001b[0m_validate_key\u001b[0m\u001b[0;34m(\u001b[0m\u001b[0mkey\u001b[0m\u001b[0;34m,\u001b[0m \u001b[0maxis\u001b[0m\u001b[0;34m)\u001b[0m\u001b[0;34m\u001b[0m\u001b[0;34m\u001b[0m\u001b[0m\n\u001b[0;32m-> 1431\u001b[0;31m         \u001b[0;32mreturn\u001b[0m \u001b[0mself\u001b[0m\u001b[0;34m.\u001b[0m\u001b[0m_get_label\u001b[0m\u001b[0;34m(\u001b[0m\u001b[0mkey\u001b[0m\u001b[0;34m,\u001b[0m \u001b[0maxis\u001b[0m\u001b[0;34m=\u001b[0m\u001b[0maxis\u001b[0m\u001b[0;34m)\u001b[0m\u001b[0;34m\u001b[0m\u001b[0;34m\u001b[0m\u001b[0m\n\u001b[0m\u001b[1;32m   1432\u001b[0m \u001b[0;34m\u001b[0m\u001b[0m\n\u001b[1;32m   1433\u001b[0m     \u001b[0;32mdef\u001b[0m \u001b[0m_get_slice_axis\u001b[0m\u001b[0;34m(\u001b[0m\u001b[0mself\u001b[0m\u001b[0;34m,\u001b[0m \u001b[0mslice_obj\u001b[0m\u001b[0;34m:\u001b[0m \u001b[0mslice\u001b[0m\u001b[0;34m,\u001b[0m \u001b[0maxis\u001b[0m\u001b[0;34m:\u001b[0m \u001b[0mAxisInt\u001b[0m\u001b[0;34m)\u001b[0m\u001b[0;34m:\u001b[0m\u001b[0;34m\u001b[0m\u001b[0;34m\u001b[0m\u001b[0m\n",
            "\u001b[0;32m/usr/local/lib/python3.11/dist-packages/pandas/core/indexing.py\u001b[0m in \u001b[0;36m_get_label\u001b[0;34m(self, label, axis)\u001b[0m\n\u001b[1;32m   1379\u001b[0m     \u001b[0;32mdef\u001b[0m \u001b[0m_get_label\u001b[0m\u001b[0;34m(\u001b[0m\u001b[0mself\u001b[0m\u001b[0;34m,\u001b[0m \u001b[0mlabel\u001b[0m\u001b[0;34m,\u001b[0m \u001b[0maxis\u001b[0m\u001b[0;34m:\u001b[0m \u001b[0mAxisInt\u001b[0m\u001b[0;34m)\u001b[0m\u001b[0;34m:\u001b[0m\u001b[0;34m\u001b[0m\u001b[0;34m\u001b[0m\u001b[0m\n\u001b[1;32m   1380\u001b[0m         \u001b[0;31m# GH#5567 this will fail if the label is not present in the axis.\u001b[0m\u001b[0;34m\u001b[0m\u001b[0;34m\u001b[0m\u001b[0m\n\u001b[0;32m-> 1381\u001b[0;31m         \u001b[0;32mreturn\u001b[0m \u001b[0mself\u001b[0m\u001b[0;34m.\u001b[0m\u001b[0mobj\u001b[0m\u001b[0;34m.\u001b[0m\u001b[0mxs\u001b[0m\u001b[0;34m(\u001b[0m\u001b[0mlabel\u001b[0m\u001b[0;34m,\u001b[0m \u001b[0maxis\u001b[0m\u001b[0;34m=\u001b[0m\u001b[0maxis\u001b[0m\u001b[0;34m)\u001b[0m\u001b[0;34m\u001b[0m\u001b[0;34m\u001b[0m\u001b[0m\n\u001b[0m\u001b[1;32m   1382\u001b[0m \u001b[0;34m\u001b[0m\u001b[0m\n\u001b[1;32m   1383\u001b[0m     \u001b[0;32mdef\u001b[0m \u001b[0m_handle_lowerdim_multi_index_axis0\u001b[0m\u001b[0;34m(\u001b[0m\u001b[0mself\u001b[0m\u001b[0;34m,\u001b[0m \u001b[0mtup\u001b[0m\u001b[0;34m:\u001b[0m \u001b[0mtuple\u001b[0m\u001b[0;34m)\u001b[0m\u001b[0;34m:\u001b[0m\u001b[0;34m\u001b[0m\u001b[0;34m\u001b[0m\u001b[0m\n",
            "\u001b[0;32m/usr/local/lib/python3.11/dist-packages/pandas/core/generic.py\u001b[0m in \u001b[0;36mxs\u001b[0;34m(self, key, axis, level, drop_level)\u001b[0m\n\u001b[1;32m   4299\u001b[0m                     \u001b[0mnew_index\u001b[0m \u001b[0;34m=\u001b[0m \u001b[0mindex\u001b[0m\u001b[0;34m[\u001b[0m\u001b[0mloc\u001b[0m\u001b[0;34m]\u001b[0m\u001b[0;34m\u001b[0m\u001b[0;34m\u001b[0m\u001b[0m\n\u001b[1;32m   4300\u001b[0m         \u001b[0;32melse\u001b[0m\u001b[0;34m:\u001b[0m\u001b[0;34m\u001b[0m\u001b[0;34m\u001b[0m\u001b[0m\n\u001b[0;32m-> 4301\u001b[0;31m             \u001b[0mloc\u001b[0m \u001b[0;34m=\u001b[0m \u001b[0mindex\u001b[0m\u001b[0;34m.\u001b[0m\u001b[0mget_loc\u001b[0m\u001b[0;34m(\u001b[0m\u001b[0mkey\u001b[0m\u001b[0;34m)\u001b[0m\u001b[0;34m\u001b[0m\u001b[0;34m\u001b[0m\u001b[0m\n\u001b[0m\u001b[1;32m   4302\u001b[0m \u001b[0;34m\u001b[0m\u001b[0m\n\u001b[1;32m   4303\u001b[0m             \u001b[0;32mif\u001b[0m \u001b[0misinstance\u001b[0m\u001b[0;34m(\u001b[0m\u001b[0mloc\u001b[0m\u001b[0;34m,\u001b[0m \u001b[0mnp\u001b[0m\u001b[0;34m.\u001b[0m\u001b[0mndarray\u001b[0m\u001b[0;34m)\u001b[0m\u001b[0;34m:\u001b[0m\u001b[0;34m\u001b[0m\u001b[0;34m\u001b[0m\u001b[0m\n",
            "\u001b[0;32m/usr/local/lib/python3.11/dist-packages/pandas/core/indexes/base.py\u001b[0m in \u001b[0;36mget_loc\u001b[0;34m(self, key)\u001b[0m\n\u001b[1;32m   3810\u001b[0m             ):\n\u001b[1;32m   3811\u001b[0m                 \u001b[0;32mraise\u001b[0m \u001b[0mInvalidIndexError\u001b[0m\u001b[0;34m(\u001b[0m\u001b[0mkey\u001b[0m\u001b[0;34m)\u001b[0m\u001b[0;34m\u001b[0m\u001b[0;34m\u001b[0m\u001b[0m\n\u001b[0;32m-> 3812\u001b[0;31m             \u001b[0;32mraise\u001b[0m \u001b[0mKeyError\u001b[0m\u001b[0;34m(\u001b[0m\u001b[0mkey\u001b[0m\u001b[0;34m)\u001b[0m \u001b[0;32mfrom\u001b[0m \u001b[0merr\u001b[0m\u001b[0;34m\u001b[0m\u001b[0;34m\u001b[0m\u001b[0m\n\u001b[0m\u001b[1;32m   3813\u001b[0m         \u001b[0;32mexcept\u001b[0m \u001b[0mTypeError\u001b[0m\u001b[0;34m:\u001b[0m\u001b[0;34m\u001b[0m\u001b[0;34m\u001b[0m\u001b[0m\n\u001b[1;32m   3814\u001b[0m             \u001b[0;31m# If we have a listlike key, _check_indexing_error will raise\u001b[0m\u001b[0;34m\u001b[0m\u001b[0;34m\u001b[0m\u001b[0m\n",
            "\u001b[0;31mKeyError\u001b[0m: ''"
          ]
        }
      ],
      "source": [
        "column = ''\n",
        "\n",
        "#Print the column name\n",
        "print(\"\\033[1mColumn: \\033[0m\", column )\n",
        "\n",
        "# Get the description of a given column\n",
        "print(\"\\n\\033[1mDescription: \\033[0m\",\n",
        "      TAP_metadata_pd.loc[ column , 'description'])\n",
        "\n",
        "# Get the units of a given column\n",
        "print(\"\\n\\033[1mUnits: \\033[0m\",\n",
        "      TAP_metadata_pd.loc[ column , 'unit'])"
      ]
    },
    {
      "cell_type": "markdown",
      "metadata": {
        "editable": true,
        "tags": [],
        "id": "0I61e2UUnqzY"
      },
      "source": [
        "## Pandas Dataframe"
      ]
    },
    {
      "cell_type": "markdown",
      "metadata": {
        "editable": true,
        "tags": [],
        "id": "PSFmSKE7nqzZ"
      },
      "source": [
        "PyVO provides the capability to display tables in **Pandas** format, which is particularly useful for data visualization."
      ]
    },
    {
      "cell_type": "markdown",
      "metadata": {
        "editable": true,
        "tags": [],
        "id": "-K7PAZ6UnqzZ"
      },
      "source": [
        "### Pandas table display set-up"
      ]
    },
    {
      "cell_type": "code",
      "execution_count": null,
      "metadata": {
        "editable": true,
        "tags": [],
        "id": "dc5O6xxZnqzZ"
      },
      "outputs": [],
      "source": [
        "pd.set_option('display.max_rows', 4)\n",
        "pd.set_option('display.max_columns', 6)"
      ]
    },
    {
      "cell_type": "markdown",
      "metadata": {
        "editable": true,
        "tags": [],
        "id": "A7dWuC-Vnqza"
      },
      "source": [
        "**BEWARE:** You can choose to display all the rows or columns using `pd.set_option(..., None)`, but this may overload your notebook and crash the kernel!"
      ]
    },
    {
      "cell_type": "markdown",
      "metadata": {
        "editable": true,
        "id": "6_WQkDjW0wHG",
        "tags": []
      },
      "source": [
        "##  Query by coordinates\n",
        "#### **RA** = 67.910462 , **Dec** = 18.232739, **Search radius** = 0.005 degrees:"
      ]
    },
    {
      "cell_type": "code",
      "execution_count": null,
      "metadata": {
        "editable": true,
        "id": "mvsoW6gY0wHH",
        "tags": [
          "hide_output"
        ]
      },
      "outputs": [],
      "source": [
        "query = f\"\"\"\n",
        "        SELECT *\n",
        "        FROM ivoa.obscore\n",
        "        WHERE INTERSECTS(\n",
        "                CIRCLE( 'ICRS', ... )\n",
        "                ,s_region ) =1\n",
        "        \"\"\"\n",
        "q_results = service.search(query).to_table().to_pandas()\n",
        "q_results"
      ]
    },
    {
      "cell_type": "markdown",
      "metadata": {
        "editable": true,
        "tags": [],
        "id": "5EDEIPDsnqzb"
      },
      "source": [
        "## Query by a list of coordinates\n",
        "#### **RA** = 67.910462 , **Dec** = 18.232739\n",
        "#### **RA** = 165.466277, **Dec** = -34.704758"
      ]
    },
    {
      "cell_type": "code",
      "execution_count": null,
      "metadata": {
        "editable": true,
        "tags": [],
        "id": "oy-ZSVzMnqzc"
      },
      "outputs": [],
      "source": [
        "ra_list = [ ]\n",
        "dec_list = [ ]\n",
        "radius = ...\n",
        "\n",
        "coord_conditions = [f\"\"\"INTERSECTS(CIRCLE('ICRS',{c[0]},{c[1]},{radius})\n",
        "                    ,s_region)=1\"\"\" for c in zip(ra_list, dec_list)]\n",
        "\n",
        "query = f\"\"\"\n",
        "        SELECT *\n",
        "        FROM ivoa.obscore\n",
        "        WHERE {\" OR \".join(coord_conditions)}\"\"\"\n",
        "\n",
        "q_results = service.search(query).to_table().to_pandas()\n",
        "q_results"
      ]
    },
    {
      "cell_type": "markdown",
      "metadata": {
        "editable": true,
        "id": "9SVnuczV0wHj",
        "tags": []
      },
      "source": [
        "## Query by astropy coordinates\n",
        "#### Name: HL Tau"
      ]
    },
    {
      "cell_type": "code",
      "execution_count": null,
      "metadata": {
        "editable": true,
        "id": "-_57zJx40wHk",
        "tags": []
      },
      "outputs": [],
      "source": [
        "import astropy\n",
        "coordinates = astropy.coordinates.SkyCoord.from_name(\"HL Tau\")\n",
        "ra = float(coordinates.ra.degree)\n",
        "dec = float(coordinates.dec.degree)\n",
        "\n",
        "query = f\"\"\"\n",
        "            SELECT *\n",
        "            FROM ivoa.obscore\n",
        "            WHERE INTERSECTS(CIRCLE('ICRS',{ra},{dec},0.005),\n",
        "            s_region)=1\n",
        "        \"\"\"\n",
        "q_results = service.search(query).to_table().to_pandas()\n",
        "q_results"
      ]
    },
    {
      "cell_type": "markdown",
      "metadata": {
        "editable": true,
        "id": "L6S9i92Q0wHL",
        "tags": []
      },
      "source": [
        "## Display the output query"
      ]
    },
    {
      "cell_type": "markdown",
      "metadata": {
        "editable": true,
        "id": "qKoV2r5N0wHT",
        "tags": []
      },
      "source": [
        "### Display all the column names in the output query:"
      ]
    },
    {
      "cell_type": "code",
      "execution_count": null,
      "metadata": {
        "editable": true,
        "id": "ONzbpJV00wHU",
        "tags": []
      },
      "outputs": [],
      "source": [
        "print(q_results.columns)"
      ]
    },
    {
      "cell_type": "markdown",
      "metadata": {
        "editable": true,
        "tags": [],
        "id": "UgM5hdA5nqzg"
      },
      "source": [
        "### Query only specific columns:\n",
        "#### ALma source name, Project code, Coordinates, Frequency, Spatial Resolution, Alma Band"
      ]
    },
    {
      "cell_type": "code",
      "execution_count": null,
      "metadata": {
        "editable": true,
        "tags": [],
        "id": "DclepsmYnqzh"
      },
      "outputs": [],
      "source": [
        "query = f\"\"\"\n",
        "        SELECT ...\n",
        "        FROM ivoa.obscore\n",
        "        WHERE INTERSECTS(\n",
        "                CIRCLE( 'ICRS', 165.466277, -34.704758 ,0.005)\n",
        "                ,s_region ) =1\n",
        "        \"\"\"\n",
        "q_results = service.search(query).to_table().to_pandas()\n",
        "q_results"
      ]
    },
    {
      "cell_type": "markdown",
      "metadata": {
        "editable": true,
        "id": "uTMVCCEZ0wHV",
        "tags": []
      },
      "source": [
        "### Display the unique Project code associated with the search results:"
      ]
    },
    {
      "cell_type": "code",
      "execution_count": null,
      "metadata": {
        "editable": true,
        "id": "YZ0GmFOG0wHW",
        "tags": []
      },
      "outputs": [],
      "source": [
        "print(q_results['proposal_id'].unique())"
      ]
    },
    {
      "cell_type": "markdown",
      "metadata": {
        "editable": true,
        "id": "rLnP5iwo0wHX",
        "tags": []
      },
      "source": [
        "### Plot the right ascension and declination of all fields in the search:"
      ]
    },
    {
      "cell_type": "code",
      "execution_count": null,
      "metadata": {
        "editable": true,
        "id": "06pBJzZe0wHZ",
        "scrolled": true,
        "tags": [
          "hide_input"
        ]
      },
      "outputs": [],
      "source": [
        "import matplotlib.pyplot as plt\n",
        "\n",
        "x,y = q_results[...] ,q_results[...]\n",
        "plt.scatter( x , y, marker= '^' )\n",
        "plt.xlabel( 'RA' )\n",
        "plt.ylabel( 'Dec' )\n",
        "plt.show()"
      ]
    },
    {
      "cell_type": "markdown",
      "metadata": {
        "editable": true,
        "tags": [],
        "id": "58Gu6RH_nqzj"
      },
      "source": [
        "## Query by Target Name"
      ]
    },
    {
      "cell_type": "code",
      "execution_count": null,
      "metadata": {
        "editable": true,
        "scrolled": true,
        "tags": [],
        "id": "4Yl-JQ-Dnqzj"
      },
      "outputs": [],
      "source": [
        "query = f\"\"\"\n",
        "            SELECT proposal_id, target_name, s_ra, s_dec, frequency,\n",
        "                   spatial_resolution\n",
        "            FROM ivoa.obscore\n",
        "            WHERE target_name like '...'\n",
        "        \"\"\"\n",
        "q_results = service.search(query).to_table().to_pandas()\n",
        "q_results"
      ]
    },
    {
      "cell_type": "markdown",
      "metadata": {
        "editable": true,
        "id": "Gi_4wVgc0wHb",
        "tags": []
      },
      "source": [
        "## Query by ALMA Project Code\n",
        "### ALMA Large Program DSHARP: 2016.1.00484.L"
      ]
    },
    {
      "cell_type": "code",
      "execution_count": null,
      "metadata": {
        "editable": true,
        "id": "xZ4-altH0wHc",
        "tags": []
      },
      "outputs": [],
      "source": [
        "query = f\"\"\"\n",
        "            SELECT proposal_id, target_name, s_ra, s_dec, frequency,\n",
        "                   spatial_resolution\n",
        "            FROM ivoa.obscore\n",
        "            WHERE proposal_id like '...'\n",
        "        \"\"\"\n",
        "q_results = service.search(query).to_table().to_pandas()\n",
        "q_results"
      ]
    },
    {
      "cell_type": "markdown",
      "metadata": {
        "editable": true,
        "tags": [],
        "id": "DAoJipNLnqzk"
      },
      "source": [
        "## Query by all program from Cycle 5"
      ]
    },
    {
      "cell_type": "code",
      "execution_count": null,
      "metadata": {
        "editable": true,
        "tags": [],
        "id": "Y80CUUVdnqzl"
      },
      "outputs": [],
      "source": [
        "query = f\"\"\"\n",
        "            SELECT proposal_id, target_name, s_ra, s_dec, frequency,\n",
        "                   spatial_resolution\n",
        "            FROM ivoa.obscore\n",
        "            WHERE proposal_id like '...'\n",
        "        \"\"\"\n",
        "q_results = service.search(query).to_table().to_pandas()\n",
        "q_results"
      ]
    },
    {
      "cell_type": "markdown",
      "metadata": {
        "editable": true,
        "id": "g9t-fOrw0wHd",
        "tags": []
      },
      "source": [
        "## Query by all program from Cycle 5\n",
        "### Only full polarization data, angular resolution < 0.1 arcsec:"
      ]
    },
    {
      "cell_type": "code",
      "execution_count": null,
      "metadata": {
        "editable": true,
        "id": "nEyfQcSR0wHe",
        "tags": []
      },
      "outputs": [],
      "source": [
        "query = f\"\"\"\n",
        "            SELECT proposal_id, target_name, s_ra, s_dec, frequency,\n",
        "                   spatial_resolution\n",
        "            FROM ivoa.obscore\n",
        "            WHERE proposal_id like '...'\n",
        "            AND pol_states like '%/XX/XY/YX/YY/%'\n",
        "            AND ...\n",
        "        \"\"\"\n",
        "\n",
        "q_results = service.search(query).to_table().to_pandas()"
      ]
    },
    {
      "cell_type": "markdown",
      "metadata": {
        "editable": true,
        "tags": [],
        "id": "OYoFdpgGnqzm"
      },
      "source": [
        "We can print the proposal ids of our query:"
      ]
    },
    {
      "cell_type": "code",
      "execution_count": null,
      "metadata": {
        "editable": true,
        "tags": [],
        "id": "0OuVzmI-nqzm"
      },
      "outputs": [],
      "source": [
        "print(q_results['proposal_id'].unique())"
      ]
    },
    {
      "cell_type": "markdown",
      "metadata": {
        "editable": true,
        "id": "fIX9XZDg0wHh",
        "tags": []
      },
      "source": [
        "## Query by frequency\n",
        "#### Query all observations that have (a portion of) their spectral coverage overlapping the range [ 115.20 GHz , 115.35 GHz ]:"
      ]
    },
    {
      "cell_type": "code",
      "execution_count": null,
      "metadata": {
        "editable": true,
        "id": "q8Iaw3HG0wHi",
        "tags": []
      },
      "outputs": [],
      "source": [
        "query = f\"\"\"\n",
        "            SELECT proposal_id, frequency, bandwidth\n",
        "            FROM ivoa.obscore\n",
        "            WHERE proposal_id like '%2016%'\n",
        "            AND (frequency - 0.5 * bandwidth/1e9) < ...\n",
        "            AND (frequency + 0.5 * bandwidth/1e9) > ...\n",
        "        \"\"\"\n",
        "q_results = service.search(query).to_table().to_pandas()\n",
        "\n",
        "#Half of the bandwith\n",
        "half_bw = 0.5 * q_results['bandwidth']/ 1e9\n",
        "\n",
        "#Compute min and max frequencies\n",
        "q_results['min_freq'] = q_results['frequency'] - half_bw\n",
        "q_results['max_freq'] = q_results['frequency'] + half_bw"
      ]
    },
    {
      "cell_type": "code",
      "execution_count": null,
      "metadata": {
        "editable": true,
        "tags": [],
        "id": "4g-QkEcJnqzo"
      },
      "outputs": [],
      "source": [
        "q_results[['proposal_id', 'min_freq', 'max_freq']]"
      ]
    },
    {
      "cell_type": "markdown",
      "metadata": {
        "editable": true,
        "tags": [],
        "id": "wVnkYqrvnqzo"
      },
      "source": [
        "## Query by Member OUS ID\n",
        "\n",
        "Search by Member OUS ID in pyVo requires a different formatting:"
      ]
    },
    {
      "cell_type": "code",
      "execution_count": null,
      "metadata": {
        "editable": true,
        "tags": [],
        "id": "BHCZEe7Dnqzo"
      },
      "outputs": [],
      "source": [
        "mous = 'uid://A001/X8c5/X96'\n",
        "mous_formatted = mous.replace(\"___\",\"://\").replace(\"_\",\"/\")\n",
        "# -> uid__A001_X8c5_X96\n",
        "\n",
        "query = f\"\"\"\n",
        "            SELECT *\n",
        "            FROM ivoa.obscore\n",
        "            WHERE member_ous_uid = '{mous_formatted}'\n",
        "        \"\"\"\n",
        "q_results = service.search(query).to_table().to_pandas()\n",
        "q_results"
      ]
    },
    {
      "cell_type": "markdown",
      "metadata": {
        "editable": true,
        "tags": [],
        "id": "t-Zwu0c8nqzp"
      },
      "source": [
        "## Query by bibliography code"
      ]
    },
    {
      "cell_type": "code",
      "execution_count": null,
      "metadata": {
        "editable": true,
        "tags": [],
        "id": "csBpIp6Rnqzp"
      },
      "outputs": [],
      "source": [
        "query = f\"\"\"\n",
        "            SELECT *\n",
        "            FROM ivoa.obscore\n",
        "            WHERE proposal_id like '%2016%'\n",
        "            AND bib_reference like '%2017ApJ...851...55S%'\n",
        "        \"\"\"\n",
        "q_results = service.search(query).to_table().to_pandas()\n",
        "q_results"
      ]
    },
    {
      "cell_type": "markdown",
      "metadata": {
        "editable": true,
        "id": "0qge3BQL0wHr",
        "tags": []
      },
      "source": [
        "## Download data\n",
        "\n",
        "Downloading data using pyVO is quite straightforward, even though it should be done mainly by **one OUS member at a time**, and it requires the different formatting seen before:  "
      ]
    },
    {
      "cell_type": "code",
      "execution_count": null,
      "metadata": {
        "editable": true,
        "id": "gb0qkf9c0wHr",
        "tags": []
      },
      "outputs": [],
      "source": [
        "import os\n",
        "\n",
        "mous = 'uid://A001/X8c5/X96'\n",
        "mous_formatted = mous.replace(\"___\", \"://\").replace(\"_\", \"/\")\n",
        "\n",
        "datalink = pyvo.dal.adhoc.DatalinkResults.from_result_url(\n",
        "    f\"https://almascience.eso.org/datalink/sync?ID={mous_formatted}\")\n",
        "\n",
        "# Uncomment next line to enable the download\n",
        "#for dl in datalink:\n",
        "    #dl.cachedataset(filename = os.path.basename(dl['access_url']))"
      ]
    },
    {
      "cell_type": "markdown",
      "metadata": {
        "editable": true,
        "id": "D5ps3qvP0wHs",
        "tags": []
      },
      "source": [
        "You should now be able to see some tar files downloaded in your current working directory."
      ]
    },
    {
      "cell_type": "markdown",
      "metadata": {
        "editable": true,
        "id": "vnAwGUYz0wHt",
        "tags": [
          "astroquery"
        ]
      },
      "source": [
        "# Part 2.\n",
        "# Astroquery<a name=\"astroquery\"></a>\n",
        "\n",
        "**Astroquery** is an astropy affiliated package that contains a collection of tools for querying astronomical web forms and databases.\n",
        "\n",
        "Each web service has its own sub-package, ALMA included.\n"
      ]
    },
    {
      "cell_type": "markdown",
      "metadata": {
        "editable": true,
        "tags": [],
        "id": "e8xTS4frnqzr"
      },
      "source": [
        "## Set-up"
      ]
    },
    {
      "cell_type": "code",
      "execution_count": null,
      "metadata": {
        "editable": true,
        "tags": [],
        "id": "P2i-H5Tlnqzr"
      },
      "outputs": [],
      "source": [
        "import astroquery\n",
        "print(\"astroquery version: {}\".format(astroquery.__version__))\n",
        "\n",
        "# Import astroquery and other useful packages:\n",
        "from astroquery.alma import Alma\n",
        "import numpy as np\n",
        "import astropy.units as u\n",
        "from astropy.coordinates import SkyCoord\n",
        "\n",
        "#Instantiate alma object/class\n",
        "alma = Alma()"
      ]
    },
    {
      "cell_type": "markdown",
      "metadata": {
        "editable": true,
        "tags": [],
        "id": "Jh8hYgYFnqzr"
      },
      "source": [
        "If you have access to proprietary data, you will need to login to your ALMA account:"
      ]
    },
    {
      "cell_type": "code",
      "execution_count": null,
      "metadata": {
        "editable": true,
        "tags": [],
        "id": "ad8gDiswnqzs"
      },
      "outputs": [],
      "source": [
        "#login_name = \"\"\n",
        "#alma.login(login_name)"
      ]
    },
    {
      "cell_type": "markdown",
      "metadata": {
        "editable": true,
        "tags": [],
        "id": "J7tHVi6_nqzs"
      },
      "source": [
        "## Resources\n",
        "- If you want to access help for a particular command, type `help(command)` and run the cell.\n",
        "- The Astroquery readthedocs is located [here](https://astroquery.readthedocs.io/en/latest/).\n",
        "- The output of astroquery searches are astropy tables (see [astropy tables documentation page](https://docs.astropy.org/en/stable/table/index.html) for more information on how to work with them).\n",
        "- [ALMA Science Archive Notebooks](https://almascience.eso.org/alma-data/archive/archive-notebooks/nb8_ALMA_Query_using_astroquery.html)."
      ]
    },
    {
      "cell_type": "markdown",
      "metadata": {
        "editable": true,
        "id": "DnzbYI8O0wHu",
        "tags": []
      },
      "source": [
        "## Query an object by name\n",
        "\n",
        "We perform an ALMA object query (`alma.query_object`).\n",
        "Astroquery sends the source name to the ALMA Archive, which then resolves the source coordinates using, i.e. Simbad, NED, and Vizier, for matches to the object name. Astroquery returns an astropy table containing information on all of the ALMA archival data towards the object coordinates.\n",
        "\n",
        "The default ALMA search radius is 10 arcminutes.\n"
      ]
    },
    {
      "cell_type": "code",
      "execution_count": null,
      "metadata": {
        "editable": true,
        "id": "CV50YB5C0wHv",
        "scrolled": true,
        "tags": []
      },
      "outputs": [],
      "source": [
        "q_results = alma.query_object(\"...\")\n",
        "q_results.to_pandas()"
      ]
    },
    {
      "cell_type": "markdown",
      "metadata": {
        "editable": true,
        "tags": [],
        "id": "ISj6TiH-nqzt"
      },
      "source": [
        "## Query an object by coordinates\n",
        "\n",
        "Note that you can instead perform a region search (`alma.query_region`).\n",
        "There are multiple valid format for coordinates in astropy ( check the help page for [astropy.coordinates](https://docs.astropy.org/en/stable/coordinates/index.html) ).\n",
        "#### Coordinates: 04h31m38.4s,18d13m57.2s"
      ]
    },
    {
      "cell_type": "code",
      "execution_count": null,
      "metadata": {
        "editable": true,
        "tags": [],
        "id": "zM3DJ64nnqzt"
      },
      "outputs": [],
      "source": [
        "coords = SkyCoord(\"...\",\"...\")\n",
        "q_results = alma.query_region(coords, radius = 10 * u.arcmin)\n",
        "q_results.to_pandas()"
      ]
    },
    {
      "cell_type": "markdown",
      "metadata": {
        "editable": true,
        "id": "GAdjr5Us0wHw",
        "tags": [
          "list"
        ]
      },
      "source": [
        "## Display the output query\n",
        "### Display all the column names in the output query:"
      ]
    },
    {
      "cell_type": "code",
      "execution_count": null,
      "metadata": {
        "editable": true,
        "id": "uj-HMy6B0wHx",
        "scrolled": true,
        "tags": [
          "list"
        ]
      },
      "outputs": [],
      "source": [
        "q_results.colnames"
      ]
    },
    {
      "cell_type": "markdown",
      "metadata": {
        "editable": true,
        "tags": [],
        "id": "5V7zK8ROnqzu"
      },
      "source": [
        "### Display the unique Project code associated with the search results:"
      ]
    },
    {
      "cell_type": "code",
      "execution_count": null,
      "metadata": {
        "editable": true,
        "tags": [],
        "id": "cfKi-OgXnqzu"
      },
      "outputs": [],
      "source": [
        "from astropy.table import unique\n",
        "q_results = unique(q_results, '...')\n",
        "q_results['...'].data.data"
      ]
    },
    {
      "cell_type": "markdown",
      "metadata": {
        "editable": true,
        "id": "k9ZB4Zrz0wHx",
        "tags": []
      },
      "source": [
        "## Query observations by Cycle, ALMA bands and sensitivity\n",
        "#### HL Tau, Data from Band 3 and 4, starting from 2018, sensitivity for a velocity of 10 km/s be less than 10 mJy:"
      ]
    },
    {
      "cell_type": "code",
      "execution_count": null,
      "metadata": {
        "editable": true,
        "id": "UZxmeQvh0wHx",
        "scrolled": true,
        "tags": []
      },
      "outputs": [],
      "source": [
        "from datetime import datetime\n",
        "\n",
        "q_results = alma.query_object(\"...\", payload = dict(\n",
        "            ... = ...,\n",
        "            ... = \"...\"))\n",
        "\n",
        "q_results = q_results[[datetime.fromisoformat(i) > datetime(2018,1,1)\n",
        "                       for i in q_results['obs_release_date']]]\n",
        "\n",
        "q_results.to_pandas()"
      ]
    },
    {
      "cell_type": "markdown",
      "metadata": {
        "editable": true,
        "id": "YQzIkkzC0wIB",
        "tags": []
      },
      "source": [
        "## Compare data\n",
        "First perform a conesearch query (~1 degree) at the position of the COSMOS field centre ( **RA=10h00m24s**, **Dec=+02d10m55s** ) to the ALMA Science Archive:"
      ]
    },
    {
      "cell_type": "code",
      "execution_count": null,
      "metadata": {
        "editable": true,
        "id": "n1Atgisi0wIC",
        "scrolled": true,
        "tags": []
      },
      "outputs": [],
      "source": [
        "from astropy.coordinates import SkyCoord\n",
        "\n",
        "cos_cen = SkyCoord(\"\",frame = 'fk5')\n",
        "c_results = Alma.query_region(cos_cen,radius = 0.5*u.deg)\n",
        "\n",
        "# Keep only the unique observations\n",
        "c_results = unique(c_results,'obs_id')"
      ]
    },
    {
      "cell_type": "markdown",
      "metadata": {
        "editable": true,
        "id": "PVbaE6RJ0wID",
        "tags": []
      },
      "source": [
        "### Use astroquery to query the Herschel Science Archive:"
      ]
    },
    {
      "cell_type": "code",
      "execution_count": null,
      "metadata": {
        "editable": true,
        "id": "I6pyP7L40wIE",
        "scrolled": true,
        "tags": []
      },
      "outputs": [],
      "source": [
        "from astroquery.esa.hsa import HSA\n",
        "h_results = HSA.query_region(cos_cen, radius = 0.5*u.deg)"
      ]
    },
    {
      "cell_type": "markdown",
      "metadata": {
        "editable": true,
        "id": "KytMrMbW0wIF",
        "tags": []
      },
      "source": [
        "### Find what column names are associated with the RA/Dec in the Herschel results:"
      ]
    },
    {
      "cell_type": "code",
      "execution_count": null,
      "metadata": {
        "editable": true,
        "tags": [],
        "id": "zJLZ_LcMnqzx"
      },
      "outputs": [],
      "source": [
        "print(h_results.colnames)"
      ]
    },
    {
      "cell_type": "markdown",
      "metadata": {
        "editable": true,
        "id": "sINZqLmf0wIG",
        "tags": []
      },
      "source": [
        "### Cross-match the two catalogs:"
      ]
    },
    {
      "cell_type": "code",
      "execution_count": null,
      "metadata": {
        "editable": true,
        "id": "crUlNZut0wIG",
        "tags": []
      },
      "outputs": [],
      "source": [
        "c_catalog = SkyCoord(ra= c_results['s_ra'],dec=c_results['s_dec'])\n",
        "h_catalog = SkyCoord(ra= h_results['...'],dec=h_results['...'])\n",
        "idx,d2d,d3d = h_catalog.match_to_catalog_sky(c_catalog)\n",
        "print(idx,d2d)"
      ]
    },
    {
      "cell_type": "code",
      "execution_count": null,
      "metadata": {
        "editable": true,
        "id": "7PvIb2q50wIH",
        "scrolled": true,
        "tags": []
      },
      "outputs": [],
      "source": [
        "c_results[idx].to_pandas()"
      ]
    },
    {
      "cell_type": "markdown",
      "metadata": {
        "editable": true,
        "id": "FsBGz_-d0wHz",
        "tags": []
      },
      "source": [
        "## Use source redshift to check which ALMA band covers line\n",
        "\n",
        "We can query for observation which ALMA band encompasses a specific spectral line. Despite CenA relatively close proximity ($z<<1$), it's good practise to compute the redshifted frequency of the transitions of interest, to verify if they exactly align with the spectral configuration of the ALMA observations.\n",
        "\n",
        "First, we query NED to grab the photometric redshift of AS 209:"
      ]
    },
    {
      "cell_type": "code",
      "execution_count": null,
      "metadata": {
        "editable": true,
        "id": "fqLF_Tz80wH0",
        "tags": []
      },
      "outputs": [],
      "source": [
        "from astroquery.ipac.ned import Ned\n",
        "z_result = Ned.query_object(\"...\")\n",
        "redshift = z_result['Redshift'][0]\n",
        "print('AS 209 redshift = {}\\n'.format(redshift))"
      ]
    },
    {
      "cell_type": "markdown",
      "metadata": {
        "editable": true,
        "id": "-ILDuCxP0wH1",
        "tags": []
      },
      "source": [
        "### Use Splatalogue to get the rest frequencies of our transition of interest\n",
        "\n",
        "#### CO v=0 lines from 1 to 1000 GHz:"
      ]
    },
    {
      "cell_type": "code",
      "execution_count": null,
      "metadata": {
        "editable": true,
        "id": "UrQ3cmPw0wH1",
        "tags": []
      },
      "outputs": [],
      "source": [
        "from astroquery.splatalogue import Splatalogue\n",
        "from IPython.display import HTML\n",
        "\n",
        "l_results = Splatalogue.query_lines(#minfreq,\n",
        "                                    #maxfreq,\n",
        "                                    chemical_name = ' CO v = 0 ',\n",
        "                                   only_NRAO_recommended=True)"
      ]
    },
    {
      "cell_type": "code",
      "execution_count": null,
      "metadata": {
        "editable": true,
        "tags": [],
        "id": "IsNKvH0Snqz0"
      },
      "outputs": [],
      "source": [
        "# TEMPORARY BUG IN SPLATALOGUE!\n",
        "# WE NEED TO FORMAT HTML THE TABLE TO SEE\n",
        "# DIFFERENT COLORS IN THE TABLE!\n",
        "\n",
        "HTML(l_results.to_pandas().to_html(escape=False, max_rows = 6))"
      ]
    },
    {
      "cell_type": "markdown",
      "metadata": {
        "editable": true,
        "tags": [],
        "id": "_v5oBp6rnqz0"
      },
      "source": [
        "### Convert rest frequencies of lines to redshifted values"
      ]
    },
    {
      "cell_type": "code",
      "execution_count": null,
      "metadata": {
        "editable": true,
        "id": "RAYqAgC70wH2",
        "tags": []
      },
      "outputs": [],
      "source": [
        "restfreq = l_results['orderedfreq']\n",
        "\n",
        "shiftfreq = restfreq * u.MHz/ ( 1 + redshift )\n",
        "\n",
        "print('\\nSky frequencies of the first 6 CO v=0 J-transitions:\\n')\n",
        "\n",
        "for i in range(1,7):\n",
        "    print('CO J={}-{}: {}'.format( i , i-1 , shiftfreq[i-1] ) )"
      ]
    },
    {
      "cell_type": "markdown",
      "metadata": {
        "editable": true,
        "id": "Uq7jzukB0wH3",
        "tags": []
      },
      "source": [
        "## Query by redshifted CO lines"
      ]
    },
    {
      "cell_type": "markdown",
      "metadata": {
        "editable": true,
        "tags": [],
        "id": "4-Gl4I1unqz0"
      },
      "source": [
        "We can query alma data accoring to the presence of specific CO transitions within the frequency bands covered by those observations.\n",
        "It is convenient to function **parse_frequency_support** from alma utils which converts the frequency_support column into arrays holding the spectral windows' start and end frequencies:"
      ]
    },
    {
      "cell_type": "code",
      "execution_count": null,
      "metadata": {
        "editable": true,
        "id": "sGW6sdD40wH3",
        "scrolled": true,
        "tags": []
      },
      "outputs": [],
      "source": [
        "from astroquery.alma.utils import parse_frequency_support\n",
        "q_results = alma.query_object(\"HL Tau\")\n",
        "\n",
        "CO_loc = np.array([[any([a[0] < freq < a[1]\n",
        "            # Check if the CO line falls\n",
        "            # within the frequency support range\n",
        "            for a in parse_frequency_support(q_row['frequency_support'])\n",
        "            # for the specific spectral window\n",
        "            if a[0] < q_row['frequency']* u.GHz < a[1]])\n",
        "            # for all the observations\n",
        "            for q_row in q_results]\n",
        "            # for all the CO lines\n",
        "            for freq in shiftfreq]).T\n"
      ]
    },
    {
      "cell_type": "code",
      "execution_count": null,
      "metadata": {
        "editable": true,
        "tags": [],
        "id": "cZY8jVPinqz1"
      },
      "outputs": [],
      "source": [
        "CO_column = ['CO '+' '.join(l_results['resolved_QNs'][a])\n",
        "          if any(a) else ' ' for a in CO_loc]\n",
        "\n",
        "q_results = q_results.to_pandas()\n",
        "q_results.insert(0,'CO data', CO_column)\n",
        "\n",
        "#We keep only the observations that contains at least one CO line:\n",
        "\n",
        "q_results = q_results[q_results['CO data'] != ' ']"
      ]
    },
    {
      "cell_type": "code",
      "execution_count": null,
      "metadata": {
        "editable": true,
        "id": "u2rmDZ980wH4",
        "scrolled": true,
        "tags": []
      },
      "outputs": [],
      "source": [
        "q_results"
      ]
    },
    {
      "cell_type": "markdown",
      "metadata": {
        "editable": true,
        "id": "CaO9hv7b0wH4",
        "tags": []
      },
      "source": [
        "## Download ALMA data\n",
        "\n",
        "Once you have decided which data you would like to work with locally, you can download it from the archive using the `access_url` provided in the astropy table. `alma.get_data_info` can be used to further list what is in each tarfile in the archive."
      ]
    },
    {
      "cell_type": "markdown",
      "metadata": {
        "editable": true,
        "id": "9k57r-9w0wH7",
        "tags": []
      },
      "source": [
        "### List what is in the first two archives (to cut down on time):\n",
        "Note: this may take some time."
      ]
    },
    {
      "cell_type": "code",
      "execution_count": null,
      "metadata": {
        "editable": true,
        "id": "UzDEO7fI0wH7",
        "scrolled": true,
        "tags": []
      },
      "outputs": [],
      "source": [
        "uid_url_tab_list = [alma.get_data_info(a, expand_tarfiles=True)\n",
        "                    for a in q_results['member_ous_uid'][:2]]"
      ]
    },
    {
      "cell_type": "markdown",
      "metadata": {
        "editable": true,
        "id": "wM6xJwfi0wH8",
        "tags": []
      },
      "source": [
        "### Make a list of only the FITS files and print the URLs:"
      ]
    },
    {
      "cell_type": "code",
      "execution_count": null,
      "metadata": {
        "editable": true,
        "id": "wR7Nq9oF0wH8",
        "scrolled": true,
        "tags": []
      },
      "outputs": [],
      "source": [
        "fits_urls = [[url for url in tab['access_url'] if '.fits' in url]\n",
        "             for tab in uid_url_tab_list]\n",
        "print(fits_urls)"
      ]
    },
    {
      "cell_type": "markdown",
      "metadata": {
        "editable": true,
        "id": "jXRhdql50wH-",
        "tags": []
      },
      "source": [
        "### Set a local cache for the data and download:"
      ]
    },
    {
      "cell_type": "code",
      "execution_count": null,
      "metadata": {
        "editable": true,
        "id": "XARo-KMp0wH_",
        "tags": []
      },
      "outputs": [],
      "source": [
        "Alma.cache_location = '/big/external/drive/'\n",
        "\n",
        "# Uncomment the lines below to start the download\n",
        "#files = [alma.download_files(url,cache=True) for url in fits_urls]\n",
        "#print(files)"
      ]
    },
    {
      "cell_type": "markdown",
      "metadata": {
        "editable": true,
        "id": "nqWf36E30wIA",
        "tags": []
      },
      "source": [
        "## Use astroquery to send TAP queries (pyVO format)"
      ]
    },
    {
      "cell_type": "markdown",
      "metadata": {
        "id": "3cRnD-Xd0wIA"
      },
      "source": [
        "### Query all observations with central frequencies between 300 and 400 GHz, sensitivity better than 0.5 mJy/beam @ 10 km/s, and science_keyword containing the word 'disk'"
      ]
    },
    {
      "cell_type": "code",
      "execution_count": null,
      "metadata": {
        "editable": true,
        "id": "lW-DFdLu0wIA",
        "scrolled": true,
        "tags": []
      },
      "outputs": [],
      "source": [
        "tap_query = Alma.query_tap(f\"\"\"\n",
        "                           \"\"\")"
      ]
    },
    {
      "cell_type": "code",
      "execution_count": null,
      "metadata": {
        "editable": true,
        "tags": [],
        "id": "5CyszW1Vnqz6"
      },
      "outputs": [],
      "source": [
        "tap_query.to_table().to_pandas()"
      ]
    },
    {
      "cell_type": "markdown",
      "metadata": {
        "editable": true,
        "id": "mWhp2_N-0wII",
        "tags": [
          "alminer"
        ]
      },
      "source": [
        "# Part 3: ALminer<a name=\"alminer\"></a>\n",
        "\n",
        "ALminer is a Python-based code to effectively query, analyse, and visualize the ALMA Science Archive (ASA).\n",
        "\n",
        "Leveraging pyVO, it simplifies ASA queries and user-friendly visualizations and refined filtering. Users can download ALMA data products or raw data for advanced image processing."
      ]
    },
    {
      "cell_type": "markdown",
      "metadata": {
        "editable": true,
        "tags": [],
        "id": "LoKPJzFtnqz7"
      },
      "source": [
        "## Set-up"
      ]
    },
    {
      "cell_type": "code",
      "execution_count": null,
      "metadata": {
        "editable": true,
        "tags": [],
        "id": "ZnHxMWi2nqz7"
      },
      "outputs": [],
      "source": [
        "import alminer"
      ]
    },
    {
      "cell_type": "markdown",
      "metadata": {
        "editable": true,
        "tags": [],
        "id": "S44aEc0rnqz7"
      },
      "source": [
        "## Resources\n",
        "\n",
        "- [ALminer documentation](https://alminer.readthedocs.io/en/latest/).\n",
        "- The most recent version of the code can be found on [GitHub](https://github.com/emerge-erc/ALminer), with an [extensive tutorial Jupyter Notebook](https://nbviewer.org/github/emerge-erc/ALminer/blob/main/notebooks/tutorial/ALminer_tutorial.ipynb?flush_cache=True)\n",
        "- Here is a list of all other possible [scientific categories](https://alminer.readthedocs.io/en/latest/pages/scientific_categories.html) and [keywords](https://alminer.readthedocs.io/en/latest/pages/science_keywords.html) for the `alminer.keysearch` function.\n"
      ]
    },
    {
      "cell_type": "markdown",
      "metadata": {
        "editable": true,
        "id": "JluyyrYL0wIK",
        "tags": []
      },
      "source": [
        "## Query by target name\n",
        "\n",
        "The names must be known objects in SIMBAD, VizieR, or NED."
      ]
    },
    {
      "cell_type": "code",
      "execution_count": null,
      "metadata": {
        "editable": true,
        "id": "adLNSHUh0wIK",
        "tags": []
      },
      "outputs": [],
      "source": [
        "q_results = alminer.target('')"
      ]
    },
    {
      "cell_type": "markdown",
      "metadata": {
        "editable": true,
        "id": "qaJEttp30wIL",
        "tags": []
      },
      "source": [
        "## Display the query results as a table"
      ]
    },
    {
      "cell_type": "markdown",
      "metadata": {
        "editable": true,
        "tags": [],
        "id": "rMJoQ-1Wnqz8"
      },
      "source": [
        "ALminer output is already in a pandas format. With the  `alminer.explore` function, you can control whether or not you want to display all rows and/or all columns  By default, only the 18 most useful columns are shown and the number of rows is truncated.\n",
        "\n",
        "We can use the option `head()` to visualize only the first 5 rows:"
      ]
    },
    {
      "cell_type": "code",
      "execution_count": null,
      "metadata": {
        "editable": true,
        "scrolled": true,
        "tags": [],
        "id": "XVzZExp6nqz8"
      },
      "outputs": [],
      "source": [
        "alminer.explore(q_results, allcols=True, allrows=False).head()"
      ]
    },
    {
      "cell_type": "markdown",
      "metadata": {
        "editable": true,
        "id": "va3XAMZS0wIN",
        "tags": []
      },
      "source": [
        "##  Query by coordinates\n",
        "#### **RA** = 67.910154, **Dec** = \t18.232681\n",
        "#### **Search radius** of 10 arcmin"
      ]
    },
    {
      "cell_type": "code",
      "execution_count": null,
      "metadata": {
        "editable": true,
        "id": "cJheaYYS0wIN",
        "tags": []
      },
      "outputs": [],
      "source": [
        "q_results = alminer.conesearch(ra=..., dec=...,\n",
        "                               search_radius = 10.0)"
      ]
    },
    {
      "cell_type": "markdown",
      "metadata": {
        "editable": true,
        "id": "P7SHnygY0wIO",
        "tags": []
      },
      "source": [
        "## Query by combination of features\n",
        "\n",
        "* Scientific category 'Disks and planet formation\"'\n",
        "* Contain the words 'DSHARP' in their abstracts\n",
        "* Public"
      ]
    },
    {
      "cell_type": "code",
      "execution_count": null,
      "metadata": {
        "editable": true,
        "tags": [],
        "id": "Y8TeAg7hnqz9"
      },
      "outputs": [],
      "source": [
        "query_params = {'proposal_abstract': [''],\n",
        "                'scientific_category':[\"\"]}"
      ]
    },
    {
      "cell_type": "code",
      "execution_count": null,
      "metadata": {
        "editable": true,
        "id": "kdyUQ1sA0wIO",
        "tags": []
      },
      "outputs": [],
      "source": [
        "q_results = alminer.keysearch(query_params,\n",
        "                              public = True,\n",
        "                              print_targets = False)"
      ]
    },
    {
      "cell_type": "markdown",
      "metadata": {
        "editable": true,
        "tags": [],
        "id": "MHdAZKS1nqz-"
      },
      "source": [
        "## Summarize results"
      ]
    },
    {
      "cell_type": "code",
      "execution_count": null,
      "metadata": {
        "editable": true,
        "tags": [],
        "id": "77eJ6ZOUnqz-"
      },
      "outputs": [],
      "source": [
        "alminer.summary(q_results)"
      ]
    },
    {
      "cell_type": "markdown",
      "metadata": {
        "editable": true,
        "tags": [],
        "id": "JmCXXOEsnqz-"
      },
      "source": [
        "## Filter results\n",
        "### Get the description and units of *ang_res_arcsec* column:\n"
      ]
    },
    {
      "cell_type": "code",
      "execution_count": null,
      "metadata": {
        "editable": true,
        "scrolled": true,
        "tags": [],
        "id": "4I9oJ5xSnqz_"
      },
      "outputs": [],
      "source": [
        "alminer.get_info('')"
      ]
    },
    {
      "cell_type": "markdown",
      "metadata": {
        "editable": true,
        "tags": [],
        "id": "9eZcURMcnqz_"
      },
      "source": [
        "### Only keep observations with angular resolutions < 0.1 arcsec:"
      ]
    },
    {
      "cell_type": "code",
      "execution_count": null,
      "metadata": {
        "editable": true,
        "tags": [],
        "id": "NCoIb9bMnqz_"
      },
      "outputs": [],
      "source": [
        "selected = q_results[q_results['ang_res_arcsec'] < 0.1]\n",
        "alminer.summary(selected, print_targets=False)"
      ]
    },
    {
      "cell_type": "markdown",
      "metadata": {
        "editable": true,
        "tags": [],
        "id": "RX1J9HfVnq0A"
      },
      "source": [
        "### Only keep observations with angular resolutions < 0.5 arcsec cointaing a certain frequency:"
      ]
    },
    {
      "cell_type": "code",
      "execution_count": null,
      "metadata": {
        "editable": true,
        "tags": [],
        "id": "DFBBrEJTnq0A"
      },
      "outputs": [],
      "source": [
        "freq = 230.5 #GHz\n",
        "selected = selected[(selected[\"min_freq_GHz\"] < freq) &\n",
        "                        (selected[\"max_freq_GHz\"] > freq)]\n",
        "alminer.summary(selected, print_targets=False)"
      ]
    },
    {
      "cell_type": "markdown",
      "metadata": {
        "editable": true,
        "id": "qVB1cHXA0wIS",
        "tags": []
      },
      "source": [
        "## Plot an overview of the query results"
      ]
    },
    {
      "cell_type": "code",
      "execution_count": null,
      "metadata": {
        "editable": true,
        "id": "2BbyT83E0wIS",
        "tags": []
      },
      "outputs": [],
      "source": [
        "alminer.plot_overview(q_results, showfig=True)"
      ]
    },
    {
      "cell_type": "markdown",
      "metadata": {
        "editable": true,
        "tags": [],
        "id": "rqyE5mqvnq0B"
      },
      "source": [
        "### Print all columns"
      ]
    },
    {
      "cell_type": "code",
      "execution_count": null,
      "metadata": {
        "editable": true,
        "id": "l__ebm8b0wIU",
        "tags": []
      },
      "outputs": [],
      "source": [
        "print(q_results.columns)\n",
        "\n",
        "# Get information about the columns of interest\n",
        "alminer.get_info('ang_res_arcsec')\n",
        "alminer.get_info('vel_res_kms')"
      ]
    },
    {
      "cell_type": "markdown",
      "metadata": {
        "editable": true,
        "id": "IqwDmem30wIY",
        "tags": []
      },
      "source": [
        "### Print the summary of an subquery\n",
        "#### Angular Resolution < 3 arcsec, Velocity Resolution < 60 km/s"
      ]
    },
    {
      "cell_type": "code",
      "execution_count": null,
      "metadata": {
        "editable": true,
        "id": "pRzLwO8P0wIW",
        "tags": []
      },
      "outputs": [],
      "source": [
        "sub_query = q_results[(q_results['ang_res_arcsec'] < ... ) &\n",
        "                    (q_results['vel_res_kms'] < ...)]\n",
        "alminer.summary(sub_query, print_targets=True)"
      ]
    },
    {
      "cell_type": "markdown",
      "metadata": {
        "editable": true,
        "tags": [],
        "id": "_Inyxi77nq0C"
      },
      "source": [
        "### Plot the overview of the subquery"
      ]
    },
    {
      "cell_type": "code",
      "execution_count": null,
      "metadata": {
        "editable": true,
        "id": "VCbulavT0wIa",
        "scrolled": true,
        "tags": []
      },
      "outputs": [],
      "source": [
        "alminer.plot_overview(sub_query) # you can also specify a redshift using the 'z' parameter (default=0)"
      ]
    },
    {
      "cell_type": "markdown",
      "metadata": {
        "editable": true,
        "id": "7EFoHMjY0wIb",
        "tags": []
      },
      "source": [
        "## Query CO lines\n",
        "### Search whether any CO lines are covered in the above observations:\n",
        "Note that if you are interested in observations of targets at high-redshift, you can specify a redshift using the 'z' parameter."
      ]
    },
    {
      "cell_type": "code",
      "execution_count": null,
      "metadata": {
        "editable": true,
        "id": "PXX9pgL20wIb",
        "scrolled": true,
        "tags": []
      },
      "outputs": [],
      "source": [
        "CO_obs = alminer.CO_lines(q_results, z=0)"
      ]
    },
    {
      "cell_type": "markdown",
      "metadata": {
        "editable": true,
        "tags": [],
        "id": "ohv1TTtQnq0D"
      },
      "source": [
        "### Mark redshifted CO lines:"
      ]
    },
    {
      "cell_type": "code",
      "execution_count": null,
      "metadata": {
        "editable": true,
        "tags": [],
        "id": "DxR2DNljnq0D"
      },
      "outputs": [],
      "source": [
        "alminer.plot_overview(q_results, mark_CO=True)"
      ]
    },
    {
      "cell_type": "markdown",
      "metadata": {
        "editable": true,
        "id": "zXk6mkPT0wIb",
        "tags": []
      },
      "source": [
        "### Search whether a given frequency is covered in the observations: 13CO 3-2"
      ]
    },
    {
      "cell_type": "code",
      "execution_count": null,
      "metadata": {
        "editable": true,
        "id": "9xiwVZRO0wIc",
        "tags": []
      },
      "outputs": [],
      "source": [
        "myline_obs = alminer.line_coverage(q_results,\n",
        "                                   line_freq=...,\n",
        "                                   z=0,\n",
        "                                   line_name=\"13CO 3-2\",\n",
        "                                   print_targets=True)"
      ]
    },
    {
      "cell_type": "markdown",
      "metadata": {
        "editable": true,
        "id": "17WixIK30wIc",
        "tags": []
      },
      "source": [
        "### Highlight this frequency in the overview plots:"
      ]
    },
    {
      "cell_type": "code",
      "execution_count": null,
      "metadata": {
        "editable": true,
        "id": "kU3GF6lw0wId",
        "tags": []
      },
      "outputs": [],
      "source": [
        "alminer.plot_line_overview(q_results, line_freq=...)"
      ]
    },
    {
      "cell_type": "markdown",
      "metadata": {
        "editable": true,
        "id": "D71pKcC10wId",
        "tags": []
      },
      "source": [
        "## Download all data products (raw + products)\n",
        "### Download data whether the CO 3-2 frequency is covered in the observations:"
      ]
    },
    {
      "cell_type": "code",
      "execution_count": null,
      "metadata": {
        "editable": true,
        "id": "mtbrsTVn0wIe",
        "tags": []
      },
      "outputs": [],
      "source": [
        "alminer.download_data(myline_obs, fitsonly=False, dryrun=True,\n",
        "                      location='./data', print_urls=False)"
      ]
    },
    {
      "cell_type": "markdown",
      "metadata": {
        "editable": true,
        "id": "OnqosyM10wIf",
        "tags": []
      },
      "source": [
        "### Download only continuum FITS images:"
      ]
    },
    {
      "cell_type": "code",
      "execution_count": null,
      "metadata": {
        "editable": true,
        "id": "F6Xr9mP20wIg",
        "tags": []
      },
      "outputs": [],
      "source": [
        "alminer.download_data(myline_obs, fitsonly=True, dryrun=True,\n",
        "                      location='./data', print_urls=True,\n",
        "                      filename_must_include=['_sci', '.pbcor', 'cont'])"
      ]
    },
    {
      "cell_type": "markdown",
      "metadata": {
        "editable": true,
        "id": "8uTeZmEa0wIg",
        "tags": []
      },
      "source": [
        "## Send a pyVO query using ALminer\n",
        "We can use all the analysis and plotting routines presented before on these observations:"
      ]
    },
    {
      "cell_type": "code",
      "execution_count": null,
      "metadata": {
        "editable": true,
        "id": "IExeZ9Z60wIh",
        "tags": []
      },
      "outputs": [],
      "source": [
        "query_str = f\"\"\"SELECT *\n",
        "                 FROM ivoa.ObsCore\n",
        "                 WHERE frequency > 300\n",
        "                 AND frequency < 400\n",
        "                 AND sensitivity_10kms < 5\n",
        "                 AND science_keyword LIKE '%disk%'\n",
        "            \"\"\"\n",
        "\n",
        "q_results = alminer.run_query(query_str)\n",
        "q_results_obs = alminer.filter_results(q_results, print_targets=False)"
      ]
    },
    {
      "cell_type": "markdown",
      "metadata": {
        "editable": true,
        "tags": [],
        "id": "8wUrlbvOnq0G"
      },
      "source": [
        "<style>\n",
        "\n",
        ".reveal .controls .controls-arrow::after, .reveal .controls .controls-arrow::before {\n",
        "color: #5B5BD5;\n",
        "}\n",
        "    \n",
        ".reveal .slides>section {\n",
        "    overflow-y: auto !important; /* Abilita lo scrolling verticale */\n",
        "    overflow-x: auto !important; /* Abilita lo scrolling orizzontale */\n",
        "    word-wrap: normal !important; /* Disabilita il wrap delle parole */\n",
        "}\n",
        "\n",
        ".reveal {\n",
        "    font-family: \"Ubuntu\", sans-serif;\n",
        "    background-color: #ffffff;\n",
        "}\n",
        "\n",
        ".reveal table {\n",
        "    font-size: 90%;\n",
        "}\n",
        "\n",
        ".jp-MarkdownOutput {\n",
        "  padding-left: 0px;\n",
        "    padding-right: 0px;\n",
        "}\n",
        "\n",
        ".jp-RenderedHTMLCommon > *:last-child {\n",
        "  margin-bottom: 0.5em;\n",
        "overflow-x: auto !important; */\n",
        "}\n",
        "\n",
        ".jp-RenderedHTMLCommon  {\n",
        "    padding-right: 0px;\n",
        "}\n",
        "\n",
        ".jp-Collapser {\n",
        "  flex: 0 0 0;\n",
        "}\n",
        ".reveal h1 {\n",
        "    font-family: \"Ubuntu\", sans-serif;\n",
        "    font-weight: 700;\n",
        "    font-style: normal;\n",
        "}\n",
        "\n",
        "\n",
        ".reveal h2 {\n",
        "    font-family: \"Ubuntu\", sans-serif;\n",
        "    font-weight: 600;\n",
        "    font-style: normal;\n",
        "}\n",
        "\n",
        ".reveal h3 {\n",
        "    font-family: \"Ubuntu\", sans-serif;\n",
        "    font-weight: 500;\n",
        "    font-style: normal;z\n",
        "}\n",
        "\n",
        ".reveal h4 {\n",
        "    font-family: \"Ubuntu\", sans-serif;\n",
        "    font-weight: 400;\n",
        "    font-style: normal;\n",
        "}\n",
        "\n",
        ".reveal p {\n",
        "    font-family: \"Ubuntu\", sans-serif;\n",
        "}\n",
        "\n",
        "    \n",
        ".reveal .slides>section .table-container {\n",
        "    overflow-x: auto; /* Abilita lo scrolling orizzontale quando necessario */\n",
        " max-width: 0px;\n",
        " overflow: hidden;\n",
        " text-overflow: ellipsis;\n",
        " white-space: nowrap;\n",
        "}\n",
        "    \n",
        ".reveal table {\n",
        "    overflow-x: auto;/* Imposta la dimensione del font desiderata */\n",
        " max-width: 0px;\n",
        " overflow: hidden;\n",
        " text-overflow: ellipsis;\n",
        " white-space: nowrap;\n",
        "}\n",
        "\n",
        ".reveal .slides>section table {\n",
        "     overflow-x: auto; /* Imposta la larghezza massima della tabella al 100% della slide */\n",
        " max-width: 0px;\n",
        " overflow: hidden;\n",
        " text-overflow: ellipsis;\n",
        " white-space: nowrap;\n",
        "}\n",
        "\n",
        ".reveal .slides>section .celltag_hide_input .jp-InputArea{\n",
        "    display: none;\n",
        "}\n",
        "    \n",
        ".reveal .slides>section:first-of-type .jp-InputPrompt{\n",
        "    width: 0;\n",
        "    padding-left: 0px;\n",
        "    padding-right: 0px;\n",
        "}\n",
        "\n",
        ".reveal div.highlight > pre{\n",
        "    word-wrap: normal;\n",
        "    word-break: break-word;\n",
        "}\n",
        "    \n",
        ".reveal .slides>section {\n",
        "    overflow-y: auto; /* Enable vertical scrolling */\n",
        "    overflow-x: auto; /* Enable horizontal scrolling */\n",
        "    word-wrap: normal;\n",
        "}\n",
        "\n",
        ".reveal pre code {\n",
        "    background-color: #f0f0f0; /* Aggiungi lo stesso colore di sfondo dei blocchi di codice */\n",
        "    border-radius: 3px; /* Aggiungi bordi arrotondati */\n",
        "    font-weight: bold; /* Rendi il testo in grassetto */\n",
        "    color: #5B5BD5; /* Imposta il colore del testo */\n",
        "    overflow-x: auto; /* Abilita lo scrolling orizzontale se necessario */\n",
        "    overflow-y: auto; /* Abilita lo scrolling verticale se necessario */\n",
        "    font-size: 15pt;\n",
        "}\n",
        "\n",
        ".reveal .slides>section .celltag_list pre{\n",
        "    \n",
        "   font-size: 13pt !important ;\n",
        "    width: 100% !important;\n",
        "    word-break: normal;\n",
        "    white-space: preserve-spaces;\n",
        "    \n",
        "}\n",
        "    \n",
        ".reveal div.jp-OutputArea-output pre{\n",
        "    \n",
        "   font-size: 13pt !important ;\n",
        "    width: 100% !important;\n",
        "    word-break: normal;\n",
        "    white-space: preserve-breaks;\n",
        "    \n",
        "}\n",
        ".reveal p strong {\n",
        "    color: #5B5BD5; /* Imposta il colore del testo in grassetto */\n",
        "}\n",
        "\n",
        ".reveal .slides>section .celltag_bold p strong {\n",
        "    color: #000000; /* Imposta il colore del testo in grassetto */\n",
        "}\n",
        ".reveal .slides>section p code{\n",
        "    background-color:  #f0f0f0  ; /* Light blue background */\n",
        "    padding: 5px; /* Add padding for spacing */\n",
        "    border-radius: 3px; /* Add rounded corners */\n",
        "    font-weight: bold; /* Make text bold */\n",
        "    color:#5B5BD5;\n",
        "    overflow-x: auto;\n",
        "    overflow-y: auto;\n",
        "    word-wrap: normal;\n",
        "}\n",
        "\n",
        ".reveal ul,\n",
        ".reveal li {\n",
        "    font-family: \"Ubuntu\", sans-serif;\n",
        "}\n",
        "\n",
        ".reveal li code{\n",
        "    background-color:  #f0f0f0  ; /* Light blue background */\n",
        "    padding: 5px; /* Add padding for spacing */\n",
        "    border-radius: 3px; /* Add rounded corners */\n",
        "    font-weight: bold; /* Make text bold */\n",
        "    color:#5B5BD5;\n",
        "    overflow-x: auto;\n",
        "    overflow-y: auto;\n",
        "    word-wrap: normal;\n",
        "}\n",
        "\n",
        "\n",
        ".reveal a {\n",
        "    color: #5B5BD5 !important; /* Imposta il colore del testo in grassetto e degli hyperlink */\n",
        "}\n",
        "\n",
        "\n",
        "\n",
        "/* Add background images */\n",
        ".reveal .slides>section .celltag_first\n",
        "    {\n",
        "    background-image: url(\"https://europeanastrobiology.eu/wp-content/uploads/2024/07/EAI-logo-3-1-300x168-1.png\");\n",
        "    background-size: 36% auto;\n",
        "    background-position-x: 0px,165px,410px,728px;\n",
        "    background-repeat: no-repeat;\n",
        "    background-position-y: 280px;\n",
        "}\n",
        "    \n",
        "\n",
        ".reveal .slides>section:first-of-type h1,\n",
        ".reveal .slides>section:first-of-type h2,\n",
        ".reveal .slides>section:first-of-type p {\n",
        "     margin-top: 50px;\n",
        "    color: #5B5BD5;\n",
        "    \n",
        "}\n",
        "    \n",
        ".reveal .slides>section:first-of-type h3{\n",
        "    font-weight: 400;\n",
        "    padding-bottom: 50px;\n",
        "    color: black;\n",
        "    font-family:inherit;\n",
        "    padding-right: 20px\n",
        "}\n",
        "\n",
        ".reveal .slides>section:first-of-type h4 {\n",
        "    font-weight: 300;\n",
        "    padding-bottom: 10px;\n",
        "    color: black;\n",
        "     text-align:right;\n",
        "}\n",
        "\n",
        ".reveal .slides>section:first-of-type p:last-of-type {\n",
        "    margin-bottom: 0px; /* Adjust as needed */\n",
        "}\n",
        "\n",
        ".reveal .slides>section:first-of-type img {\n",
        "    align-self: center;\n",
        "    margin-top: auto;\n",
        "}\n",
        "\n",
        ".reveal .slides>section:first-of-type img {\n",
        "    align-self: center;\n",
        "    margin-top: auto;\n",
        "    max-width: 100%; /* Adjust the percentage as needed */\n",
        "    height: auto;\n",
        "    padding-top: 50 px;\n",
        "}\n",
        "\n",
        "\n",
        ".reveal .slides>section .celltag_alminer {\n",
        "    \n",
        "    background-image: url('https://www.alma-allegro.nl/wp-content/uploads/2021/07/ALminer_logo_header-scaled-e1647277877367.jpg');\n",
        "      position: relative;\n",
        "      padding-top: 170px;\n",
        "      background-repeat: no-repeat;\n",
        "      background-position: top left;\n",
        "      background-size: 80%;\n",
        "      padding-left: 20px;\n",
        "}\n",
        "    \n",
        ".reveal .slides>section .celltag_pyvo {\n",
        "    \n",
        "    background-image: url('https://projectescape.eu/sites/default/files/styles/responsive/public/IVOA_1_0.jpg?itok=D4U-uXrZ');\n",
        "    position: relative;\n",
        "    padding-top: 77px;\n",
        "    background-repeat: no-repeat;\n",
        "    background-position: top right;\n",
        "    background-size: 50%;\n",
        "    padding-left: 0px;\n",
        "}\n",
        "    \n",
        ".reveal .slides>section .celltag_small_url p{\n",
        "    font-size: 14pt !important ;\n",
        "}\n",
        "\n",
        ".reveal .slides>section .celltag_small_url {\n",
        "    \n",
        "    background-image: url('https://encrypted-tbn0.gstatic.com/images?q=tbn:ANd9GcQShHA2uWsQsHlTk_9hKk-2TvOEVSa15TjBNlbREcInz95s1vMM_-CwrPHSGvR4L4lPba4&usqp=CAU');\n",
        "    background-repeat: no-repeat;\n",
        "    background-position: center right;\n",
        "    background-size: 28% auto;\n",
        "}\n",
        "    \n",
        ".reveal .slides>section .celltag_astroquery {\n",
        "    \n",
        "    background-image: url('https://encrypted-tbn0.gstatic.com/images?q=tbn:ANd9GcRi8FeQzWKt6Kwt0DdcFBsCnimxHZULgwnQqqmNoocWKg&s');\n",
        "    background-repeat: no-repeat;\n",
        "    background-position: top right;\n",
        "    background-size: 38% auto;\n",
        "}\n",
        "\n",
        ".reveal .slides>section:first-of-type {\n",
        "    text-align:center;\n",
        "    background-color: #ffffff ;\n",
        "    \n",
        "}\n",
        "/* Fasce superiori e inferiori */\n",
        ".reveal .slides>section:first-of-type::before,\n",
        ".reveal .slides>section:first-of-type::after {\n",
        "    content: '';\n",
        "    position: absolute;\n",
        "    width: 100%;\n",
        "    height: 50px; /* Altezza della fascia */\n",
        "    background-color: #5B5BD5; /* Colore azzurro */\n",
        "    left: 0;\n",
        "    z-index: -1; /* Per posizionare dietro al contenuto */\n",
        "}\n",
        "\n",
        "/* Fascia superiore */\n",
        ".reveal .slides>section:first-of-type::before {\n",
        "    top: 0;\n",
        "}\n",
        "\n",
        "/* Fascia inferiore */\n",
        ".reveal .slides>section:first-of-type::after {\n",
        "    bottom: 0;\n",
        "}\n",
        "\n",
        "img {\n",
        "    width: auto;\n",
        "    height: auto;\n",
        "    max-width: 100%;\n",
        "    max-height: 100%;\n",
        "}\n",
        "\n",
        "\n",
        "</style>"
      ]
    },
    {
      "cell_type": "markdown",
      "metadata": {
        "id": "RO0eHIB7nq0H"
      },
      "source": [
        "## Final Task: retrieve useful fits for the next steps\n",
        "\n",
        "#### 1: hd142527, Band 3, 2018.1.00568.S, full Stokes\n",
        "#### 2: hd142527, Band 7, 2015.1.00425.S, Stokes I, fits file should contain 'field5'\n"
      ]
    },
    {
      "cell_type": "markdown",
      "metadata": {
        "editable": true,
        "jp-MarkdownHeadingCollapsed": true,
        "tags": [
          "hide_output",
          "hide_input"
        ],
        "id": "dxoeI_sfnq0H"
      },
      "source": [
        "## PyVO Exercise:\n",
        "Use PyVO to query the ALMA archive for observations of the protoplanetary disk surrounding HL Tauri that have a frequency range between 100 GHz and 120 GHz. Additionally, filter for observations with a minimum exposure time of 12000 seconds."
      ]
    },
    {
      "cell_type": "markdown",
      "metadata": {
        "editable": true,
        "tags": [
          "hide_output",
          "hide_input"
        ],
        "id": "BUmZd-OLnq0I"
      },
      "source": [
        "## Astropy Exercise:\n",
        "Use Astroquery to query the ALMA archive for observations of the protoplanetary disk surrounding TW Hydra. The observations data should have been release after 2018, and an angular resolution between 0.1 arcseconds and 0.5 arcseconds. Also, its frequency coverage should contain the CO 2-1 emission line (230.538 GHz)"
      ]
    },
    {
      "cell_type": "markdown",
      "metadata": {
        "editable": true,
        "tags": [
          "hide_output",
          "hide_input"
        ],
        "id": "vQVe8idTnq0I"
      },
      "source": [
        "## Alminer Exercise\n",
        "Use Alminer to query the ALMA archive for observations of the protoplanetary disk surrounding DM Tau. The observations should have an angular resolution lower than 0.1 arcseconds. Additionally, filter for ALma band 6, a largest angular scale bigger than 0.49 arcsec and sensitivity better than 0.44 mJy/beam @ 10 km/s."
      ]
    },
    {
      "cell_type": "code",
      "execution_count": null,
      "metadata": {
        "id": "CMYJph_dnq0J"
      },
      "outputs": [],
      "source": []
    }
  ],
  "metadata": {
    "colab": {
      "provenance": [],
      "toc_visible": true
    },
    "kernelspec": {
      "display_name": "Python 3",
      "language": "python",
      "name": "python3"
    },
    "language_info": {
      "codemirror_mode": {
        "name": "ipython",
        "version": 3
      },
      "file_extension": ".py",
      "mimetype": "text/x-python",
      "name": "python",
      "nbconvert_exporter": "python",
      "pygments_lexer": "ipython3",
      "version": "3.11.5"
    }
  },
  "nbformat": 4,
  "nbformat_minor": 0
}